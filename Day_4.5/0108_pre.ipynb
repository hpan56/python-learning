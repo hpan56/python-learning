{
 "cells": [
  {
   "cell_type": "code",
   "execution_count": null,
   "metadata": {},
   "outputs": [],
   "source": [
    "'''\n",
    "q1 假设可可在经营一家茶馆，茶馆卖绿茶、红茶、青茶、白茶、黄茶和黑茶。\n",
    "   可可家的绿茶有西湖龙井(40元/1份)、碧螺春(35/1份)、黄山毛峰(80元/1份)、太平猴魁(50元/1份)；\n",
    "   红茶有正山小种(10元/1份)、滇红(30元/1份)、祁红(80元/1份)；\n",
    "   青茶有大红袍(5元/1份)、铁观音(20元/1份)、凤凰单枞(55元/1份)；\n",
    "   白茶有白毫银针(70元/1份)、白牡丹(10元/1份)、贡眉(25元/1份)；\n",
    "   黄茶有蒙顶黄芽(60元/1份)、广东大叶青(30元/1份)、北港毛尖(5元/1份)、温州黄汤(7元/1份)；\n",
    "   黑茶有蒲圻老情(50元/1份)、普洱(5元/1份)、西路边茶(15元/1份)、六堡茶(30元/1份)。\n",
    "   请你为可可设计一个python程序，以字典为最基础的数据类型为可可建立一个茶叶库存档案，并假设每种茶叶初始库存均为10。\n",
    "   此外请你为可可设计一个模拟顾客来喝茶的程序，实现以下功能：\n",
    "   1. 每当来了一个顾客，就询问顾客想喝什么类型的茶(如绿茶、红茶)，得到顾客的回答后告知顾客本店有什么茶(如碧螺春)。\n",
    "   (询问和回答均以print形式输出，顾客要的茶叶类型及具体茶均为随机，但需要具体茶需要在顾客所说的茶叶类型中)\n",
    "   2. 当得知顾客要的茶后查询库存，若库存不足就告知顾客所要的茶叶没货了，若库存足够就为顾客上茶。\n",
    "   3. 假设每次来的顾客人数为1-4的随机数，每组顾客都喝相同的茶，每个人消耗的茶叶为0.5-1的随机数。\n",
    "   4. 当一种茶叶(如黄山毛峰)库存<0.5时，在店内大声吆喝。(print形式)\n",
    "   5. 当三种茶叶（如蒙顶黄芽）都售罄后，可可就要去补货，于是宣布关门大吉，赶走了所有顾客。(print形式)\n",
    "   6. 补货前，可可想算算今天一共卖了多少钱的茶叶，请你帮帮他。不帮滚\n",
    "   7. 可可关门后，想看看每个类型茶叶(如绿茶、红茶)的出售量(print形式)，然后出门去补货。\n",
    "   8. 每种库存低于5的具体茶，可可都打算补货，每次补货，每种具体茶的库存都会随机增加一个4-8的随机数。\n",
    "   9. 可可补完货后到店，清点了一下每种具体茶的库存(print形式)。\n",
    "   10. 回家前，可可还想算一算今天的净收入是多少(茶叶进货价均为售价的40%，假设除了茶叶外其他支出一共是200元)，请你帮帮他。\n",
    "   11. 某一天，可可在青茶类里又进了10份武夷岩茶(25元/1份)，他想把武夷岩茶也加到档案库里，请你帮帮他。\n",
    "   12. 由于客人投诉北港毛尖太难喝，可可决定不再进货了，并且打算从档案库里删掉，请你帮帮他。\n",
    "'''"
   ]
  },
  {
   "cell_type": "code",
   "execution_count": 1,
   "metadata": {},
   "outputs": [],
   "source": [
    "hoc = {\"正山小种\":[10,10],\"滇红\":[10,30],\"祁红\":[10,80]}\n",
    "lc = {\"西湖龙井\":[10,40],\"碧螺春\":[10,35], \"黄山毛峰\":[10,80], \"太平猴魁\":[10,50]}\n",
    "qc = {\"大红袍\":[10,5], \"铁观音\":[10,20], \"凤凰单枞\":[10,55]}\n",
    "bc = {\"白毫银针\":[10,70], \"白牡丹\":[10,10], \"贡眉\":[10,25]}\n",
    "huc = {\"蒙顶黄芽\":[10,60], \"广东大叶青\":[10,30], \"北港毛尖\":[10,5], \"温州黄汤\":[10,7]}\n",
    "hec = {\"蒲圻老情\":[10,50], \"普洱\":[10,5], \"西路边茶\":[10,15], \"六堡茶\":[10,30]}\n",
    "ljp = {\"hongcha\":hoc, \"lvcha\":lc, \"qingcha\":qc, \"baicha\":bc, \"huangcha\":huc, \"heicha\":hec}"
   ]
  },
  {
   "cell_type": "code",
   "execution_count": 2,
   "metadata": {},
   "outputs": [],
   "source": [
    "import numpy as np\n",
    "import copy"
   ]
  },
  {
   "cell_type": "code",
   "execution_count": 3,
   "metadata": {},
   "outputs": [],
   "source": [
    "def lsq(dic):\n",
    "    ljp = copy.deepcopy(dic)\n",
    "    a = 0\n",
    "    while a < 3:\n",
    "        #print(\"您河沙?\")\n",
    "        hesha = np.random.choice(list(ljp.keys()))\n",
    "        #print(\"俺喝\" + hesha)\n",
    "        hecha = list(ljp[hesha].keys())\n",
    "        #print(\"我有\" + \",\".join(hecha))\n",
    "        he = np.random.choice(hecha)\n",
    "        #print(\"俺喝\" + he)\n",
    "        renshu = np.random.randint(1,5)\n",
    "        yds = sum([np.random.rand(1) / 2 + 0.5 for i in range(renshu+1)])\n",
    "        if yds <= ljp[hesha][he][0]:\n",
    "            #print(\"上茶\")`\n",
    "            ljp[hesha][he][0] -= yds\n",
    "            if ljp[hesha][he][0] < 0.5:\n",
    "                a += 1\n",
    "                print(\"吆喝\")\n",
    "                #b += \n",
    "        else:\n",
    "            pass\n",
    "            #print(\"没货了\")\n",
    "    print(\"老子关门，都给我滚\")\n",
    "    return ljp"
   ]
  },
  {
   "cell_type": "code",
   "execution_count": 13,
   "metadata": {},
   "outputs": [],
   "source": [
    "def gys(dic):\n",
    "    ljp = dic\n",
    "    ljp_sh = lsq(ljp)\n",
    "    price = 0\n",
    "    for i in ljp:\n",
    "        sum_ = 0\n",
    "        for j in ljp[i]:\n",
    "            sum_ += (ljp[i][j][0] - ljp_sh[i][j][0])\n",
    "            price += ((ljp[i][j][0] - ljp_sh[i][j][0]) * ljp[i][j][1])\n",
    "        print(i+\":\"+str(sum_))\n",
    "    print(\"老子今天卖了%f元\" % price)\n",
    "    print(\"老子今天净赚%f元\" % (price*0.6-200))\n",
    "    for i in ljp_sh:\n",
    "        for j in ljp_sh[i]:\n",
    "            if ljp_sh[i][j][0] < 5:\n",
    "                ljp_sh[i][j][0] += np.random.uniform(4,9)\n",
    "    return ljp_sh"
   ]
  },
  {
   "cell_type": "code",
   "execution_count": 15,
   "metadata": {},
   "outputs": [
    {
     "data": {
      "text/plain": [
       "[10, 5]"
      ]
     },
     "execution_count": 15,
     "metadata": {},
     "output_type": "execute_result"
    }
   ],
   "source": [
    "ljp[\"qingcha\"][\"武夷岩茶\"]=[10, 25]\n",
    "ljp[\"huangcha\"].pop(\"北港毛尖\")"
   ]
  },
  {
   "cell_type": "code",
   "execution_count": null,
   "metadata": {},
   "outputs": [],
   "source": [
    "'''\n",
    "q2 可可在经营茶馆前，曾经放过一段时间的羊。他回想起当年放羊的快乐时光，不禁想要写个python程序模拟一下。\n",
    "   无奈可可不会Python，你能帮他吗？可可想要这个程序实现以下功能：\n",
    "   1. 可可一天要喂三次羊，分别是早上8:00，中午12:00和晚上18:00，但他很懒，经常随机迟到n分钟(30<=n<=180)。\n",
    "      请你模拟一下他每天实际喂羊的时间(24小时制)。\n",
    "   2. 可可其实一共帮10户人家放羊，可可每天的消遣之一就是数一数每家有多少羊，并排个序。请你用元组(A人家，羊的数量)帮他实现。\n",
    "   3. 可可放羊的地方天气很好，夜晚总是非常晴朗，从不下雨，能看到很多的星星，放羊的夜晚，可可喜欢躺在草坪上吹着凉爽的夜风，\n",
    "      叼着草根数星星。可可听说星星的数量和农历日期有关。假设初一的时候可可能数到1000颗星星，十六的时候只能数到100颗星星，\n",
    "      假设能看到的星星数量线性递减。假设今年1月1日时是农历初五，可可想知道今年任何日期他能看到的星星数量。\n",
    "'''"
   ]
  },
  {
   "cell_type": "code",
   "execution_count": 26,
   "metadata": {},
   "outputs": [
    {
     "name": "stdout",
     "output_type": "stream",
     "text": [
      "早上喂羊时间： 9:17\n",
      "中午喂羊时间： 14:00\n",
      "晚上喂羊时间： 20:59\n"
     ]
    }
   ],
   "source": [
    "zscd=np.random.randint(30,180)\n",
    "zwcd=np.random.randint(30,180)\n",
    "wscd=np.random.randint(30,180)\n",
    "zsxs=8 + (zscd // 60)\n",
    "zwxs=12 + (zwcd // 60)\n",
    "wsxs=18 + (wscd // 60)\n",
    "zsfz=zscd % 60\n",
    "zwfz=zwcd % 60\n",
    "wsfz=wscd % 60\n",
    "print(\"早上喂羊时间： \" + str(zsxs) + \":\" + \"{:02}\".format(zsfz))\n",
    "print(\"中午喂羊时间： \" + str(zwxs) + \":\" + \"{:02}\".format(zwfz))\n",
    "print(\"晚上喂羊时间： \" + str(wsxs) + \":\" + \"{:02}\".format(wsfz))"
   ]
  },
  {
   "cell_type": "code",
   "execution_count": 83,
   "metadata": {},
   "outputs": [],
   "source": [
    "def xbh(m,d):\n",
    "    ts = 0\n",
    "    for i in range(1,m):\n",
    "        if i in [1,3,5,7,8,10]: \n",
    "            ts += 31\n",
    "        elif i == 2:\n",
    "            ts += 28\n",
    "        else:\n",
    "            ts += 30\n",
    "        print(ts)\n",
    "    ts += d\n",
    "    print(ts)"
   ]
  },
  {
   "cell_type": "code",
   "execution_count": 84,
   "metadata": {},
   "outputs": [
    {
     "name": "stdout",
     "output_type": "stream",
     "text": [
      "31\n",
      "he\n",
      "59\n",
      "60\n"
     ]
    }
   ],
   "source": [
    "xbh(3,1)"
   ]
  },
  {
   "cell_type": "code",
   "execution_count": 87,
   "metadata": {},
   "outputs": [],
   "source": [
    "def xbh(m,d):\n",
    "    ts = 0\n",
    "    for i in range(1,m+1):\n",
    "        if i < m:\n",
    "            if i in [1,3,5,7,8,10]: \n",
    "                ts += 31\n",
    "            elif i == 2:\n",
    "                ts += 28\n",
    "            else:\n",
    "                ts += 30\n",
    "        else:\n",
    "            ts += d\n",
    "    #print(ts)\n",
    "    nl = ts % 30\n",
    "    if nl < 17:\n",
    "        xs = 1000 - 60 * (nl - 1)\n",
    "    else:\n",
    "        xs = 1000 + 60 * (nl - 16 )\n",
    "    print(xs)"
   ]
  },
  {
   "cell_type": "code",
   "execution_count": 93,
   "metadata": {},
   "outputs": [
    {
     "name": "stdout",
     "output_type": "stream",
     "text": [
      "1\n",
      "1000\n"
     ]
    }
   ],
   "source": [
    "xbh(1,1)"
   ]
  },
  {
   "cell_type": "code",
   "execution_count": null,
   "metadata": {},
   "outputs": [],
   "source": []
  }
 ],
 "metadata": {
  "kernelspec": {
   "display_name": "Python 3",
   "language": "python",
   "name": "python3"
  },
  "language_info": {
   "codemirror_mode": {
    "name": "ipython",
    "version": 3
   },
   "file_extension": ".py",
   "mimetype": "text/x-python",
   "name": "python",
   "nbconvert_exporter": "python",
   "pygments_lexer": "ipython3",
   "version": "3.7.4"
  }
 },
 "nbformat": 4,
 "nbformat_minor": 2
}
