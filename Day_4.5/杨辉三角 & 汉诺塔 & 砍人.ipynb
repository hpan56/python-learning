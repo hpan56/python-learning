{
 "cells": [
  {
   "cell_type": "code",
   "execution_count": 21,
   "metadata": {},
   "outputs": [],
   "source": [
    "def triangles():\n",
    "    sanjiao = [1]\n",
    "    i = 1\n",
    "    yield sanjiao.copy()\n",
    "    while True:\n",
    "        sanjiao_1 = sanjiao.copy()\n",
    "        sanjiao.append(1)\n",
    "        for i in range(1,len(sanjiao_1)):\n",
    "            sanjiao[i] = sanjiao_1[i-1] + sanjiao_1[i]\n",
    "            ##index问题\n",
    "            ##应该使用copy的值进行赋值\n",
    "        yield sanjiao.copy()\n",
    "        ##不能返回本身，应该返回.copy()"
   ]
  },
  {
   "cell_type": "code",
   "execution_count": 22,
   "metadata": {},
   "outputs": [
    {
     "name": "stdout",
     "output_type": "stream",
     "text": [
      "[1]\n",
      "[1, 1]\n",
      "[1, 2, 1]\n",
      "[1, 3, 3, 1]\n",
      "[1, 4, 6, 4, 1]\n",
      "[1, 5, 10, 10, 5, 1]\n",
      "[1, 6, 15, 20, 15, 6, 1]\n",
      "[1, 7, 21, 35, 35, 21, 7, 1]\n",
      "[1, 8, 28, 56, 70, 56, 28, 8, 1]\n",
      "[1, 9, 36, 84, 126, 126, 84, 36, 9, 1]\n",
      "测试通过!\n"
     ]
    }
   ],
   "source": [
    "n = 0\n",
    "results = []\n",
    "for t in triangles():\n",
    "    results.append(t)\n",
    "    n = n + 1\n",
    "    if n == 10:\n",
    "        break\n",
    "\n",
    "for t in results:\n",
    "    print(t)\n",
    "\n",
    "if results == [\n",
    "    [1],\n",
    "    [1, 1],\n",
    "    [1, 2, 1],\n",
    "    [1, 3, 3, 1],\n",
    "    [1, 4, 6, 4, 1],\n",
    "    [1, 5, 10, 10, 5, 1],\n",
    "    [1, 6, 15, 20, 15, 6, 1],\n",
    "    [1, 7, 21, 35, 35, 21, 7, 1],\n",
    "    [1, 8, 28, 56, 70, 56, 28, 8, 1],\n",
    "    [1, 9, 36, 84, 126, 126, 84, 36, 9, 1]\n",
    "]:\n",
    "    print('测试通过!')\n",
    "else:\n",
    "    print('测试失败!')"
   ]
  },
  {
   "cell_type": "code",
   "execution_count": 16,
   "metadata": {},
   "outputs": [
    {
     "name": "stdout",
     "output_type": "stream",
     "text": [
      "[1, 3, 3, 4, 5, 6, 7, 8, 9, 10]\n",
      "[1, 3, 6, 4, 5, 6, 7, 8, 9, 10]\n",
      "[1, 3, 6, 10, 5, 6, 7, 8, 9, 10]\n",
      "[1, 3, 6, 10, 15, 6, 7, 8, 9, 10]\n",
      "[1, 3, 6, 10, 15, 21, 7, 8, 9, 10]\n",
      "[1, 3, 6, 10, 15, 21, 28, 8, 9, 10]\n",
      "[1, 3, 6, 10, 15, 21, 28, 36, 9, 10]\n"
     ]
    }
   ],
   "source": [
    "i = 0\n",
    "while True:\n",
    "    i += 1\n",
    "    a_1 = a.copy()\n",
    "    a[i] = a_1[i] + a_1[i-1]\n",
    "    print(a)\n",
    "    if i > 6:\n",
    "        break"
   ]
  },
  {
   "cell_type": "code",
   "execution_count": 27,
   "metadata": {},
   "outputs": [],
   "source": [
    "def hannuota(a, b, c, n):\n",
    "    if n == 1:\n",
    "        print(a,'==>',c)\n",
    "    else:\n",
    "        hannuota(a, c, b, n-1)\n",
    "        print(a,'==>',c)\n",
    "        hannuota(b, a, c, n-1)"
   ]
  },
  {
   "cell_type": "code",
   "execution_count": 28,
   "metadata": {},
   "outputs": [
    {
     "name": "stdout",
     "output_type": "stream",
     "text": [
      "a ==> c\n",
      "a ==> b\n",
      "c ==> b\n",
      "a ==> c\n",
      "b ==> a\n",
      "b ==> c\n",
      "a ==> c\n"
     ]
    }
   ],
   "source": [
    "hannuota('a','b','c',3)"
   ]
  },
  {
   "cell_type": "code",
   "execution_count": null,
   "metadata": {},
   "outputs": [],
   "source": [
    "\"\"\"q10  30 个人在一条船上，超载，需要 15 人下船。\n",
    " 于是人们排成一队，排队的位置即为他们的编号。\n",
    " 报数，从 1 开始，数到 9 的人下船。\n",
    " 如此循环，直到船上仅剩 15 人为止，问都有哪些编号的人下船了呢？\"\"\""
   ]
  },
  {
   "cell_type": "code",
   "execution_count": 61,
   "metadata": {},
   "outputs": [
    {
     "name": "stdout",
     "output_type": "stream",
     "text": [
      "[9]\n",
      "[9, 18]\n",
      "[9, 18, 27]\n",
      "[9, 18, 27, 6]\n",
      "[9, 18, 27, 6, 16]\n",
      "[9, 18, 27, 6, 16, 26]\n",
      "[9, 18, 27, 6, 16, 26, 7]\n",
      "[9, 18, 27, 6, 16, 26, 7, 19]\n",
      "[9, 18, 27, 6, 16, 26, 7, 19, 30]\n",
      "[9, 18, 27, 6, 16, 26, 7, 19, 30, 12]\n",
      "[9, 18, 27, 6, 16, 26, 7, 19, 30, 12, 24]\n",
      "[9, 18, 27, 6, 16, 26, 7, 19, 30, 12, 24, 8]\n",
      "[9, 18, 27, 6, 16, 26, 7, 19, 30, 12, 24, 8, 22]\n",
      "[9, 18, 27, 6, 16, 26, 7, 19, 30, 12, 24, 8, 22, 5]\n",
      "[9, 18, 27, 6, 16, 26, 7, 19, 30, 12, 24, 8, 22, 5, 23]\n",
      "[9, 18, 27, 6, 16, 26, 7, 19, 30, 12, 24, 8, 22, 5, 23]\n",
      "[9, 18, 27, 6, 16, 26, 7, 19, 30, 12, 24, 8, 22, 5, 23]\n"
     ]
    }
   ],
   "source": [
    "chuanshang = list(range(1,31))\n",
    "chuanxia = []\n",
    "chuanshang_copy = chuanshang.copy()\n",
    "while True:\n",
    "    i = 0\n",
    "    ##为什么i=0要放在循环内\n",
    "    k = chuanshang_copy[-1] % 9\n",
    "    ##why not using len(chuanshang) - 在第二轮\n",
    "    while i < len(chuanshang):\n",
    "        if chuanshang_copy[i] % 9 == 0:\n",
    "            ##原先使用的是chuanshang而非chuanshang_copy\n",
    "            ##应该使用chuanshang\n",
    "            chuanxia.append(chuanshang.pop(i))\n",
    "            chuanshang_copy.pop(i)\n",
    "            print(chuanxia)\n",
    "        else:\n",
    "            i += 1\n",
    "            ##当前值被pop掉后index自动减一，否则需要手动增加index\n",
    "            ##使用while循环，每进行一次循环都进行一次判断，并计算len()\n",
    "        if len(chuanxia) == 15:\n",
    "            print(chuanxia)\n",
    "            break\n",
    "    chuanshang_copy = [x + k for x in range(1,len(chuanshang)+1)]\n",
    "    ##为什么不用chuanshang_copy\n",
    "    if len(chuanxia) == 15:\n",
    "        print(chuanxia)\n",
    "        break"
   ]
  },
  {
   "cell_type": "code",
   "execution_count": 52,
   "metadata": {},
   "outputs": [],
   "source": [
    "\"\"\"\n",
    "使用字典实现 - key-号数 value-报数\n",
    "\"\"\""
   ]
  },
  {
   "cell_type": "code",
   "execution_count": 55,
   "metadata": {},
   "outputs": [
    {
     "data": {
      "text/plain": [
       "1"
      ]
     },
     "execution_count": 55,
     "metadata": {},
     "output_type": "execute_result"
    }
   ],
   "source": [
    "b[-1] % 2"
   ]
  },
  {
   "cell_type": "code",
   "execution_count": null,
   "metadata": {},
   "outputs": [],
   "source": []
  }
 ],
 "metadata": {
  "kernelspec": {
   "display_name": "Python 3",
   "language": "python",
   "name": "python3"
  },
  "language_info": {
   "codemirror_mode": {
    "name": "ipython",
    "version": 3
   },
   "file_extension": ".py",
   "mimetype": "text/x-python",
   "name": "python",
   "nbconvert_exporter": "python",
   "pygments_lexer": "ipython3",
   "version": "3.7.4"
  }
 },
 "nbformat": 4,
 "nbformat_minor": 2
}
