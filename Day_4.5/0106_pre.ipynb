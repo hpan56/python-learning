{
 "cells": [
  {
   "cell_type": "code",
   "execution_count": 1,
   "metadata": {},
   "outputs": [
    {
     "data": {
      "text/plain": [
       "'\\nq1 写一个摄氏度华氏度互相转换的函数\\n公式: celsius * 1.8 = fahrenheit - 32\\n'"
      ]
     },
     "execution_count": 1,
     "metadata": {},
     "output_type": "execute_result"
    }
   ],
   "source": [
    "'''\n",
    "q1 写一个摄氏度华氏度互相转换的函数\n",
    "公式: celsius * 1.8 = fahrenheit - 32\n",
    "'''"
   ]
  },
  {
   "cell_type": "code",
   "execution_count": null,
   "metadata": {},
   "outputs": [],
   "source": []
  },
  {
   "cell_type": "code",
   "execution_count": 2,
   "metadata": {},
   "outputs": [
    {
     "data": {
      "text/plain": [
       "'\\nq2 写一个一元二次方程的求根函数，如无实数根则提示无实数根\\n'"
      ]
     },
     "execution_count": 2,
     "metadata": {},
     "output_type": "execute_result"
    }
   ],
   "source": [
    "'''\n",
    "q2 写一个一元二次方程的求根函数，如无实数根则提示无实数根\n",
    "'''"
   ]
  },
  {
   "cell_type": "code",
   "execution_count": null,
   "metadata": {},
   "outputs": [],
   "source": []
  },
  {
   "cell_type": "code",
   "execution_count": null,
   "metadata": {},
   "outputs": [],
   "source": [
    "'''\n",
    "q3 不利用已有的求平方根函数，利用二分法自己编写一个求近似平方根的函数。\n",
    "'''"
   ]
  },
  {
   "cell_type": "code",
   "execution_count": null,
   "metadata": {},
   "outputs": [],
   "source": []
  },
  {
   "cell_type": "code",
   "execution_count": null,
   "metadata": {},
   "outputs": [],
   "source": [
    "'''\n",
    "q4 写一个函数求两个数的最大公约数 (辗转相除法)\n",
    "'''"
   ]
  },
  {
   "cell_type": "code",
   "execution_count": null,
   "metadata": {},
   "outputs": [],
   "source": []
  },
  {
   "cell_type": "code",
   "execution_count": null,
   "metadata": {},
   "outputs": [],
   "source": [
    "'''\n",
    "q5 写一个函数求两个数的最小公倍数 (不用穷举法)\n",
    "'''"
   ]
  },
  {
   "cell_type": "code",
   "execution_count": null,
   "metadata": {},
   "outputs": [],
   "source": []
  },
  {
   "cell_type": "code",
   "execution_count": null,
   "metadata": {},
   "outputs": [],
   "source": [
    "'''\n",
    "q6 不用循环，计算一个数在一个数组(列表类型)中出现的次数\n",
    "'''"
   ]
  },
  {
   "cell_type": "code",
   "execution_count": null,
   "metadata": {},
   "outputs": [],
   "source": []
  },
  {
   "cell_type": "code",
   "execution_count": null,
   "metadata": {},
   "outputs": [],
   "source": [
    "'''\n",
    "q7 写一个函数，统计一个字符串的中每个字符的出现频率\n",
    "'''"
   ]
  },
  {
   "cell_type": "code",
   "execution_count": null,
   "metadata": {},
   "outputs": [],
   "source": []
  },
  {
   "cell_type": "code",
   "execution_count": null,
   "metadata": {},
   "outputs": [],
   "source": [
    "'''\n",
    "q8 写一个程序，逼近圆周率\n",
    "hint: 圆心到圆上任一点的距离为半径，利用模拟的方式，通过单位圆和长度为1的正方形，可逼近圆周率\n",
    "'''"
   ]
  },
  {
   "cell_type": "code",
   "execution_count": null,
   "metadata": {},
   "outputs": [],
   "source": []
  },
  {
   "cell_type": "code",
   "execution_count": null,
   "metadata": {},
   "outputs": [],
   "source": [
    "'''\n",
    "q9 写一个generator function逼近自然对数\n",
    "'''"
   ]
  },
  {
   "cell_type": "code",
   "execution_count": 6,
   "metadata": {},
   "outputs": [
    {
     "name": "stdout",
     "output_type": "stream",
     "text": [
      "2.0 2.25 2.37037037037037 2.44140625 2.4883199999999994 2.5216263717421135 2.546499697040712 2.565784513950348 2.5811747917131984 2.5937424601000023 2.6041990118975287 2.613035290224676 2.6206008878857308 2.6271515563008685 2.6328787177279187 2.6379284973666 2.64241437518311 2.6464258210976865 2.650034326640442 2.653297705144422 2.656263213926108 2.658969858537786 2.6614501186387796 2.663731258068599 2.665836331487422 2.6677849665337465 2.6695939778125704 2.6712778534408463 2.6728491439808066 2.6743187758703026 2.6756963059146854 2.676990129378183 2.678207651253779 2.6793554280957674 2.6804392861534603 2.6814644203008586 2.6824354773085255 2.6833566262745787 2.6842316184670922 2.685063838389963 2.6858563475377526 2.686611922032571 2.687333085118294 2.6880221353133043 2.688681170884324 2.689312111189782 2.6899167153502597 2.6904965986289264 2.691053246842418 2.691588029073608 2.6921022089150086 2.692596954437168 2.6930733470476085 2.6935323893818506 2.6939750123475794 2.6944020814263596 2.694814402322114 2.695212726034574 2.6955977534247255 2.6959701393302162 2.696330496282266 2.6966793978678543 2.697017381776468 2.697344952565099 2.6976625841715243 2.6979707222024034 2.6982697860189915 2.698560170641394 2.698842248489487 2.6991163709761854 2.699382869968298 2.6996420591266403 2.699894235137786 2.7001396788468326 2.700378656300911 2.7006114197110898 2.700838208340397 2.7010592493240737 2.701274758428429 2.7014849407533275 2.701689991383461 2.701890095991989 2.7020854314015796 2.7022761661054715 2.702462460752151 2.7026444685967603 2.702822335921502 2.702996202427776 2.7031662016021554 2.703332461058186 2.703495102855847 2.7036542438003983 2.703809995722089 2.703962465738423 2.704111756499579 2.7042579664191284 2.7044011898901603 2.7045415174887277 2.704679036164753 2.7048138294215285 "
     ]
    }
   ],
   "source": []
  },
  {
   "cell_type": "code",
   "execution_count": null,
   "metadata": {},
   "outputs": [],
   "source": [
    "'''\n",
    "q10 如果一个数中只有少于三个数字是非零的，那么我们称这个数为优美数，我们定义这个优美数的优美程度为这个数所有数字相加的和。 \n",
    "例如优美数有4，200000，10203，其中4的优美度是4，200000的优美度是2，10203的优美度是6. \n",
    "数字4231，102306，7277420000，就不是啰。\n",
    "\n",
    "现在问在【L，R】中，有多少个优美度为x的优美数。\n",
    "'''"
   ]
  },
  {
   "cell_type": "code",
   "execution_count": null,
   "metadata": {},
   "outputs": [],
   "source": []
  },
  {
   "cell_type": "code",
   "execution_count": null,
   "metadata": {},
   "outputs": [],
   "source": []
  }
 ],
 "metadata": {
  "kernelspec": {
   "display_name": "Python 3",
   "language": "python",
   "name": "python3"
  },
  "language_info": {
   "codemirror_mode": {
    "name": "ipython",
    "version": 3
   },
   "file_extension": ".py",
   "mimetype": "text/x-python",
   "name": "python",
   "nbconvert_exporter": "python",
   "pygments_lexer": "ipython3",
   "version": "3.7.4"
  }
 },
 "nbformat": 4,
 "nbformat_minor": 2
}
