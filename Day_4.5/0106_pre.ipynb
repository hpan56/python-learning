{
 "cells": [
  {
   "cell_type": "code",
   "execution_count": null,
   "metadata": {},
   "outputs": [],
   "source": [
    "'''\n",
    "q1 写一个摄氏度华氏度互相转换的函数\n",
    "公式: celsius * 1.8 = fahrenheit - 32\n",
    "'''"
   ]
  },
  {
   "cell_type": "code",
   "execution_count": null,
   "metadata": {},
   "outputs": [],
   "source": [
    "def dark(n):\n",
    "    if n[-1] == \"f\":\n",
    "        c = (n - 32) / 1.8\n",
    "        print(c)\n",
    "    elif n[-1] == \"c\":\n",
    "        f = n * 1.8 + 32\n",
    "        print(f)\n",
    "    else:\n",
    "        print(\"ni shu de dong xi you wen ti\")"
   ]
  },
  {
   "cell_type": "code",
   "execution_count": null,
   "metadata": {},
   "outputs": [],
   "source": [
    "'''\n",
    "q2 写一个一元二次方程的求根函数，如无实数根则提示无实数根\n",
    "'''"
   ]
  },
  {
   "cell_type": "code",
   "execution_count": 3,
   "metadata": {},
   "outputs": [],
   "source": [
    "def dark(a,b,c):\n",
    "    import math\n",
    "    delta = b ** 2 - 4 * a * c\n",
    "    if delta < 0:\n",
    "        print(\"wu shi shu gen\")\n",
    "    else:\n",
    "        dark_ = math.sqrt(delta)\n",
    "        x1 = (-b+dark_)/(2*a)\n",
    "        x2 = (-b-dark_)/(2*a)\n",
    "        print(\"x1=\",x1, \" x2=\", x2)"
   ]
  },
  {
   "cell_type": "code",
   "execution_count": 4,
   "metadata": {},
   "outputs": [
    {
     "name": "stdout",
     "output_type": "stream",
     "text": [
      "x1= -1.0  x2= -1.0\n"
     ]
    }
   ],
   "source": [
    "dark(1,2,1)"
   ]
  },
  {
   "cell_type": "code",
   "execution_count": null,
   "metadata": {},
   "outputs": [],
   "source": [
    "'''\n",
    "q3 不利用已有的求平方根函数，利用二分法自己编写一个求近似平方根的函数。\n",
    "'''"
   ]
  },
  {
   "cell_type": "code",
   "execution_count": 5,
   "metadata": {},
   "outputs": [],
   "source": [
    "def dake(n):\n",
    "    xiao = 0\n",
    "    da = n\n",
    "    gu = (xiao + da) / 2\n",
    "    while abs(gu ** 2 - n) > 0.00001:\n",
    "        if gu ** 2 < n:\n",
    "            xiao = gu\n",
    "        else:\n",
    "            da = gu\n",
    "        gu = (xiao + da) / 2\n",
    "    print(gu)"
   ]
  },
  {
   "cell_type": "code",
   "execution_count": null,
   "metadata": {},
   "outputs": [],
   "source": [
    "'''\n",
    "q4 写一个函数求两个数的最大公约数 (辗转相除法)\n",
    "'''"
   ]
  },
  {
   "cell_type": "code",
   "execution_count": 11,
   "metadata": {},
   "outputs": [],
   "source": [
    "def dake(a,b):\n",
    "    if a < b:\n",
    "        a,b = b,a\n",
    "    c = a % b\n",
    "    while c != 0:\n",
    "        a,b = b,c\n",
    "        c = a % b\n",
    "    return b"
   ]
  },
  {
   "cell_type": "code",
   "execution_count": 13,
   "metadata": {},
   "outputs": [
    {
     "data": {
      "text/plain": [
       "2"
      ]
     },
     "execution_count": 13,
     "metadata": {},
     "output_type": "execute_result"
    }
   ],
   "source": [
    "dake(634, 1010)"
   ]
  },
  {
   "cell_type": "code",
   "execution_count": null,
   "metadata": {},
   "outputs": [],
   "source": [
    "'''\n",
    "q5 写一个函数求两个数的最小公倍数 (不用穷举法)\n",
    "'''"
   ]
  },
  {
   "cell_type": "code",
   "execution_count": 14,
   "metadata": {},
   "outputs": [],
   "source": [
    "def zzc(a,b):\n",
    "    return a*b/dake(a,b)"
   ]
  },
  {
   "cell_type": "code",
   "execution_count": 15,
   "metadata": {},
   "outputs": [
    {
     "data": {
      "text/plain": [
       "12.0"
      ]
     },
     "execution_count": 15,
     "metadata": {},
     "output_type": "execute_result"
    }
   ],
   "source": [
    "zzc(4,6)"
   ]
  },
  {
   "cell_type": "code",
   "execution_count": null,
   "metadata": {},
   "outputs": [],
   "source": [
    "'''\n",
    "q6 不用循环，计算一个数在一个数组(列表类型)中出现的次数\n",
    "'''"
   ]
  },
  {
   "cell_type": "code",
   "execution_count": null,
   "metadata": {},
   "outputs": [],
   "source": []
  },
  {
   "cell_type": "code",
   "execution_count": null,
   "metadata": {},
   "outputs": [],
   "source": [
    "'''\n",
    "q7 写一个函数，统计一个字符串的中每个字符的出现频率\n",
    "'''"
   ]
  },
  {
   "cell_type": "code",
   "execution_count": 55,
   "metadata": {},
   "outputs": [],
   "source": [
    "def zwl(a):\n",
    "    zwl_hsq = {}\n",
    "    for i in a:\n",
    "        if i not in zwl_hsq:\n",
    "            zwl_hsq[i] = 1\n",
    "        else:\n",
    "            zwl_hsq[i] += 1\n",
    "    return zwl_hsq"
   ]
  },
  {
   "cell_type": "code",
   "execution_count": 56,
   "metadata": {},
   "outputs": [
    {
     "data": {
      "text/plain": [
       "{'1': 1, '2': 1, '3': 1}"
      ]
     },
     "execution_count": 56,
     "metadata": {},
     "output_type": "execute_result"
    }
   ],
   "source": [
    "zwl(\"123\")"
   ]
  },
  {
   "cell_type": "code",
   "execution_count": null,
   "metadata": {},
   "outputs": [],
   "source": [
    "'''\n",
    "q8 写一个程序，逼近圆周率\n",
    "hint: 圆心到圆上任一点的距离为半径，利用模拟的方式，通过单位圆和长度为2的正方形，可逼近圆周率\n",
    "'''"
   ]
  },
  {
   "cell_type": "code",
   "execution_count": 31,
   "metadata": {},
   "outputs": [
    {
     "data": {
      "text/plain": [
       "3.1394"
      ]
     },
     "execution_count": 31,
     "metadata": {},
     "output_type": "execute_result"
    }
   ],
   "source": [
    "import numpy as np\n",
    "import math\n",
    "a = 0\n",
    "for i in range(100000):\n",
    "    x = np.random.rand(1)\n",
    "    y = np.random.rand(1)\n",
    "    if math.sqrt(x ** 2 + y ** 2) <= 1:\n",
    "        a += 1\n",
    "pi = 4 * a / 100000\n",
    "pi"
   ]
  },
  {
   "cell_type": "code",
   "execution_count": null,
   "metadata": {},
   "outputs": [],
   "source": [
    "'''\n",
    "q9 写一个generator function逼近自然对数\n",
    "'''"
   ]
  },
  {
   "cell_type": "code",
   "execution_count": 49,
   "metadata": {},
   "outputs": [],
   "source": [
    "def jyq():\n",
    "    n = 1\n",
    "    while 1:\n",
    "        e = (1+1/n) ** n\n",
    "        yield e\n",
    "        n += 1"
   ]
  },
  {
   "cell_type": "code",
   "execution_count": 58,
   "metadata": {},
   "outputs": [
    {
     "name": "stdout",
     "output_type": "stream",
     "text": [
      "2.7182718284613085\n"
     ]
    }
   ],
   "source": [
    "jyq_ = jyq()\n",
    "next_jyq = next(jyq_)\n",
    "while math.exp(1) - next_jyq > 0.00001:\n",
    "    next_jyq = next(jyq_)\n",
    "print(next_jyq)"
   ]
  },
  {
   "cell_type": "code",
   "execution_count": null,
   "metadata": {},
   "outputs": [],
   "source": [
    "'''\n",
    "q10 如果一个数中只有少于三个数字是非零的，那么我们称这个数为优美数，我们定义这个优美数的优美程度为这个数所有数字相加的和。 \n",
    "例如优美数有4，200000，10203，其中4的优美度是4，200000的优美度是2，10203的优美度是6. \n",
    "数字4231，102306，7277420000，就不是啰。\n",
    "\n",
    "现在问在【L，R】中，有多少个优美度为x的优美数。\n",
    "'''"
   ]
  },
  {
   "cell_type": "code",
   "execution_count": null,
   "metadata": {},
   "outputs": [],
   "source": []
  },
  {
   "cell_type": "code",
   "execution_count": null,
   "metadata": {},
   "outputs": [],
   "source": []
  },
  {
   "cell_type": "code",
   "execution_count": null,
   "metadata": {},
   "outputs": [],
   "source": []
  },
  {
   "cell_type": "code",
   "execution_count": null,
   "metadata": {},
   "outputs": [],
   "source": []
  },
  {
   "cell_type": "code",
   "execution_count": null,
   "metadata": {},
   "outputs": [],
   "source": []
  },
  {
   "cell_type": "code",
   "execution_count": null,
   "metadata": {},
   "outputs": [],
   "source": []
  }
 ],
 "metadata": {
  "kernelspec": {
   "display_name": "Python 3",
   "language": "python",
   "name": "python3"
  },
  "language_info": {
   "codemirror_mode": {
    "name": "ipython",
    "version": 3
   },
   "file_extension": ".py",
   "mimetype": "text/x-python",
   "name": "python",
   "nbconvert_exporter": "python",
   "pygments_lexer": "ipython3",
   "version": "3.7.4"
  }
 },
 "nbformat": 4,
 "nbformat_minor": 2
}
