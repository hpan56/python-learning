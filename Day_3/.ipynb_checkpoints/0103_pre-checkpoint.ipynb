{
 "cells": [
  {
   "cell_type": "markdown",
   "metadata": {},
   "source": [
    "# Control flow"
   ]
  },
  {
   "cell_type": "code",
   "execution_count": 2,
   "metadata": {},
   "outputs": [
    {
     "name": "stdout",
     "output_type": "stream",
     "text": [
      "1\n",
      "!0\n",
      "-1\n"
     ]
    }
   ],
   "source": [
    "a = 1\n",
    "if a == 1:\n",
    "    print(1)\n",
    "if a != 0:\n",
    "    print(\"!0\")\n",
    "if a != -1:\n",
    "    print(\"-1\")"
   ]
  },
  {
   "cell_type": "code",
   "execution_count": 3,
   "metadata": {},
   "outputs": [
    {
     "name": "stdout",
     "output_type": "stream",
     "text": [
      "1\n"
     ]
    }
   ],
   "source": [
    "a = 1\n",
    "if a == 1:\n",
    "    print(1)\n",
    "elif a != 0:\n",
    "    print(\"!0\")\n",
    "else:\n",
    "    print(\"!-1\")"
   ]
  },
  {
   "cell_type": "markdown",
   "metadata": {},
   "source": [
    "# While"
   ]
  },
  {
   "cell_type": "code",
   "execution_count": null,
   "metadata": {},
   "outputs": [],
   "source": [
    "# 注意别写死循环"
   ]
  },
  {
   "cell_type": "code",
   "execution_count": 5,
   "metadata": {},
   "outputs": [
    {
     "name": "stdout",
     "output_type": "stream",
     "text": [
      "202 97 36\n"
     ]
    }
   ],
   "source": [
    "# while true \n",
    "import random\n",
    "grades = 0\n",
    "time = 0\n",
    "count = 0\n",
    "while True:\n",
    "    time += random.randint(0,10)\n",
    "    grades += random.randint(0,5)\n",
    "    count += 1\n",
    "    if grades >= 95:\n",
    "        break\n",
    "print(time, grades, count)"
   ]
  },
  {
   "cell_type": "markdown",
   "metadata": {},
   "source": [
    "# Break"
   ]
  },
  {
   "cell_type": "code",
   "execution_count": 3,
   "metadata": {
    "scrolled": true
   },
   "outputs": [
    {
     "name": "stdout",
     "output_type": "stream",
     "text": [
      "-----0-----\n",
      "0\n",
      "1\n",
      "2\n",
      "3\n",
      "4\n",
      "-----1-----\n",
      "0\n",
      "1\n",
      "2\n",
      "3\n",
      "4\n",
      "-----2-----\n",
      "0\n",
      "1\n",
      "2\n",
      "3\n",
      "4\n",
      "-----3-----\n",
      "-----4-----\n"
     ]
    }
   ],
   "source": [
    "for i in range(5):\n",
    "    print(\"-----%d-----\" %i)\n",
    "    if i > 2:\n",
    "        continue\n",
    "        print(\"hi\")\n",
    "    for j in range(5):\n",
    "        print(j)"
   ]
  },
  {
   "cell_type": "code",
   "execution_count": 7,
   "metadata": {
    "scrolled": true
   },
   "outputs": [
    {
     "name": "stdout",
     "output_type": "stream",
     "text": [
      "-----0-----\n",
      "0\n",
      "1\n",
      "2\n",
      "3\n",
      "4\n",
      "-----1-----\n",
      "0\n",
      "1\n",
      "2\n",
      "3\n",
      "4\n",
      "-----2-----\n",
      "0\n",
      "1\n",
      "2\n",
      "3\n",
      "4\n",
      "-----3-----\n",
      "0\n",
      "1\n",
      "2\n",
      "3\n",
      "4\n",
      "-----4-----\n",
      "hi\n"
     ]
    }
   ],
   "source": [
    "for i in range(5):\n",
    "    print(\"-----%d-----\" %i)\n",
    "    if i > 3:\n",
    "        print(\"hi\")\n",
    "        break\n",
    "    for j in range(5):\n",
    "        print(j)"
   ]
  },
  {
   "cell_type": "code",
   "execution_count": 8,
   "metadata": {
    "scrolled": true
   },
   "outputs": [
    {
     "name": "stdout",
     "output_type": "stream",
     "text": [
      "-----0-----\n",
      "0\n",
      "1\n",
      "2\n",
      "3\n",
      "-----1-----\n",
      "0\n",
      "1\n",
      "2\n",
      "3\n",
      "-----2-----\n",
      "0\n",
      "1\n",
      "2\n",
      "3\n",
      "-----3-----\n",
      "0\n",
      "1\n",
      "2\n",
      "3\n",
      "-----4-----\n",
      "0\n",
      "1\n",
      "2\n",
      "3\n"
     ]
    }
   ],
   "source": [
    "for i in range(5):\n",
    "    print(\"-----%d-----\" %i)\n",
    "    for j in range(5):\n",
    "        if j > 3:\n",
    "            break\n",
    "        print(j)"
   ]
  },
  {
   "cell_type": "code",
   "execution_count": 9,
   "metadata": {},
   "outputs": [
    {
     "name": "stdout",
     "output_type": "stream",
     "text": [
      "-----0-----\n",
      "0\n",
      "1\n",
      "2\n",
      "3\n",
      "4\n",
      "-----1-----\n",
      "0\n",
      "1\n",
      "2\n",
      "3\n",
      "4\n",
      "-----2-----\n",
      "0\n",
      "1\n",
      "2\n",
      "3\n",
      "4\n",
      "-----3-----\n",
      "-----4-----\n"
     ]
    }
   ],
   "source": [
    "for i in range(5):\n",
    "    print(\"-----%d-----\" %i)\n",
    "    if i > 2:\n",
    "        continue\n",
    "        print(\"hi\")\n",
    "    for j in range(5):\n",
    "        print(j)"
   ]
  },
  {
   "cell_type": "code",
   "execution_count": 10,
   "metadata": {
    "scrolled": true
   },
   "outputs": [
    {
     "name": "stdout",
     "output_type": "stream",
     "text": [
      "-----0-----\n",
      "0\n",
      "1\n",
      "2\n",
      "3\n",
      "4\n",
      "-----1-----\n",
      "0\n",
      "1\n",
      "2\n",
      "3\n",
      "4\n",
      "-----2-----\n",
      "0\n",
      "1\n",
      "2\n",
      "3\n",
      "4\n",
      "-----3-----\n",
      "hi\n",
      "-----4-----\n",
      "hi\n"
     ]
    }
   ],
   "source": [
    "for i in range(5):\n",
    "    print(\"-----%d-----\" %i)\n",
    "    if i > 2:\n",
    "        print(\"hi\")\n",
    "        continue\n",
    "    for j in range(5):\n",
    "        print(j)"
   ]
  },
  {
   "cell_type": "code",
   "execution_count": 13,
   "metadata": {
    "scrolled": true
   },
   "outputs": [
    {
     "name": "stdout",
     "output_type": "stream",
     "text": [
      "-----0-----\n",
      "0\n",
      "1\n",
      "2\n",
      "hi\n",
      "hi\n",
      "-----1-----\n",
      "0\n",
      "1\n",
      "2\n",
      "hi\n",
      "hi\n",
      "-----2-----\n",
      "0\n",
      "1\n",
      "2\n",
      "hi\n",
      "hi\n",
      "-----3-----\n",
      "0\n",
      "1\n",
      "2\n",
      "hi\n",
      "hi\n",
      "-----4-----\n",
      "0\n",
      "1\n",
      "2\n",
      "hi\n",
      "hi\n"
     ]
    }
   ],
   "source": [
    "for i in range(5):\n",
    "    print(\"-----%d-----\" %i)\n",
    "    for j in range(5):\n",
    "        if j > 2:\n",
    "            print(\"hi\")\n",
    "            continue\n",
    "        print(j)"
   ]
  },
  {
   "cell_type": "markdown",
   "metadata": {},
   "source": [
    "# Function scope"
   ]
  },
  {
   "cell_type": "code",
   "execution_count": 21,
   "metadata": {},
   "outputs": [],
   "source": [
    "local_v = 10\n",
    "global_v = 100\n",
    "def test1(x1,x2,x3):\n",
    "    print(x1)"
   ]
  },
  {
   "cell_type": "code",
   "execution_count": 16,
   "metadata": {},
   "outputs": [
    {
     "name": "stdout",
     "output_type": "stream",
     "text": [
      "local\n",
      "100\n",
      "global\n",
      "100\n"
     ]
    }
   ],
   "source": [
    "def test2():\n",
    "    global_v = \"global\"\n",
    "    test1()\n",
    "    print(global_v)\n",
    "test2()\n",
    "print(global_v)"
   ]
  },
  {
   "cell_type": "code",
   "execution_count": null,
   "metadata": {},
   "outputs": [],
   "source": [
    "def test3():\n",
    "    global global_v\n",
    "    global_v = \"global\"\n",
    "test3()\n",
    "global_v"
   ]
  },
  {
   "cell_type": "code",
   "execution_count": 19,
   "metadata": {},
   "outputs": [
    {
     "data": {
      "text/plain": [
       "6"
      ]
     },
     "execution_count": 19,
     "metadata": {},
     "output_type": "execute_result"
    }
   ],
   "source": [
    "max(1,2,3,4,5,6)"
   ]
  },
  {
   "cell_type": "code",
   "execution_count": 24,
   "metadata": {},
   "outputs": [],
   "source": [
    "def test1(*x1):\n",
    "    print(x1)"
   ]
  },
  {
   "cell_type": "code",
   "execution_count": 26,
   "metadata": {},
   "outputs": [
    {
     "name": "stdout",
     "output_type": "stream",
     "text": [
      "(1, 2, 3, 4, 5)\n"
     ]
    }
   ],
   "source": [
    "test1(1,2,3,4,5)"
   ]
  },
  {
   "cell_type": "code",
   "execution_count": null,
   "metadata": {},
   "outputs": [],
   "source": [
    "test1(x1,x2)"
   ]
  },
  {
   "cell_type": "code",
   "execution_count": 31,
   "metadata": {},
   "outputs": [],
   "source": [
    "def person(name, age, **kw):\n",
    "    print('name:', name, 'age:', age, 'other:', kw)"
   ]
  },
  {
   "cell_type": "code",
   "execution_count": 32,
   "metadata": {},
   "outputs": [
    {
     "ename": "NameError",
     "evalue": "name 'today' is not defined",
     "output_type": "error",
     "traceback": [
      "\u001b[1;31m---------------------------------------------------------------------------\u001b[0m",
      "\u001b[1;31mNameError\u001b[0m                                 Traceback (most recent call last)",
      "\u001b[1;32m<ipython-input-32-f7512201135f>\u001b[0m in \u001b[0;36m<module>\u001b[1;34m\u001b[0m\n\u001b[1;32m----> 1\u001b[1;33m \u001b[0mperson\u001b[0m\u001b[1;33m(\u001b[0m\u001b[1;34m\"hao\"\u001b[0m\u001b[1;33m,\u001b[0m \u001b[1;34m\"22\"\u001b[0m\u001b[1;33m,\u001b[0m \u001b[0mtoday\u001b[0m\u001b[1;33m=\u001b[0m\u001b[1;34m\"0103\"\u001b[0m\u001b[1;33m,\u001b[0m \u001b[0myesterday\u001b[0m\u001b[1;33m=\u001b[0m\u001b[1;34m\"0102\"\u001b[0m\u001b[1;33m)\u001b[0m\u001b[1;33m\u001b[0m\u001b[1;33m\u001b[0m\u001b[0m\n\u001b[0m",
      "\u001b[1;32m<ipython-input-31-d50d1ac1812c>\u001b[0m in \u001b[0;36mperson\u001b[1;34m(name, age, **kw)\u001b[0m\n\u001b[0;32m      1\u001b[0m \u001b[1;32mdef\u001b[0m \u001b[0mperson\u001b[0m\u001b[1;33m(\u001b[0m\u001b[0mname\u001b[0m\u001b[1;33m,\u001b[0m \u001b[0mage\u001b[0m\u001b[1;33m,\u001b[0m \u001b[1;33m**\u001b[0m\u001b[0mkw\u001b[0m\u001b[1;33m)\u001b[0m\u001b[1;33m:\u001b[0m\u001b[1;33m\u001b[0m\u001b[1;33m\u001b[0m\u001b[0m\n\u001b[1;32m----> 2\u001b[1;33m     \u001b[1;32mif\u001b[0m \u001b[0mtoday\u001b[0m\u001b[1;33m:\u001b[0m\u001b[1;33m\u001b[0m\u001b[1;33m\u001b[0m\u001b[0m\n\u001b[0m\u001b[0;32m      3\u001b[0m         \u001b[0mprint\u001b[0m\u001b[1;33m(\u001b[0m\u001b[0mtoday\u001b[0m\u001b[1;33m)\u001b[0m\u001b[1;33m\u001b[0m\u001b[1;33m\u001b[0m\u001b[0m\n\u001b[0;32m      4\u001b[0m     \u001b[0mprint\u001b[0m\u001b[1;33m(\u001b[0m\u001b[1;34m'name:'\u001b[0m\u001b[1;33m,\u001b[0m \u001b[0mname\u001b[0m\u001b[1;33m,\u001b[0m \u001b[1;34m'age:'\u001b[0m\u001b[1;33m,\u001b[0m \u001b[0mage\u001b[0m\u001b[1;33m,\u001b[0m \u001b[1;34m'other:'\u001b[0m\u001b[1;33m,\u001b[0m \u001b[0mkw\u001b[0m\u001b[1;33m)\u001b[0m\u001b[1;33m\u001b[0m\u001b[1;33m\u001b[0m\u001b[0m\n",
      "\u001b[1;31mNameError\u001b[0m: name 'today' is not defined"
     ]
    }
   ],
   "source": [
    "person(\"hao\", \"22\", today=\"0103\", yesterday=\"0102\")"
   ]
  },
  {
   "cell_type": "code",
   "execution_count": 33,
   "metadata": {},
   "outputs": [],
   "source": [
    "def add(x1,x2):\n",
    "    return x1+x2"
   ]
  },
  {
   "cell_type": "code",
   "execution_count": 34,
   "metadata": {},
   "outputs": [],
   "source": [
    "f = add(1,2)"
   ]
  },
  {
   "cell_type": "code",
   "execution_count": 40,
   "metadata": {},
   "outputs": [],
   "source": [
    "l1 = [(\"a\", 100), (\"b\", 60), (\"c\", 80)]"
   ]
  },
  {
   "cell_type": "code",
   "execution_count": 43,
   "metadata": {},
   "outputs": [
    {
     "data": {
      "text/plain": [
       "[('a', 100), ('c', 80), ('b', 60)]"
      ]
     },
     "execution_count": 43,
     "metadata": {},
     "output_type": "execute_result"
    }
   ],
   "source": [
    "sorted(l1, key=lambda x:x[1], reverse=True)"
   ]
  },
  {
   "cell_type": "code",
   "execution_count": 45,
   "metadata": {},
   "outputs": [
    {
     "data": {
      "text/plain": [
       "[1, 5, 9, 15]"
      ]
     },
     "execution_count": 45,
     "metadata": {},
     "output_type": "execute_result"
    }
   ],
   "source": [
    "def is_odd(n):\n",
    "    return n % 2 == 1\n",
    "list(filter(is_odd, [1, 2, 4, 5, 6, 9, 10, 15]))"
   ]
  },
  {
   "cell_type": "code",
   "execution_count": null,
   "metadata": {},
   "outputs": [],
   "source": [
    "def person(name, age, **kwargs):\n",
    "    print(name, age)\n",
    "person(\"hao\", 22, city=\"madison\")"
   ]
  }
 ],
 "metadata": {
  "kernelspec": {
   "display_name": "Python 3",
   "language": "python",
   "name": "python3"
  },
  "language_info": {
   "codemirror_mode": {
    "name": "ipython",
    "version": 3
   },
   "file_extension": ".py",
   "mimetype": "text/x-python",
   "name": "python",
   "nbconvert_exporter": "python",
   "pygments_lexer": "ipython3",
   "version": "3.7.4"
  }
 },
 "nbformat": 4,
 "nbformat_minor": 2
}
