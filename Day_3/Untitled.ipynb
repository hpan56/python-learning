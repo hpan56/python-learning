{
 "cells": [
  {
   "cell_type": "code",
   "execution_count": 1,
   "metadata": {},
   "outputs": [
    {
     "name": "stdout",
     "output_type": "stream",
     "text": [
      "hello dake\n",
      "hello dake\n",
      "hello dake\n",
      "hello dake\n",
      "hello dake\n",
      "hello dake\n",
      "hello dake\n",
      "hello dake\n",
      "hello dake\n",
      "hello dake\n"
     ]
    }
   ],
   "source": [
    "i = 0\n",
    "while i < 10:\n",
    "    print(\"hello dake\")\n",
    "    i += 1"
   ]
  },
  {
   "cell_type": "code",
   "execution_count": 3,
   "metadata": {},
   "outputs": [
    {
     "name": "stdout",
     "output_type": "stream",
     "text": [
      "hello dake\n",
      "hello dake\n",
      "hello dake\n",
      "hello dake\n",
      "hello dake\n",
      "hello dake\n",
      "hello dake\n"
     ]
    }
   ],
   "source": [
    "i = 1\n",
    "while i <= 10:\n",
    "    print(\"hello dake\")\n",
    "    if i == 7:\n",
    "        break\n",
    "    i += 1"
   ]
  },
  {
   "cell_type": "code",
   "execution_count": 12,
   "metadata": {},
   "outputs": [
    {
     "name": "stdout",
     "output_type": "stream",
     "text": [
      "1 hello dake\n",
      "2 hello dake\n",
      "3 hello dake\n",
      "4 hello dake\n",
      "5 hello dake\n",
      "6 hello dake\n",
      "hello keke\n",
      "hello keke\n",
      "hello keke\n",
      "hello keke\n",
      "hello keke\n"
     ]
    }
   ],
   "source": [
    "j = 0\n",
    "while j < 10:\n",
    "    i = 0\n",
    "    while i <= 10:\n",
    "        i += 1\n",
    "        if i >= 3:\n",
    "            print(\"hello keke\")\n",
    "            continue\n",
    "        print(\"%i hello dake\"%i)"
   ]
  },
  {
   "cell_type": "code",
   "execution_count": null,
   "metadata": {},
   "outputs": [],
   "source": []
  }
 ],
 "metadata": {
  "kernelspec": {
   "display_name": "Python 3",
   "language": "python",
   "name": "python3"
  },
  "language_info": {
   "codemirror_mode": {
    "name": "ipython",
    "version": 3
   },
   "file_extension": ".py",
   "mimetype": "text/x-python",
   "name": "python",
   "nbconvert_exporter": "python",
   "pygments_lexer": "ipython3",
   "version": "3.7.4"
  }
 },
 "nbformat": 4,
 "nbformat_minor": 2
}
