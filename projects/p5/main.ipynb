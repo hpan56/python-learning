{
 "cells": [
  {
   "cell_type": "code",
   "execution_count": 1,
   "metadata": {},
   "outputs": [
    {
     "data": {
      "text/plain": [
       "['__builtins__',\n",
       " '__cached__',\n",
       " '__doc__',\n",
       " '__file__',\n",
       " '__hurricane__',\n",
       " '__init__',\n",
       " '__loader__',\n",
       " '__name__',\n",
       " '__package__',\n",
       " '__spec__',\n",
       " 'count',\n",
       " 'get_damage',\n",
       " 'get_deaths',\n",
       " 'get_mph',\n",
       " 'get_name',\n",
       " 'get_year']"
      ]
     },
     "execution_count": 1,
     "metadata": {},
     "output_type": "execute_result"
    }
   ],
   "source": [
    "import project\n",
    "dir(project)"
   ]
  },
  {
   "cell_type": "code",
   "execution_count": 2,
   "metadata": {},
   "outputs": [
    {
     "data": {
      "text/plain": [
       "'This function will return the number of records in the dataset'"
      ]
     },
     "execution_count": 2,
     "metadata": {},
     "output_type": "execute_result"
    }
   ],
   "source": [
    "project.count.__doc__"
   ]
  },
  {
   "cell_type": "code",
   "execution_count": 3,
   "metadata": {},
   "outputs": [
    {
     "data": {
      "text/plain": [
       "'Baker'"
      ]
     },
     "execution_count": 3,
     "metadata": {},
     "output_type": "execute_result"
    }
   ],
   "source": [
    "project.get_name(0)"
   ]
  },
  {
   "cell_type": "code",
   "execution_count": 8,
   "metadata": {},
   "outputs": [
    {
     "data": {
      "text/plain": [
       "'Omar'"
      ]
     },
     "execution_count": 8,
     "metadata": {},
     "output_type": "execute_result"
    }
   ],
   "source": [
    "project.get_name(0)\n",
    "project.get_year(0)\n",
    "project.get_mph(0)\n",
    "project.get_deaths(0)\n",
    "project.get_damage(0)\n",
    "project.get_damage(1)\n",
    "project.get_name(project.count()-1)"
   ]
  },
  {
   "cell_type": "code",
   "execution_count": 7,
   "metadata": {},
   "outputs": [
    {
     "data": {
      "text/plain": [
       "111"
      ]
     },
     "execution_count": 7,
     "metadata": {},
     "output_type": "execute_result"
    }
   ],
   "source": [
    "project.count()"
   ]
  },
  {
   "cell_type": "code",
   "execution_count": 11,
   "metadata": {},
   "outputs": [
    {
     "name": "stdout",
     "output_type": "stream",
     "text": [
      "0\n",
      "1\n",
      "2\n",
      "3\n",
      "4\n",
      "5\n"
     ]
    }
   ],
   "source": [
    "for i in range(6):\n",
    "    print(i)"
   ]
  },
  {
   "cell_type": "code",
   "execution_count": 10,
   "metadata": {},
   "outputs": [
    {
     "name": "stdout",
     "output_type": "stream",
     "text": [
      "0\n",
      "1\n",
      "2\n",
      "3\n",
      "4\n",
      "5\n"
     ]
    }
   ],
   "source": [
    "i = 0\n",
    "while i <= 5:\n",
    "    print(i)\n",
    "    i += 1"
   ]
  },
  {
   "cell_type": "code",
   "execution_count": 15,
   "metadata": {},
   "outputs": [
    {
     "name": "stdout",
     "output_type": "stream",
     "text": [
      "2\n",
      "4\n",
      "6\n"
     ]
    }
   ],
   "source": [
    "s = \"bahahaha\"\n",
    "for i in range(len(s)):\n",
    "    if s[i] == 'h':\n",
    "        print(i)"
   ]
  },
  {
   "cell_type": "code",
   "execution_count": 16,
   "metadata": {
    "collapsed": true
   },
   "outputs": [
    {
     "name": "stdout",
     "output_type": "stream",
     "text": [
      "0\n",
      "1\n",
      "2\n",
      "3\n",
      "4\n",
      "5\n",
      "6\n",
      "7\n",
      "8\n",
      "9\n",
      "10\n",
      "11\n",
      "12\n",
      "13\n",
      "14\n",
      "15\n",
      "16\n",
      "17\n",
      "18\n",
      "19\n",
      "20\n",
      "21\n",
      "22\n",
      "23\n",
      "24\n",
      "25\n",
      "26\n",
      "27\n",
      "28\n",
      "29\n",
      "30\n",
      "31\n",
      "32\n",
      "33\n",
      "34\n",
      "35\n",
      "36\n",
      "37\n",
      "38\n",
      "39\n",
      "40\n",
      "41\n",
      "42\n",
      "43\n",
      "44\n",
      "45\n",
      "46\n",
      "47\n",
      "48\n",
      "49\n",
      "50\n",
      "51\n",
      "52\n",
      "53\n",
      "54\n",
      "55\n",
      "56\n",
      "57\n",
      "58\n",
      "59\n",
      "60\n",
      "61\n",
      "62\n",
      "63\n",
      "64\n",
      "65\n",
      "66\n",
      "67\n",
      "68\n",
      "69\n",
      "70\n",
      "71\n",
      "72\n",
      "73\n",
      "74\n",
      "75\n",
      "76\n",
      "77\n",
      "78\n",
      "79\n",
      "80\n",
      "81\n",
      "82\n",
      "83\n",
      "84\n",
      "85\n",
      "86\n",
      "87\n",
      "88\n",
      "89\n",
      "90\n",
      "91\n",
      "92\n",
      "93\n",
      "94\n",
      "95\n",
      "96\n",
      "97\n",
      "98\n",
      "99\n",
      "100\n",
      "101\n",
      "102\n",
      "103\n",
      "104\n",
      "105\n",
      "106\n",
      "107\n",
      "108\n",
      "109\n",
      "110\n"
     ]
    }
   ],
   "source": [
    "for idx in range(project.count()):\n",
    "    print(idx)"
   ]
  },
  {
   "cell_type": "code",
   "execution_count": 17,
   "metadata": {
    "collapsed": true
   },
   "outputs": [
    {
     "name": "stdout",
     "output_type": "stream",
     "text": [
      "Baker\n",
      "Camille\n",
      "Eloise\n",
      "Frederic\n",
      "Elena\n",
      "Danny\n",
      "Ivan\n",
      "Dennis\n",
      "Katrina\n",
      "Michael\n",
      "Carol\n",
      "Donna\n",
      "Gloria\n",
      "Bob\n",
      "Easy\n",
      "King\n",
      "Flossy\n",
      "Cleo\n",
      "Dora\n",
      "Isbell\n",
      "Alma\n",
      "Gladys\n",
      "Agnes\n",
      "Kate\n",
      "floyd\n",
      "Andrew\n",
      "Erin\n",
      "Earl\n",
      "Georges\n",
      "Irene\n",
      "Charley\n",
      "Frances\n",
      "Jeanne\n",
      "Wilma\n",
      "Hermine\n",
      "Matthew\n",
      "Irma\n",
      "Ethel\n",
      "Hilda\n",
      "Carmen\n",
      "Bob\n",
      "Danny\n",
      "Juan\n",
      "Lili\n",
      "Cindy\n",
      "Humberto\n",
      "Gustav\n",
      "Isaac\n",
      "Nate\n",
      "Belle\n",
      "Sandy\n",
      "Barbara\n",
      "Ione\n",
      "Helene\n",
      "Ginger\n",
      "Diana\n",
      "Hugo\n",
      "Emily\n",
      "Bertha\n",
      "Fran\n",
      "Bonnie\n",
      "FLOYD\n",
      "Alex\n",
      "Ophelia\n",
      "Irene\n",
      "Esther\n",
      "Able\n",
      "Cindy\n",
      "Gracie\n",
      "Bob\n",
      "Gaston\n",
      "Carla\n",
      "Beulah\n",
      "Celia\n",
      "Fern\n",
      "Allen\n",
      "Alicia\n",
      "Bonnie\n",
      "Chantal\n",
      "Jerry\n",
      "Bret\n",
      "Claudette\n",
      "Dolly\n",
      "Ike\n",
      "Harvey\n",
      "Iwa\n",
      "Iniki\n",
      "Ofa\n",
      "Val\n",
      "Heta\n",
      "Olaf\n",
      "Karen\n",
      "Pamela\n",
      "Roy\n",
      "Omar\n",
      "Chataan\n",
      "Pongsona\n",
      "Dolphin\n",
      "Lynn\n",
      "Mireille\n",
      "Chaba\n",
      "Vongfong\n",
      "Soudelor\n",
      "Mangkhut\n",
      "Yutu\n",
      "Betsy\n",
      "Hortense\n",
      "Maria\n",
      "Marilyn\n",
      "Lenny\n",
      "Omar\n"
     ]
    }
   ],
   "source": [
    "for idx in range(project.count()):\n",
    "    name = project.get_name(idx)\n",
    "    print(name)"
   ]
  },
  {
   "cell_type": "code",
   "execution_count": 18,
   "metadata": {},
   "outputs": [
    {
     "name": "stdout",
     "output_type": "stream",
     "text": [
      "6\n"
     ]
    }
   ],
   "source": [
    "def f(n):\n",
    "    return 3 + n % 7\n",
    "\n",
    "# we want to find the integer n in the range of 0 to 10\n",
    "# such that f(n) is largest.\n",
    "best_n = 0\n",
    "for n in range(11):\n",
    "    if f(n) > best_n:\n",
    "        best_n = n\n",
    "\n",
    "print(best_n)"
   ]
  },
  {
   "cell_type": "code",
   "execution_count": null,
   "metadata": {},
   "outputs": [],
   "source": []
  }
 ],
 "metadata": {
  "kernelspec": {
   "display_name": "Python 3",
   "language": "python",
   "name": "python3"
  },
  "language_info": {
   "codemirror_mode": {
    "name": "ipython",
    "version": 3
   },
   "file_extension": ".py",
   "mimetype": "text/x-python",
   "name": "python",
   "nbconvert_exporter": "python",
   "pygments_lexer": "ipython3",
   "version": "3.7.4"
  }
 },
 "nbformat": 4,
 "nbformat_minor": 2
}
