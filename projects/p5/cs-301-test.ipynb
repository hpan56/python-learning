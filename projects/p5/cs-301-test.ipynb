{
 "cells": [
  {
   "cell_type": "code",
   "execution_count": 1,
   "metadata": {},
   "outputs": [],
   "source": [
    "import project"
   ]
  },
  {
   "cell_type": "code",
   "execution_count": 2,
   "metadata": {},
   "outputs": [
    {
     "data": {
      "text/plain": [
       "111"
      ]
     },
     "execution_count": 2,
     "metadata": {},
     "output_type": "execute_result"
    }
   ],
   "source": [
    "#Q1: How many records are in the dataset?\n",
    "project.count()"
   ]
  },
  {
   "cell_type": "code",
   "execution_count": 3,
   "metadata": {},
   "outputs": [
    {
     "data": {
      "text/plain": [
       "'Baker'"
      ]
     },
     "execution_count": 3,
     "metadata": {},
     "output_type": "execute_result"
    }
   ],
   "source": [
    "#Q2: What is the name of the hurricane at index 0?\n",
    "project.get_name(0)"
   ]
  },
  {
   "cell_type": "code",
   "execution_count": 4,
   "metadata": {},
   "outputs": [
    {
     "data": {
      "text/plain": [
       "1"
      ]
     },
     "execution_count": 4,
     "metadata": {},
     "output_type": "execute_result"
    }
   ],
   "source": [
    "#Q3: How many deaths were caused by the hurricane at index 110?\n",
    "project.get_deaths(110)"
   ]
  },
  {
   "cell_type": "code",
   "execution_count": 5,
   "metadata": {},
   "outputs": [
    {
     "data": {
      "text/plain": [
       "1430000000"
      ]
     },
     "execution_count": 5,
     "metadata": {},
     "output_type": "execute_result"
    }
   ],
   "source": [
    "#Q4: How much damage (in dollars) was done by the hurricane at index 1?\n",
    "def zhuanhuan(x):\n",
    "    K = x.find('K')\n",
    "    M = x.find('M')\n",
    "    B = x.find('B')\n",
    "    if K != -1:\n",
    "        return int(float(x.split('K')[0])*1000)\n",
    "    elif M != -1:\n",
    "        return int(float(x.split('M')[0])*1000000)\n",
    "    elif B != -1:\n",
    "        return int(float(x.split('B')[0])*1000000000)\n",
    "    else:\n",
    "        return int(float(x))\n",
    "\n",
    "zhuanhuan(project.get_damage(1))\n",
    "    "
   ]
  },
  {
   "cell_type": "code",
   "execution_count": 6,
   "metadata": {},
   "outputs": [
    {
     "data": {
      "text/plain": [
       "True"
      ]
     },
     "execution_count": 6,
     "metadata": {},
     "output_type": "execute_result"
    }
   ],
   "source": [
    "#Q5: Is there a hurricane named Flossy?\n",
    "#mingzi = input('please input the name you want to find:').lower()\n",
    "mingzi = 'Flossy'.lower()\n",
    "for i in range(project.count()):\n",
    "    duixiang = project.get_name(i).lower()\n",
    "    if mingzi == duixiang:\n",
    "        output = True\n",
    "        break\n",
    "output\n",
    "    "
   ]
  },
  {
   "cell_type": "code",
   "execution_count": 7,
   "metadata": {},
   "outputs": [
    {
     "data": {
      "text/plain": [
       "2"
      ]
     },
     "execution_count": 7,
     "metadata": {},
     "output_type": "execute_result"
    }
   ],
   "source": [
    "#Q6: How many hurricanes were named Floyd?\n",
    "\n",
    "##mingzi = input('please input the name you want to find:').lower()\n",
    "mingzi = 'Floyd'.lower()\n",
    "n = 0\n",
    "for i in range(project.count()):\n",
    "    duixiang = project.get_name(i).lower()\n",
    "    if mingzi == duixiang:\n",
    "        n += 1\n",
    "        continue\n",
    "n\n"
   ]
  },
  {
   "cell_type": "code",
   "execution_count": 8,
   "metadata": {},
   "outputs": [
    {
     "data": {
      "text/plain": [
       "13129"
      ]
     },
     "execution_count": 8,
     "metadata": {},
     "output_type": "execute_result"
    }
   ],
   "source": [
    "#Q7: How many total deaths are represented in the dataset?\n",
    "n = 0\n",
    "for i in range(project.count()):\n",
    "    n = n + project.get_deaths(i)\n",
    "n"
   ]
  },
  {
   "cell_type": "code",
   "execution_count": 9,
   "metadata": {},
   "outputs": [
    {
     "data": {
      "text/plain": [
       "792890014998"
      ]
     },
     "execution_count": 9,
     "metadata": {},
     "output_type": "execute_result"
    }
   ],
   "source": [
    "#Q8: What were the total damages across all hurricanes in the dataset, in dollars?\n",
    "#Remember that \"K\" stands for thousand, \"M\" stands for million, and \"B\" stands for billion! \n",
    "#These may appear in the dataset, but the answer you compute (792890014998) should not use them.\n",
    "c = 0\n",
    "for i in range(project.count()):\n",
    "    c = c + zhuanhuan(project.get_damage(i))\n",
    "c\n"
   ]
  },
  {
   "cell_type": "code",
   "execution_count": 10,
   "metadata": {},
   "outputs": [
    {
     "data": {
      "text/plain": [
       "190"
      ]
     },
     "execution_count": 10,
     "metadata": {},
     "output_type": "execute_result"
    }
   ],
   "source": [
    "#Q9: What is the fastest MPH ever acheived by a hurricane?\n",
    "zuikuaifeng = int(project.get_mph(0))\n",
    "for i in range(project.count()):\n",
    "    if zuikuaifeng <= project.get_mph(i):\n",
    "        zuikuaifeng = project.get_mph(i)\n",
    "zuikuaifeng"
   ]
  },
  {
   "cell_type": "code",
   "execution_count": 11,
   "metadata": {},
   "outputs": [
    {
     "data": {
      "text/plain": [
       "'Allen'"
      ]
     },
     "execution_count": 11,
     "metadata": {},
     "output_type": "execute_result"
    }
   ],
   "source": [
    "#Q10: What is the name of that fastest hurricane?\n",
    "zuikuaifeng = int(project.get_mph(0))\n",
    "k = 0\n",
    "for i in range(project.count()):\n",
    "    if zuikuaifeng <= project.get_mph(i):\n",
    "        zuikuaifeng = project.get_mph(i)\n",
    "        k = i\n",
    "project.get_name(k)"
   ]
  },
  {
   "cell_type": "code",
   "execution_count": 12,
   "metadata": {},
   "outputs": [
    {
     "data": {
      "text/plain": [
       "1980"
      ]
     },
     "execution_count": 12,
     "metadata": {},
     "output_type": "execute_result"
    }
   ],
   "source": [
    "#Q11: In what year did that fastest hurricane occur?\n",
    "zuikuaifeng = int(project.get_mph(0))\n",
    "k = 0\n",
    "for i in range(project.count()):\n",
    "    if zuikuaifeng <= project.get_mph(i):\n",
    "        zuikuaifeng = project.get_mph(i)\n",
    "        k = i\n",
    "project.get_year(k)"
   ]
  },
  {
   "cell_type": "code",
   "execution_count": 13,
   "metadata": {},
   "outputs": [
    {
     "data": {
      "text/plain": [
       "75"
      ]
     },
     "execution_count": 13,
     "metadata": {},
     "output_type": "execute_result"
    }
   ],
   "source": [
    "\n",
    "#Q12: What is the slowest MPH in the dataset?\n",
    "zuimanfeng = 200\n",
    "k = 0\n",
    "for i in range(project.count()):\n",
    "    if zuikuaifeng >= project.get_mph(i):\n",
    "        zuikuaifeng = project.get_mph(i)\n",
    "        k = i\n",
    "zuikuaifeng\n"
   ]
  },
  {
   "cell_type": "code",
   "execution_count": 14,
   "metadata": {},
   "outputs": [
    {
     "data": {
      "text/plain": [
       "'Maria'"
      ]
     },
     "execution_count": 14,
     "metadata": {},
     "output_type": "execute_result"
    }
   ],
   "source": [
    "#Q13: what was the deadliest hurricane in the entire dataset?\n",
    "\n",
    "zuiqiangfeng = int(project.get_deaths(0))\n",
    "k = 0\n",
    "for i in range(project.count()):\n",
    "    if zuiqiangfeng <= project.get_deaths(i):\n",
    "        zuikuaifeng = project.get_deaths(i)\n",
    "        k = i\n",
    "project.get_name(k)\n"
   ]
  },
  {
   "cell_type": "code",
   "execution_count": 15,
   "metadata": {},
   "outputs": [
    {
     "data": {
      "text/plain": [
       "'Hortense'"
      ]
     },
     "execution_count": 15,
     "metadata": {},
     "output_type": "execute_result"
    }
   ],
   "source": [
    "#Q14: what was the deadliest hurricane in or before 2016?\n",
    "zuiqiangfeng = int(project.get_deaths(0))\n",
    "k = 0\n",
    "for i in range(project.count()):\n",
    "    if project.get_year(i) <= 2016:\n",
    "        if zuiqiangfeng <= project.get_deaths(i):\n",
    "            zuikuaifeng = project.get_deaths(i)\n",
    "            k = i\n",
    "project.get_name(k)"
   ]
  },
  {
   "cell_type": "code",
   "execution_count": 16,
   "metadata": {},
   "outputs": [
    {
     "data": {
      "text/plain": [
       "'Soudelor'"
      ]
     },
     "execution_count": 16,
     "metadata": {},
     "output_type": "execute_result"
    }
   ],
   "source": [
    "#Q15: what was the deadliest hurricane between 2005 and 2016 (inclusive)?\n",
    "zuiqiangfeng = int(project.get_deaths(0))\n",
    "k = 0\n",
    "for i in range(project.count()):\n",
    "    if (project.get_year(i) <= 2016) & (project.get_year(i) >= 2005):\n",
    "        if zuiqiangfeng <= project.get_deaths(i):\n",
    "            zuikuaifeng = project.get_deaths(i)\n",
    "            k = i\n",
    "project.get_name(k)"
   ]
  },
  {
   "cell_type": "code",
   "execution_count": 17,
   "metadata": {},
   "outputs": [
    {
     "data": {
      "text/plain": [
       "4452"
      ]
     },
     "execution_count": 17,
     "metadata": {},
     "output_type": "execute_result"
    }
   ],
   "source": [
    "\n",
    "#Q16: how many people died in the decade starting in 2010?\n",
    "\n",
    "def decade_deaths(decade):\n",
    "    shinian = decade // 10\n",
    "    siren = 0\n",
    "    for i in range(project.count()):\n",
    "        if (project.get_year(i) // 10) == shinian:\n",
    "            siren = siren + project.get_deaths(i)\n",
    "    return siren\n",
    "decade_deaths(2010)    "
   ]
  },
  {
   "cell_type": "code",
   "execution_count": 18,
   "metadata": {},
   "outputs": [
    {
     "data": {
      "text/plain": [
       "5580"
      ]
     },
     "execution_count": 18,
     "metadata": {},
     "output_type": "execute_result"
    }
   ],
   "source": [
    "#Q17: how many people died in the decade starting in 2000?\n",
    "decade_deaths(2000)"
   ]
  },
  {
   "cell_type": "code",
   "execution_count": 19,
   "metadata": {},
   "outputs": [
    {
     "data": {
      "text/plain": [
       "996"
      ]
     },
     "execution_count": 19,
     "metadata": {},
     "output_type": "execute_result"
    }
   ],
   "source": [
    "#Q18: how many people died in the decade starting in 1990?\n",
    "decade_deaths(1990)"
   ]
  },
  {
   "cell_type": "code",
   "execution_count": 20,
   "metadata": {},
   "outputs": [
    {
     "data": {
      "text/plain": [
       "483"
      ]
     },
     "execution_count": 20,
     "metadata": {},
     "output_type": "execute_result"
    }
   ],
   "source": [
    "#Q19: how many people died in the decade starting in 1980?\n",
    "decade_deaths(1980)"
   ]
  },
  {
   "cell_type": "code",
   "execution_count": 21,
   "metadata": {},
   "outputs": [
    {
     "data": {
      "text/plain": [
       "217"
      ]
     },
     "execution_count": 21,
     "metadata": {},
     "output_type": "execute_result"
    }
   ],
   "source": [
    "decade_deaths(1950)"
   ]
  },
  {
   "cell_type": "code",
   "execution_count": null,
   "metadata": {},
   "outputs": [],
   "source": []
  },
  {
   "cell_type": "code",
   "execution_count": 22,
   "metadata": {},
   "outputs": [
    {
     "data": {
      "text/plain": [
       "2000"
      ]
     },
     "execution_count": 22,
     "metadata": {},
     "output_type": "execute_result"
    }
   ],
   "source": [
    "#Q20: what was deadliest decade in the dataset?\n",
    "\"\"\"\n",
    "Report the start year for that decade. \n",
    "Only consider round numbers For example, the ten years starting in 1990 should be \n",
    "considered as a possible worst decade, but the ten years starting in 1991 should not be.\n",
    "\"\"\"\n",
    "zuiduo = 0\n",
    "for i in range(project.count()):\n",
    "    shinian = decade_deaths(project.get_year(i))\n",
    "    if zuiduo < shinian:\n",
    "        zuiduo = shinian\n",
    "        k = (project.get_year(i) // 10) * 10\n",
    "k\n"
   ]
  },
  {
   "cell_type": "code",
   "execution_count": 23,
   "metadata": {},
   "outputs": [
    {
     "data": {
      "text/plain": [
       "int"
      ]
     },
     "execution_count": 23,
     "metadata": {},
     "output_type": "execute_result"
    }
   ],
   "source": [
    "type(decade_deaths(project.get_year(2)))"
   ]
  },
  {
   "cell_type": "code",
   "execution_count": null,
   "metadata": {},
   "outputs": [],
   "source": []
  }
 ],
 "metadata": {
  "kernelspec": {
   "display_name": "Python 3",
   "language": "python",
   "name": "python3"
  },
  "language_info": {
   "codemirror_mode": {
    "name": "ipython",
    "version": 3
   },
   "file_extension": ".py",
   "mimetype": "text/x-python",
   "name": "python",
   "nbconvert_exporter": "python",
   "pygments_lexer": "ipython3",
   "version": "3.7.4"
  }
 },
 "nbformat": 4,
 "nbformat_minor": 2
}
