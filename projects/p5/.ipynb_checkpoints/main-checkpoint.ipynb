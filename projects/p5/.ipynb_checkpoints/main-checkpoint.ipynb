{
 "cells": [
  {
   "cell_type": "code",
   "execution_count": 1,
   "metadata": {},
   "outputs": [],
   "source": [
    "import project"
   ]
  },
  {
   "cell_type": "code",
   "execution_count": 2,
   "metadata": {},
   "outputs": [
    {
     "data": {
      "text/plain": [
       "111"
      ]
     },
     "execution_count": 2,
     "metadata": {},
     "output_type": "execute_result"
    }
   ],
   "source": [
    "#Q1: How many records are in the dataset?\n",
    "project.count()"
   ]
  },
  {
   "cell_type": "code",
   "execution_count": 3,
   "metadata": {},
   "outputs": [
    {
     "data": {
      "text/plain": [
       "'Baker'"
      ]
     },
     "execution_count": 3,
     "metadata": {},
     "output_type": "execute_result"
    }
   ],
   "source": [
    "#Q2: What is the name of the hurricane at index 0?\n",
    "project.get_name(0)"
   ]
  },
  {
   "cell_type": "code",
   "execution_count": 5,
   "metadata": {},
   "outputs": [
    {
     "data": {
      "text/plain": [
       "1"
      ]
     },
     "execution_count": 5,
     "metadata": {},
     "output_type": "execute_result"
    }
   ],
   "source": [
    "#Q3: How many deaths were caused by the hurricane at index 110?\n",
    "project.get_deaths(110)"
   ]
  },
  {
   "cell_type": "code",
   "execution_count": 20,
   "metadata": {},
   "outputs": [
    {
     "data": {
      "text/plain": [
       "1430000000"
      ]
     },
     "execution_count": 20,
     "metadata": {},
     "output_type": "execute_result"
    }
   ],
   "source": [
    "\"\"\"\n",
    "Q4: How much damage (in dollars) was done by the hurricane at index 1?\n",
    "Be careful! In the data, the number was formatted with a suffix, \n",
    "but you'll need to do some processing to convert it to this: 1430000000.\n",
    "While not required, you may wish to write a general function that handles \"K\", \"M\", and \"B\" suffixes (it will be handy later).\n",
    "\"\"\"\n",
    "\n",
    "def zhuanhuan(x):\n",
    "    K = x.find('K')\n",
    "    M = x.find('M')\n",
    "    B = x.find('B')\n",
    "    if K != -1:\n",
    "        return int(float(x.split('K')[0])*1000)\n",
    "    elif M != -1:\n",
    "        return int(float(x.split('M')[0])*1000000)\n",
    "    elif B != -1:\n",
    "        return int(float(x.split('B')[0])*1000000000)\n",
    "    else:\n",
    "        return int(float(x))\n",
    "\n",
    "zhuanhuan(project.get_damage(1))\n",
    "    "
   ]
  },
  {
   "cell_type": "code",
   "execution_count": 27,
   "metadata": {},
   "outputs": [
    {
     "name": "stdout",
     "output_type": "stream",
     "text": [
      "please input the name you want to find:flossy\n",
      "there is ' flossy 'in the sample\n"
     ]
    }
   ],
   "source": [
    "\"\"\"\n",
    "Q5: Is there a hurricane named Flossy?\n",
    "To get full credit on this one, you are required to use a break to finish your loop early if Flossy is found.\n",
    "\n",
    "Hint: here's a loop that prints every hurricane name. Consider adapting the code?\n",
    "\n",
    "for i in range(project.count()):\n",
    "    print(project.get_name(i))\"\"\"\n",
    "\n",
    "#mingzi = input('please input the name you want to find:').lower()\n",
    "mingzi = 'Flossy'.lower()\n",
    "for i in range(project.count()):\n",
    "    duixiang = project.get_name(i).lower()\n",
    "    if mingzi == duixiang:\n",
    "        print(\"there is '\", mingzi, \"'in the sample\" )\n",
    "        break\n",
    "    "
   ]
  },
  {
   "cell_type": "code",
   "execution_count": 30,
   "metadata": {},
   "outputs": [
    {
     "name": "stdout",
     "output_type": "stream",
     "text": [
      "there is ' floyd 'in the sample\n"
     ]
    }
   ],
   "source": [
    "\"\"\"\n",
    "Q6: How many hurricanes were named Floyd?\n",
    "Write your code such that it counts all the variants (e.g., \"Floyd\", \"FLOYD\", \"floyd\", etc.).\n",
    "\"\"\"\n",
    "##mingzi = input('please input the name you want to find:').lower()\n",
    "mingzi = 'Floyd'.lower()\n",
    "for i in range(project.count()):\n",
    "    duixiang = project.get_name(i).lower()\n",
    "    if mingzi == duixiang:\n",
    "        print(\"there is '\", mingzi, \"'in the sample\" )\n",
    "        break\n"
   ]
  },
  {
   "cell_type": "code",
   "execution_count": 32,
   "metadata": {},
   "outputs": [
    {
     "name": "stdout",
     "output_type": "stream",
     "text": [
      "13129\n"
     ]
    }
   ],
   "source": [
    "#Q7: How many total deaths are represented in the dataset?\n",
    "n = 0\n",
    "for i in range(project.count()):\n",
    "    n = n + project.get_deaths(i)\n",
    "print(n)"
   ]
  },
  {
   "cell_type": "code",
   "execution_count": 33,
   "metadata": {},
   "outputs": [
    {
     "name": "stdout",
     "output_type": "stream",
     "text": [
      "792890014998\n"
     ]
    }
   ],
   "source": [
    "#Q8: What were the total damages across all hurricanes in the dataset, in dollars?\n",
    "#Remember that \"K\" stands for thousand, \"M\" stands for million, and \"B\" stands for billion! \n",
    "#These may appear in the dataset, but the answer you compute (792890014998) should not use them.\n",
    "c = 0\n",
    "for i in range(project.count()):\n",
    "    c = c + zhuanhuan(project.get_damage(i))\n",
    "print(c)\n"
   ]
  },
  {
   "cell_type": "code",
   "execution_count": 35,
   "metadata": {},
   "outputs": [
    {
     "name": "stdout",
     "output_type": "stream",
     "text": [
      "190\n"
     ]
    }
   ],
   "source": [
    "#Q9: What is the fastest MPH ever acheived by a hurricane?\n",
    "zuikuaifeng = int(project.get_mph(0))\n",
    "for i in range(project.count()):\n",
    "    if zuikuaifeng <= project.get_mph(i):\n",
    "        zuikuaifeng = project.get_mph(i)\n",
    "print(zuikuaifeng)"
   ]
  },
  {
   "cell_type": "code",
   "execution_count": 36,
   "metadata": {},
   "outputs": [
    {
     "name": "stdout",
     "output_type": "stream",
     "text": [
      "Allen\n"
     ]
    }
   ],
   "source": [
    "#Q10: What is the name of that fastest hurricane?\n",
    "zuikuaifeng = int(project.get_mph(0))\n",
    "k = 0\n",
    "for i in range(project.count()):\n",
    "    if zuikuaifeng <= project.get_mph(i):\n",
    "        zuikuaifeng = project.get_mph(i)\n",
    "        k = i\n",
    "print(project.get_name(k))"
   ]
  },
  {
   "cell_type": "code",
   "execution_count": 37,
   "metadata": {},
   "outputs": [
    {
     "name": "stdout",
     "output_type": "stream",
     "text": [
      "1980\n"
     ]
    }
   ],
   "source": [
    "#Q11: In what year did that fastest hurricane occur?\n",
    "zuikuaifeng = int(project.get_mph(0))\n",
    "k = 0\n",
    "for i in range(project.count()):\n",
    "    if zuikuaifeng <= project.get_mph(i):\n",
    "        zuikuaifeng = project.get_mph(i)\n",
    "        k = i\n",
    "print(project.get_year(k))"
   ]
  },
  {
   "cell_type": "code",
   "execution_count": 38,
   "metadata": {},
   "outputs": [
    {
     "name": "stdout",
     "output_type": "stream",
     "text": [
      "Gaston\n"
     ]
    }
   ],
   "source": [
    "\"\"\"\n",
    "Q12: What is the slowest MPH in the dataset?\n",
    "Function Suggestion:\n",
    "We suggest you complete a function something like the following to \n",
    "answer the next several questions (this is not a requirement if you prefer to solve the problem another way):\n",
    "\n",
    "# return name of deadliest hurricane over the given date range\n",
    "\n",
    "\"\"\"\n",
    "zuimanfeng = int(project.get_mph(0))\n",
    "k = 0\n",
    "for i in range(project.count()):\n",
    "    if zuikuaifeng >= project.get_mph(i):\n",
    "        zuikuaifeng = project.get_mph(i)\n",
    "        k = i\n",
    "print(project.get_name(k))"
   ]
  },
  {
   "cell_type": "code",
   "execution_count": 39,
   "metadata": {},
   "outputs": [
    {
     "name": "stdout",
     "output_type": "stream",
     "text": [
      "Maria\n"
     ]
    }
   ],
   "source": [
    "\"\"\"\n",
    "Q13: what was the deadliest hurricane in the entire dataset?\n",
    "You may assume all years are between 1900 and 2100 (this assumption applies to all questions).\n",
    "\"\"\"\n",
    "zuiqiangfeng = int(project.get_deaths(0))\n",
    "k = 0\n",
    "for i in range(project.count()):\n",
    "    if zuiqiangfeng <= project.get_deaths(i):\n",
    "        zuikuaifeng = project.get_deaths(i)\n",
    "        k = i\n",
    "print(project.get_name(k))\n"
   ]
  },
  {
   "cell_type": "code",
   "execution_count": 40,
   "metadata": {},
   "outputs": [
    {
     "name": "stdout",
     "output_type": "stream",
     "text": [
      "Hortense\n"
     ]
    }
   ],
   "source": [
    "\"\"\"\n",
    "Q14: what was the deadliest hurricane in or before 2016?\n",
    "\"\"\"\n",
    "zuiqiangfeng = int(project.get_deaths(0))\n",
    "k = 0\n",
    "for i in range(project.count()):\n",
    "    if project.get_year(i) <= 2016:\n",
    "        if zuiqiangfeng <= project.get_deaths(i):\n",
    "            zuikuaifeng = project.get_deaths(i)\n",
    "            k = i\n",
    "print(project.get_name(k))"
   ]
  },
  {
   "cell_type": "code",
   "execution_count": 41,
   "metadata": {},
   "outputs": [
    {
     "name": "stdout",
     "output_type": "stream",
     "text": [
      "Soudelor\n"
     ]
    }
   ],
   "source": [
    "#Q15: what was the deadliest hurricane between 2005 and 2016 (inclusive)?\n",
    "zuiqiangfeng = int(project.get_deaths(0))\n",
    "k = 0\n",
    "for i in range(project.count()):\n",
    "    if (project.get_year(i) <= 2016) & (project.get_year(i) >= 2005):\n",
    "        if zuiqiangfeng <= project.get_deaths(i):\n",
    "            zuikuaifeng = project.get_deaths(i)\n",
    "            k = i\n",
    "print(project.get_name(k))"
   ]
  },
  {
   "cell_type": "code",
   "execution_count": 89,
   "metadata": {},
   "outputs": [
    {
     "data": {
      "text/plain": [
       "4452"
      ]
     },
     "execution_count": 89,
     "metadata": {},
     "output_type": "execute_result"
    }
   ],
   "source": [
    "\"\"\"\n",
    "Function Suggestion:\n",
    "We suggest you complete a function something like the following to \n",
    "answer the next several questions (this is not a requirement if you prefer to solve the problem another way):\n",
    "\n",
    "def decade_deaths(decade):\n",
    "    pass\n",
    "Hint: what is year - year%10? Try evaluating after putting different values in a year variable.\n",
    "\n",
    "Q16: how many people died in the decade starting in 2010?\n",
    "\"\"\"\n",
    "def decade_deaths(decade):\n",
    "    shinian = decade // 10\n",
    "    siren = 0\n",
    "    for i in range(project.count()):\n",
    "        if (project.get_year(i) // 10) == shinian:\n",
    "            siren = siren + project.get_deaths(i)\n",
    "    return siren\n",
    "decade_deaths(2010)    "
   ]
  },
  {
   "cell_type": "code",
   "execution_count": 53,
   "metadata": {},
   "outputs": [
    {
     "name": "stdout",
     "output_type": "stream",
     "text": [
      "5580\n"
     ]
    }
   ],
   "source": [
    "#Q17: how many people died in the decade starting in 2000?\n",
    "decade_deaths(2000)"
   ]
  },
  {
   "cell_type": "code",
   "execution_count": 54,
   "metadata": {},
   "outputs": [
    {
     "name": "stdout",
     "output_type": "stream",
     "text": [
      "996\n"
     ]
    }
   ],
   "source": [
    "#Q18: how many people died in the decade starting in 1990?\n",
    "decade_deaths(1990)"
   ]
  },
  {
   "cell_type": "code",
   "execution_count": 55,
   "metadata": {},
   "outputs": [
    {
     "name": "stdout",
     "output_type": "stream",
     "text": [
      "483\n"
     ]
    }
   ],
   "source": [
    "#Q19: how many people died in the decade starting in 1980?\n",
    "decade_deaths(1980)"
   ]
  },
  {
   "cell_type": "code",
   "execution_count": 70,
   "metadata": {},
   "outputs": [
    {
     "name": "stdout",
     "output_type": "stream",
     "text": [
      "217\n"
     ]
    }
   ],
   "source": [
    "decade_deaths(1950)"
   ]
  },
  {
   "cell_type": "code",
   "execution_count": null,
   "metadata": {},
   "outputs": [],
   "source": []
  },
  {
   "cell_type": "code",
   "execution_count": 90,
   "metadata": {},
   "outputs": [
    {
     "name": "stdout",
     "output_type": "stream",
     "text": [
      "2000\n"
     ]
    }
   ],
   "source": [
    "#Q20: what was deadliest decade in the dataset?\n",
    "\"\"\"\n",
    "Report the start year for that decade. \n",
    "Only consider round numbers For example, the ten years starting in 1990 should be \n",
    "considered as a possible worst decade, but the ten years starting in 1991 should not be.\n",
    "\"\"\"\n",
    "zuiduo = 0\n",
    "for i in range(project.count()):\n",
    "    shinian = decade_deaths(project.get_year(i))\n",
    "    if zuiduo < shinian:\n",
    "        zuiduo = shinian\n",
    "        k = (project.get_year(i) // 10) * 10\n",
    "print(k)\n"
   ]
  },
  {
   "cell_type": "code",
   "execution_count": 88,
   "metadata": {},
   "outputs": [
    {
     "name": "stdout",
     "output_type": "stream",
     "text": [
      "282\n"
     ]
    },
    {
     "data": {
      "text/plain": [
       "NoneType"
      ]
     },
     "execution_count": 88,
     "metadata": {},
     "output_type": "execute_result"
    }
   ],
   "source": [
    "type(decade_deaths(project.get_year(2)))"
   ]
  },
  {
   "cell_type": "code",
   "execution_count": null,
   "metadata": {},
   "outputs": [],
   "source": []
  }
 ],
 "metadata": {
  "kernelspec": {
   "display_name": "Python 3",
   "language": "python",
   "name": "python3"
  },
  "language_info": {
   "codemirror_mode": {
    "name": "ipython",
    "version": 3
   },
   "file_extension": ".py",
   "mimetype": "text/x-python",
   "name": "python",
   "nbconvert_exporter": "python",
   "pygments_lexer": "ipython3",
   "version": "3.7.4"
  }
 },
 "nbformat": 4,
 "nbformat_minor": 2
}
