{
 "cells": [
  {
   "cell_type": "code",
   "execution_count": 52,
   "metadata": {},
   "outputs": [
    {
     "data": {
      "text/plain": [
       "33"
      ]
     },
     "execution_count": 52,
     "metadata": {},
     "output_type": "execute_result"
    }
   ],
   "source": [
    "#q1\n",
    "import project \n",
    "project.init(\"madison.csv\")\n",
    "project.get_id(\"library\")"
   ]
  },
  {
   "cell_type": "code",
   "execution_count": 53,
   "metadata": {},
   "outputs": [
    {
     "data": {
      "text/plain": [
       "19.76071"
      ]
     },
     "execution_count": 53,
     "metadata": {},
     "output_type": "execute_result"
    }
   ],
   "source": [
    "#q2\n",
    "project.get_spending(44,year = 2018)"
   ]
  },
  {
   "cell_type": "code",
   "execution_count": 54,
   "metadata": {},
   "outputs": [
    {
     "data": {
      "text/plain": [
       "26.655754419999994"
      ]
     },
     "execution_count": 54,
     "metadata": {},
     "output_type": "execute_result"
    }
   ],
   "source": [
    "#q3\n",
    "streets_id = project.get_id(\"streets\")\n",
    "project.get_spending(streets_id,year = 2017 )"
   ]
  },
  {
   "cell_type": "code",
   "execution_count": 55,
   "metadata": {},
   "outputs": [
    {
     "data": {
      "text/plain": [
       "68.06346877"
      ]
     },
     "execution_count": 55,
     "metadata": {},
     "output_type": "execute_result"
    }
   ],
   "source": [
    "#q4\n",
    "def year_max(year): \n",
    "    # grab the spending by each agency in the given year \n",
    "    police_spending = project.get_spending(project.get_id(\"police\"), year) \n",
    "    fire_spending = project.get_spending(project.get_id(\"fire\"), year) \n",
    "    library_spending = project.get_spending(project.get_id(\"library\"), year) \n",
    "    parks_spending = project.get_spending(project.get_id(\"parks\"), year) \n",
    "    streets_spending = project.get_spending(project.get_id(\"streets\"), year) \n",
    "    \n",
    "    # use builtin max function to get the largest of the five values \n",
    "    return max(police_spending, fire_spending, library_spending, parks_spending, streets_spending)\n",
    "\n",
    "year_max(2015)"
   ]
  },
  {
   "cell_type": "code",
   "execution_count": 56,
   "metadata": {},
   "outputs": [
    {
     "data": {
      "text/plain": [
       "77.87553504"
      ]
     },
     "execution_count": 56,
     "metadata": {},
     "output_type": "execute_result"
    }
   ],
   "source": [
    "#q5\n",
    "year_max(2018)"
   ]
  },
  {
   "cell_type": "code",
   "execution_count": 57,
   "metadata": {},
   "outputs": [
    {
     "data": {
      "text/plain": [
       "68.06346877"
      ]
     },
     "execution_count": 57,
     "metadata": {},
     "output_type": "execute_result"
    }
   ],
   "source": [
    "#q6\n",
    "def agency_min(agency): \n",
    "    agency_id = project.get_id(agency) \n",
    "    y15 = project.get_spending(agency_id, 2015) \n",
    "    y16 = project.get_spending(agency_id, 2016)\n",
    "    y17 = project.get_spending(agency_id, 2017)\n",
    "    y18 = project.get_spending(agency_id, 2018)\n",
    "    \n",
    "    return min(y15,y16,y17,y18)\n",
    "\n",
    "agency_min(\"police\")"
   ]
  },
  {
   "cell_type": "code",
   "execution_count": 58,
   "metadata": {},
   "outputs": [
    {
     "data": {
      "text/plain": [
       "49.73757877"
      ]
     },
     "execution_count": 58,
     "metadata": {},
     "output_type": "execute_result"
    }
   ],
   "source": [
    "#q7\n",
    "agency_min(\"fire\")"
   ]
  },
  {
   "cell_type": "code",
   "execution_count": 59,
   "metadata": {},
   "outputs": [
    {
     "data": {
      "text/plain": [
       "16.96543425"
      ]
     },
     "execution_count": 59,
     "metadata": {},
     "output_type": "execute_result"
    }
   ],
   "source": [
    "#q8\n",
    "agency_min(\"library\")"
   ]
  },
  {
   "cell_type": "code",
   "execution_count": 60,
   "metadata": {},
   "outputs": [
    {
     "data": {
      "text/plain": [
       "27.013047475"
      ]
     },
     "execution_count": 60,
     "metadata": {},
     "output_type": "execute_result"
    }
   ],
   "source": [
    "#q9\n",
    "def agency_avg(agency): \n",
    "    agency_id = project.get_id(agency) \n",
    "    y15 = project.get_spending(agency_id, 2015) \n",
    "    y16 = project.get_spending(agency_id, 2016)\n",
    "    y17 = project.get_spending(agency_id, 2017)\n",
    "    y18 = project.get_spending(agency_id, 2018)\n",
    "    \n",
    "    return (y15 + y16 + y17 + y18)/4\n",
    "\n",
    "agency_avg(\"streets\")"
   ]
  },
  {
   "cell_type": "code",
   "execution_count": 61,
   "metadata": {},
   "outputs": [
    {
     "data": {
      "text/plain": [
       "19.152052834999996"
      ]
     },
     "execution_count": 61,
     "metadata": {},
     "output_type": "execute_result"
    }
   ],
   "source": [
    "#q10\n",
    "agency_avg(\"parks\")"
   ]
  },
  {
   "cell_type": "code",
   "execution_count": 62,
   "metadata": {},
   "outputs": [
    {
     "data": {
      "text/plain": [
       "7.224961934351909"
      ]
     },
     "execution_count": 62,
     "metadata": {},
     "output_type": "execute_result"
    }
   ],
   "source": [
    "#q11\n",
    "police_avg = agency_avg(\"police\")\n",
    "y18 = project.get_spending(project.get_id(\"police\"), 2018)\n",
    "(y18 - police_avg) / police_avg * 100"
   ]
  },
  {
   "cell_type": "code",
   "execution_count": 67,
   "metadata": {},
   "outputs": [
    {
     "data": {
      "text/plain": [
       "3.2706887566666674"
      ]
     },
     "execution_count": 67,
     "metadata": {},
     "output_type": "execute_result"
    }
   ],
   "source": [
    "#q12\n",
    "def change_per_year(agency, start_year = 2015, end_year = 2018):\n",
    "    agency_id = project.get_id(agency)\n",
    "    y_start = project.get_spending(agency_id, start_year) \n",
    "    y_end = project.get_spending(agency_id, end_year)\n",
    "    increase = (y_end-y_start)/(end_year - start_year)\n",
    "    return increase \n",
    "\n",
    "change_per_year(\"police\")"
   ]
  },
  {
   "cell_type": "code",
   "execution_count": 68,
   "metadata": {},
   "outputs": [
    {
     "data": {
      "text/plain": [
       "4.627587380000023"
      ]
     },
     "execution_count": 68,
     "metadata": {},
     "output_type": "execute_result"
    }
   ],
   "source": [
    "#q13\n",
    "change_per_year(\"police\",start_year = 2017)"
   ]
  },
  {
   "cell_type": "code",
   "execution_count": 104,
   "metadata": {},
   "outputs": [
    {
     "data": {
      "text/plain": [
       "-0.2148440299999983"
      ]
     },
     "execution_count": 104,
     "metadata": {},
     "output_type": "execute_result"
    }
   ],
   "source": [
    "#q14\n",
    "change_per_year(\"streets\",start_year = 2016)"
   ]
  },
  {
   "cell_type": "code",
   "execution_count": 73,
   "metadata": {},
   "outputs": [
    {
     "data": {
      "text/plain": [
       "20.80494298333333"
      ]
     },
     "execution_count": 73,
     "metadata": {},
     "output_type": "execute_result"
    }
   ],
   "source": [
    "#q15\n",
    "def extrapolate(agency, year1, year2, year3):\n",
    "    agency_id = project.get_id(agency)\n",
    "    y_2 = project.get_spending(agency_id, year2)\n",
    "    predict = change_per_year(agency, start_year = year1, end_year = year2) * (year3 - year2) + y_2\n",
    "    return predict\n",
    "\n",
    "extrapolate(\"library\", 2015, 2018, 2019)"
   ]
  },
  {
   "cell_type": "code",
   "execution_count": 74,
   "metadata": {},
   "outputs": [
    {
     "data": {
      "text/plain": [
       "98.55499483333321"
      ]
     },
     "execution_count": 74,
     "metadata": {},
     "output_type": "execute_result"
    }
   ],
   "source": [
    "#q16\n",
    "extrapolate(\"library\", 2015, 2018, 2100)"
   ]
  },
  {
   "cell_type": "code",
   "execution_count": 75,
   "metadata": {},
   "outputs": [
    {
     "data": {
      "text/plain": [
       "77.95994753999969"
      ]
     },
     "execution_count": 75,
     "metadata": {},
     "output_type": "execute_result"
    }
   ],
   "source": [
    "#q17\n",
    "extrapolate(\"library\", 2017, 2018, 2100)"
   ]
  },
  {
   "cell_type": "code",
   "execution_count": 81,
   "metadata": {},
   "outputs": [
    {
     "data": {
      "text/plain": [
       "-2.0353479350000327"
      ]
     },
     "execution_count": 81,
     "metadata": {},
     "output_type": "execute_result"
    }
   ],
   "source": [
    "#q18\n",
    "def extrapolate_error(agency, year1, year2, year3):\n",
    "    agency_id = project.get_id(agency)\n",
    "    y_3 = project.get_spending(agency_id, year3)\n",
    "    overestimated = extrapolate(agency, year1, year2, year3) - y_3\n",
    "    return overestimated\n",
    "\n",
    "extrapolate_error(\"police\", 2015, 2017, 2018)"
   ]
  },
  {
   "cell_type": "code",
   "execution_count": 82,
   "metadata": {},
   "outputs": [
    {
     "data": {
      "text/plain": [
       "6.149171779999982"
      ]
     },
     "execution_count": 82,
     "metadata": {},
     "output_type": "execute_result"
    }
   ],
   "source": [
    "#q19\n",
    "extrapolate_error(\"streets\", 2015, 2016, 2018)"
   ]
  },
  {
   "cell_type": "code",
   "execution_count": 83,
   "metadata": {},
   "outputs": [
    {
     "data": {
      "text/plain": [
       "-0.49974208000001497"
      ]
     },
     "execution_count": 83,
     "metadata": {},
     "output_type": "execute_result"
    }
   ],
   "source": [
    "#q20\n",
    "extrapolate_error(\"streets\", 2015, 2017, 2018)"
   ]
  }
 ],
 "metadata": {
  "kernelspec": {
   "display_name": "Python 3",
   "language": "python",
   "name": "python3"
  },
  "language_info": {
   "codemirror_mode": {
    "name": "ipython",
    "version": 3
   },
   "file_extension": ".py",
   "mimetype": "text/x-python",
   "name": "python",
   "nbconvert_exporter": "python",
   "pygments_lexer": "ipython3",
   "version": "3.7.4"
  }
 },
 "nbformat": 4,
 "nbformat_minor": 2
}
