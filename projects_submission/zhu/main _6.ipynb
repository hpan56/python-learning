{
 "cells": [
  {
   "cell_type": "code",
   "execution_count": 1,
   "metadata": {},
   "outputs": [
    {
     "data": {
      "text/plain": [
       "['US',\n",
       " 'Spain',\n",
       " 'France',\n",
       " 'Italy',\n",
       " 'New Zealand',\n",
       " 'Bulgaria',\n",
       " 'Argentina',\n",
       " 'Australia',\n",
       " 'Portugal',\n",
       " 'Israel',\n",
       " 'South Africa',\n",
       " 'Greece',\n",
       " 'Chile',\n",
       " 'Morocco',\n",
       " 'Romania',\n",
       " 'Germany',\n",
       " 'Canada',\n",
       " 'Moldova',\n",
       " 'Hungary',\n",
       " 'Austria',\n",
       " 'Croatia',\n",
       " 'Slovenia',\n",
       " 'India']"
      ]
     },
     "execution_count": 1,
     "metadata": {},
     "output_type": "execute_result"
    }
   ],
   "source": [
    "#q1\n",
    "import csv\n",
    "\n",
    "def process_csv(filename):\n",
    "    exampleFile = open(filename, encoding=\"utf-8\")\n",
    "    exampleReader = csv.reader(exampleFile)\n",
    "    exampleData = list(exampleReader)\n",
    "    return exampleData\n",
    "\n",
    "csv_rows = process_csv(\"wine.csv\")\n",
    "csv_header = csv_rows[0]\n",
    "csv_data = csv_rows[1:]\n",
    "\n",
    "country_names = []\n",
    "i = 0\n",
    "for i in range(len(csv_data)):\n",
    "    if csv_data[i][0] != \"\":\n",
    "        if csv_data[i][0] not in country_names:\n",
    "            country_names.append(csv_data[i][0])\n",
    "country_names"
   ]
  },
  {
   "cell_type": "code",
   "execution_count": 2,
   "metadata": {},
   "outputs": [
    {
     "data": {
      "text/plain": [
       "39.40787623066104"
      ]
     },
     "execution_count": 2,
     "metadata": {},
     "output_type": "execute_result"
    }
   ],
   "source": [
    "#q2\n",
    "price_sum = 0\n",
    "number = 0\n",
    "for i in range(len(csv_data)):\n",
    "    if csv_data[i][2] != \"\":\n",
    "        price_sum += float(csv_data[i][2])\n",
    "        number += 1\n",
    "price_sum / number"
   ]
  },
  {
   "cell_type": "code",
   "execution_count": 3,
   "metadata": {},
   "outputs": [
    {
     "data": {
      "text/plain": [
       "['Tinta de Toro',\n",
       " 'Tempranillo',\n",
       " 'Tempranillo Blend',\n",
       " 'Mencía',\n",
       " 'Palomino',\n",
       " 'Monastrell',\n",
       " 'Albariño',\n",
       " 'Sparkling Blend',\n",
       " 'Godello',\n",
       " 'Red Blend',\n",
       " 'White Blend',\n",
       " 'Sherry',\n",
       " 'Garnacha',\n",
       " 'Moscatel',\n",
       " 'Garnacha Blanca',\n",
       " 'Grenache-Syrah']"
      ]
     },
     "execution_count": 3,
     "metadata": {},
     "output_type": "execute_result"
    }
   ],
   "source": [
    "#q3\n",
    "wine_varieties = []\n",
    "for i in range(len(csv_data)):\n",
    "    if csv_data[i][0] == \"Spain\":\n",
    "        if csv_data[i][3] not in wine_varieties:\n",
    "            wine_varieties.append(csv_data[i][3])\n",
    "wine_varieties"
   ]
  },
  {
   "cell_type": "code",
   "execution_count": 4,
   "metadata": {},
   "outputs": [
    {
     "data": {
      "text/plain": [
       "['Château Pégau',\n",
       " 'Hawk Watch Winery',\n",
       " 'Laird',\n",
       " 'MCV',\n",
       " 'Tetra',\n",
       " 'Beronia',\n",
       " 'Adelaida Cellars',\n",
       " 'Palmeri',\n",
       " 'Sevtap',\n",
       " 'Montes',\n",
       " 'Fess Parker',\n",
       " 'Andrew Murray',\n",
       " 'Clos La Chance']"
      ]
     },
     "execution_count": 4,
     "metadata": {},
     "output_type": "execute_result"
    }
   ],
   "source": [
    "#q4\n",
    "def wine_description(des, list_name):\n",
    "    for i in range(len(csv_data)):\n",
    "            if des in csv_data[i][csv_header.index(\"description\")].lower():\n",
    "                if csv_data[i][csv_header.index(\"winery\")] not in list_name:\n",
    "                    list_name.append(csv_data[i][csv_header.index(\"winery\")])\n",
    "    return list_name\n",
    "\n",
    "wineries_beef = []    \n",
    "wine_description(\"beef\", wineries_beef)\n"
   ]
  },
  {
   "cell_type": "code",
   "execution_count": 5,
   "metadata": {},
   "outputs": [
    {
     "data": {
      "text/plain": [
       "['Santa Cruz Mountain Vineyard',\n",
       " 'Stephen Ross',\n",
       " 'Heron Hill',\n",
       " 'Fattoria di Magliano',\n",
       " 'Quinta Nova de Nossa Senhora do Carmo',\n",
       " 'Byron',\n",
       " 'Bürgermeister Willi Schweinhardt',\n",
       " 'MCV',\n",
       " 'Dr. H. Thanisch (Erben Thanisch)',\n",
       " 'Benoît Girard',\n",
       " 'Domaine Ostertag',\n",
       " 'Concha y Toro',\n",
       " 'Sheldrake Point',\n",
       " 'Domaine Collotte',\n",
       " 'Domaine Allimant-Laugner',\n",
       " 'Margerum',\n",
       " 'Brander']"
      ]
     },
     "execution_count": 5,
     "metadata": {},
     "output_type": "execute_result"
    }
   ],
   "source": [
    "#q5    \n",
    "wineries_zesty =[]\n",
    "wine_description(\"zesty\", wineries_zesty)"
   ]
  },
  {
   "cell_type": "code",
   "execution_count": 8,
   "metadata": {},
   "outputs": [
    {
     "data": {
      "text/plain": [
       "['Maurodos',\n",
       " 'Bodega Carmen Rodríguez',\n",
       " 'Val de Los Frailes',\n",
       " 'Matarromera',\n",
       " 'Palacio del Burgo']"
      ]
     },
     "execution_count": 8,
     "metadata": {},
     "output_type": "execute_result"
    }
   ],
   "source": [
    "#q6\n",
    "wineries_blackfruitaroma =[]\n",
    "wine_description(\"black-fruit aroma\", wineries_blackfruitaroma)"
   ]
  },
  {
   "cell_type": "code",
   "execution_count": 13,
   "metadata": {},
   "outputs": [
    {
     "data": {
      "text/plain": [
       "['Cabernet Sauvignon']"
      ]
     },
     "execution_count": 13,
     "metadata": {},
     "output_type": "execute_result"
    }
   ],
   "source": [
    "#q7\n",
    "def wine_ana(phrase):\n",
    "    sort_phrase = sorted(phrase.lower().replace(\" \",\"\"))  \n",
    "    wine_var = []\n",
    "    for i in range(len(csv_data)):\n",
    "        sort_variety =sorted(csv_data[i][csv_header.index(\"variety\")].lower().replace(\" \",\"\"))\n",
    "        if sort_variety == sort_phrase:\n",
    "            if csv_data[i][csv_header.index(\"variety\")] not in wine_var:\n",
    "                wine_var.append(csv_data[i][csv_header.index(\"variety\")])\n",
    "    return wine_var\n",
    "\n",
    "wine_ana(\"antibus governance\")"
   ]
  },
  {
   "cell_type": "code",
   "execution_count": 15,
   "metadata": {},
   "outputs": [
    {
     "data": {
      "text/plain": [
       "['Tempranillo Blend']"
      ]
     },
     "execution_count": 15,
     "metadata": {},
     "output_type": "execute_result"
    }
   ],
   "source": [
    "#q8\n",
    "wine_ana(\"Banned Petrol Mill\")"
   ]
  },
  {
   "cell_type": "code",
   "execution_count": 21,
   "metadata": {},
   "outputs": [
    {
     "data": {
      "text/plain": [
       "['Cabernet Sauvignon', 'Sauvignon Blanc', 'Pinot Noir']"
      ]
     },
     "execution_count": 21,
     "metadata": {},
     "output_type": "execute_result"
    }
   ],
   "source": [
    "#q9\n",
    "def highest_rated(country):\n",
    "    high  = 0\n",
    "    high_id = 0\n",
    "    wine_list = []\n",
    "    for i in range(len(csv_data)):\n",
    "        if csv_data[i][0] == country:\n",
    "            if float(csv_data[i][1]) >= high:\n",
    "                high = float(csv_data[i][1])\n",
    "                high_id = i\n",
    "                wine_list.append(csv_data[high_id][3])\n",
    "    return wine_list\n",
    "\n",
    "highest_rated(\"US\")"
   ]
  },
  {
   "cell_type": "code",
   "execution_count": 22,
   "metadata": {},
   "outputs": [
    {
     "data": {
      "text/plain": [
       "['Tinta de Toro']"
      ]
     },
     "execution_count": 22,
     "metadata": {},
     "output_type": "execute_result"
    }
   ],
   "source": [
    "#q10\n",
    "highest_rated(\"Spain\")"
   ]
  },
  {
   "cell_type": "code",
   "execution_count": 82,
   "metadata": {},
   "outputs": [
    {
     "data": {
      "text/plain": [
       "2.183421985815603"
      ]
     },
     "execution_count": 82,
     "metadata": {},
     "output_type": "execute_result"
    }
   ],
   "source": [
    "#q11\n",
    "def winery_ppd(winery):\n",
    "    sum_point = 0\n",
    "    sum_num = 0\n",
    "    for i in range(len(csv_data)):\n",
    "        if csv_data[i][4] == winery:\n",
    "            if csv_data[i][2] != \"\":\n",
    "                j = float(csv_data[i][1]) / float(csv_data[i][2])\n",
    "                sum_point += j\n",
    "                sum_num += 1\n",
    "    return sum_point/sum_num\n",
    "winery_ppd(\"Heitz\")"
   ]
  },
  {
   "cell_type": "code",
   "execution_count": 81,
   "metadata": {},
   "outputs": [
    {
     "data": {
      "text/plain": [
       "1.288074888074888"
      ]
     },
     "execution_count": 81,
     "metadata": {},
     "output_type": "execute_result"
    }
   ],
   "source": [
    "#q12\n",
    "winery_ppd(\"Ponzi\")"
   ]
  },
  {
   "cell_type": "code",
   "execution_count": 108,
   "metadata": {},
   "outputs": [
    {
     "data": {
      "text/plain": [
       "'Spy Valley'"
      ]
     },
     "execution_count": 108,
     "metadata": {},
     "output_type": "execute_result"
    }
   ],
   "source": [
    "#q13 \n",
    "def high_ppd(country):\n",
    "    winery = []\n",
    "    for i in range(len(csv_data)):\n",
    "        if csv_data[i][0] == country:\n",
    "            if csv_data[i][4] not in wine_varieties:\n",
    "                winery.append(csv_data[i][4])                   \n",
    "    high_winery = winery[0] \n",
    "    high_ppd1 =  0\n",
    "    for i in range(len(csv_data)):\n",
    "        for j in range(len(winery)):\n",
    "            if csv_data[i][0] == country and csv_data[i][4] == winery[j]:\n",
    "                if csv_data[i][2] != \"\":\n",
    "                    k = float(csv_data[i][1]) / float(csv_data[i][2])\n",
    "\n",
    "                    if k > high_ppd1:\n",
    "                        high_ppd1 = k \n",
    "                        high_winery = winery[j]\n",
    "    return high_winery\n",
    "\n",
    "high_ppd(\"New Zealand\")"
   ]
  },
  {
   "cell_type": "code",
   "execution_count": 110,
   "metadata": {},
   "outputs": [
    {
     "data": {
      "text/plain": [
       "'Riposte'"
      ]
     },
     "execution_count": 110,
     "metadata": {},
     "output_type": "execute_result"
    }
   ],
   "source": [
    "#q14\n",
    "high_ppd(\"Australia\")"
   ]
  },
  {
   "cell_type": "code",
   "execution_count": 111,
   "metadata": {},
   "outputs": [
    {
     "data": {
      "text/plain": [
       "'Cave Spring'"
      ]
     },
     "execution_count": 111,
     "metadata": {},
     "output_type": "execute_result"
    }
   ],
   "source": [
    "#q15\n",
    "high_ppd(\"Canada\")"
   ]
  },
  {
   "cell_type": "code",
   "execution_count": 115,
   "metadata": {},
   "outputs": [
    {
     "data": {
      "text/plain": [
       "['Portuguese White', 'Portuguese Rosé', 'Portuguese Red']"
      ]
     },
     "execution_count": 115,
     "metadata": {},
     "output_type": "execute_result"
    }
   ],
   "source": [
    "#q16\n",
    "def wine_varieties(winery):\n",
    "    wine_var = []\n",
    "    for i in range(len(csv_data)):\n",
    "        if csv_data[i][4] == winery:\n",
    "            if csv_data[i][3] not in wine_var:\n",
    "                wine_var.append(csv_data[i][3])\n",
    "    return wine_var\n",
    "\n",
    "wine_varieties(\"Quinta Nova de Nossa Senhora do Carmo\")"
   ]
  },
  {
   "cell_type": "code",
   "execution_count": 116,
   "metadata": {},
   "outputs": [
    {
     "data": {
      "text/plain": [
       "['Portuguese Red', 'Portuguese White']"
      ]
     },
     "execution_count": 116,
     "metadata": {},
     "output_type": "execute_result"
    }
   ],
   "source": [
    "#q17\n",
    "wine_varieties(\"Adega Cooperativa de Borba\")"
   ]
  },
  {
   "cell_type": "code",
   "execution_count": 117,
   "metadata": {},
   "outputs": [
    {
     "data": {
      "text/plain": [
       "['Touriga Nacional', 'Portuguese Sparkling', 'Portuguese Red']"
      ]
     },
     "execution_count": 117,
     "metadata": {},
     "output_type": "execute_result"
    }
   ],
   "source": [
    "#q18\n",
    "wine_varieties(\"Global Wines\")"
   ]
  },
  {
   "cell_type": "code",
   "execution_count": 120,
   "metadata": {},
   "outputs": [
    {
     "data": {
      "text/plain": [
       "66.66666666666666"
      ]
     },
     "execution_count": 120,
     "metadata": {},
     "output_type": "execute_result"
    }
   ],
   "source": [
    "#q19\n",
    "def wine_both(x, y):\n",
    "    wine_x = wine_varieties(x)\n",
    "    wine_y = wine_varieties(y)\n",
    "    num = 0\n",
    "    for i in wine_y:\n",
    "        if i in wine_x:\n",
    "            num += 1\n",
    "    return num / len(wine_x) * 100\n",
    "\n",
    "wine_both(\"Quinta Nova de Nossa Senhora do Carmo\", \"Adega Cooperativa de Borba\")"
   ]
  },
  {
   "cell_type": "code",
   "execution_count": null,
   "metadata": {},
   "outputs": [],
   "source": [
    "#q20\n",
    "wine_both(\"Quinta Nova de Nossa Senhora do Carmo\",\"Global Wines\")"
   ]
  }
 ],
 "metadata": {
  "kernelspec": {
   "display_name": "Python 3",
   "language": "python",
   "name": "python3"
  },
  "language_info": {
   "codemirror_mode": {
    "name": "ipython",
    "version": 3
   },
   "file_extension": ".py",
   "mimetype": "text/x-python",
   "name": "python",
   "nbconvert_exporter": "python",
   "pygments_lexer": "ipython3",
   "version": "3.7.4"
  }
 },
 "nbformat": 4,
 "nbformat_minor": 2
}
