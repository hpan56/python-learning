{
 "cells": [
  {
   "cell_type": "code",
   "execution_count": 188,
   "metadata": {},
   "outputs": [],
   "source": [
    "import csv\n",
    "def get_mapping(mapping_path):\n",
    "    import csv\n",
    "    mapping_dict = {}\n",
    "    mapping_data = list(csv.reader(open(mapping_path, encoding = 'utf-8')))\n",
    "    for i in range(len(mapping_data)):\n",
    "        mapping_dict[mapping_data[i][0]] = mapping_data[i][1]\n",
    "    return mapping_dict"
   ]
  },
  {
   "cell_type": "code",
   "execution_count": 189,
   "metadata": {},
   "outputs": [
    {
     "data": {
      "text/plain": [
       "{'nm0000131': 'John Cusack',\n",
       " 'nm0000154': 'Mel Gibson',\n",
       " 'nm0000163': 'Dustin Hoffman',\n",
       " 'nm0000418': 'Danny Glover',\n",
       " 'nm0000432': 'Gene Hackman',\n",
       " 'nm0000997': 'Gary Busey',\n",
       " 'nm0001149': 'Richard Donner',\n",
       " 'nm0001219': 'Gary Fleder',\n",
       " 'nm0752751': 'Mitchell Ryan',\n",
       " 'tt0313542': 'Runaway Jury',\n",
       " 'tt0093409': 'Lethal Weapon'}"
      ]
     },
     "execution_count": 189,
     "metadata": {},
     "output_type": "execute_result"
    }
   ],
   "source": [
    "#q1\n",
    "mapping_dict = get_mapping(\"small_mapping.csv\")\n",
    "mapping_dict"
   ]
  },
  {
   "cell_type": "code",
   "execution_count": 190,
   "metadata": {},
   "outputs": [
    {
     "data": {
      "text/plain": [
       "'Runaway Jury'"
      ]
     },
     "execution_count": 190,
     "metadata": {},
     "output_type": "execute_result"
    }
   ],
   "source": [
    "#q2: what is the value associated with the key \"tt0313542\"?\n",
    "mapping_dict['tt0313542']"
   ]
  },
  {
   "cell_type": "code",
   "execution_count": 191,
   "metadata": {},
   "outputs": [
    {
     "data": {
      "text/plain": [
       "['Runaway Jury', 'Lethal Weapon']"
      ]
     },
     "execution_count": 191,
     "metadata": {},
     "output_type": "execute_result"
    }
   ],
   "source": [
    "#q3: what are the values in the mapping associated with keys beginning with \"tt\"?\n",
    "mapping_ttlist = []\n",
    "for i in range(len(mapping_dict)):\n",
    "    if 'tt' in list(mapping_dict.keys())[i]:\n",
    "        mapping_ttlist.append(list(mapping_dict.values())[i])\n",
    "mapping_ttlist"
   ]
  },
  {
   "cell_type": "code",
   "execution_count": 192,
   "metadata": {},
   "outputs": [
    {
     "data": {
      "text/plain": [
       "['nm0000997', 'nm0001219']"
      ]
     },
     "execution_count": 192,
     "metadata": {},
     "output_type": "execute_result"
    }
   ],
   "source": [
    "#q4 Question 4: which keys in the mapping map to people with a first name of \"Gary\"?\n",
    "fn_gary = []\n",
    "for key, value in mapping_dict.items():\n",
    "    firstname = value.split(\" \")[0]\n",
    "    if firstname == 'Gary':\n",
    "        fn_gary.append(key)\n",
    "fn_gary\n",
    "    \n"
   ]
  },
  {
   "cell_type": "code",
   "execution_count": 193,
   "metadata": {},
   "outputs": [],
   "source": [
    "def get_raw_movies(file_path):\n",
    "    import csv\n",
    "    import copy\n",
    "    movies_list = []\n",
    "    movies_data_temp = list(csv.reader(open(file_path, encoding = 'utf-8')))\n",
    "    movies_data = movies_data_temp[1:]\n",
    "    movies_header = movies_data_temp[0]\n",
    "    for i in range(len(movies_data)):\n",
    "        movies_dict_temp = {}\n",
    "        for j in range(6):\n",
    "            movies_dict_temp[movies_header[j]] = movies_data[i][j]\n",
    "        movies_list.append(movies_dict_temp)\n",
    "    return movies_list\n"
   ]
  },
  {
   "cell_type": "code",
   "execution_count": 194,
   "metadata": {},
   "outputs": [
    {
     "data": {
      "text/plain": [
       "[{'title': 'tt0313542',\n",
       "  'year': '2003',\n",
       "  'rating': '7.1',\n",
       "  'directors': 'nm0001219',\n",
       "  'actors': 'nm0000131,nm0000432,nm0000163',\n",
       "  'genres': 'Crime,Drama,Thriller'},\n",
       " {'title': 'tt0093409',\n",
       "  'year': '1987',\n",
       "  'rating': '7.6',\n",
       "  'directors': 'nm0001149',\n",
       "  'actors': 'nm0000154,nm0000418,nm0000997,nm0752751',\n",
       "  'genres': 'Action,Crime,Thriller'}]"
      ]
     },
     "execution_count": 194,
     "metadata": {},
     "output_type": "execute_result"
    }
   ],
   "source": [
    "#q5 Question 5: what does get_raw_movies(\"small_movies.csv\") return?\n",
    "movies_list = get_raw_movies(\"small_movies.csv\")\n",
    "movies_list"
   ]
  },
  {
   "cell_type": "code",
   "execution_count": 195,
   "metadata": {},
   "outputs": [
    {
     "data": {
      "text/plain": [
       "3"
      ]
     },
     "execution_count": 195,
     "metadata": {},
     "output_type": "execute_result"
    }
   ],
   "source": [
    "#q6 Question 6: how many genres did the movie at index 0 have?\n",
    "len(movies_list[0]['genres'].split(','))"
   ]
  },
  {
   "cell_type": "code",
   "execution_count": 196,
   "metadata": {},
   "outputs": [
    {
     "data": {
      "text/plain": [
       "'nm0752751'"
      ]
     },
     "execution_count": 196,
     "metadata": {},
     "output_type": "execute_result"
    }
   ],
   "source": [
    "#q7 Question 7: what is the ID of the last actor listed for the move at index 1?\n",
    "movies_list[1]['actors'].split(',')[-1]"
   ]
  },
  {
   "cell_type": "code",
   "execution_count": 197,
   "metadata": {},
   "outputs": [],
   "source": [
    "def get_movies(movies_path, mapping_path):\n",
    "    import copy\n",
    "    mapping_dict_temp = get_mapping(mapping_path)\n",
    "    movies_list_temp = get_raw_movies(movies_path)\n",
    "    movies_dict_temp = {}\n",
    "    movies_list_final = []\n",
    "    for i in range(len(movies_list_temp)):\n",
    "        genres_list = []\n",
    "        director_list = []\n",
    "        actor_list = []\n",
    "        movies_dict_temp = copy.copy(movies_list_temp[i])\n",
    "        movies_dict_temp['title'] = mapping_dict_temp[movies_list_temp[i]['title']]\n",
    "        for j in movies_list_temp[i]['directors'].split(','):\n",
    "            director_list.append(mapping_dict_temp[j])\n",
    "        movies_dict_temp['directors'] = director_list\n",
    "        for k in movies_list_temp[i]['actors'].split(','):\n",
    "            actor_list.append(mapping_dict_temp[k])\n",
    "        movies_dict_temp['actors'] = actor_list\n",
    "        movies_dict_temp['genres'] = movies_list_temp[i]['genres'].split(',')\n",
    "        movies_list_final.append(movies_dict_temp)\n",
    "    return movies_list_final"
   ]
  },
  {
   "cell_type": "code",
   "execution_count": 198,
   "metadata": {},
   "outputs": [],
   "source": [
    "small = get_movies(\"small_movies.csv\", \"small_mapping.csv\")"
   ]
  },
  {
   "cell_type": "code",
   "execution_count": 199,
   "metadata": {},
   "outputs": [
    {
     "data": {
      "text/plain": [
       "'Runaway Jury'"
      ]
     },
     "execution_count": 199,
     "metadata": {},
     "output_type": "execute_result"
    }
   ],
   "source": [
    "#q8 Question 8: what is small[0][\"title\"]?\n",
    "small[0]['title']"
   ]
  },
  {
   "cell_type": "code",
   "execution_count": 200,
   "metadata": {},
   "outputs": [
    {
     "data": {
      "text/plain": [
       "['Richard Donner']"
      ]
     },
     "execution_count": 200,
     "metadata": {},
     "output_type": "execute_result"
    }
   ],
   "source": [
    "#q9 Question 9: what is small[1][\"directors\"]?\n",
    "small[1][\"directors\"]"
   ]
  },
  {
   "cell_type": "code",
   "execution_count": 201,
   "metadata": {},
   "outputs": [
    {
     "data": {
      "text/plain": [
       "['Mel Gibson', 'Danny Glover', 'Gary Busey', 'Mitchell Ryan']"
      ]
     },
     "execution_count": 201,
     "metadata": {},
     "output_type": "execute_result"
    }
   ],
   "source": [
    "#q10 Question 10: what is small[-1][\"actors\"]?\n",
    "small[-1][\"actors\"]"
   ]
  },
  {
   "cell_type": "code",
   "execution_count": 202,
   "metadata": {},
   "outputs": [
    {
     "data": {
      "text/plain": [
       "[{'title': 'Runaway Jury',\n",
       "  'year': '2003',\n",
       "  'rating': '7.1',\n",
       "  'directors': ['Gary Fleder'],\n",
       "  'actors': ['John Cusack', 'Gene Hackman', 'Dustin Hoffman'],\n",
       "  'genres': ['Crime', 'Drama', 'Thriller']},\n",
       " {'title': 'Lethal Weapon',\n",
       "  'year': '1987',\n",
       "  'rating': '7.6',\n",
       "  'directors': ['Richard Donner'],\n",
       "  'actors': ['Mel Gibson', 'Danny Glover', 'Gary Busey', 'Mitchell Ryan'],\n",
       "  'genres': ['Action', 'Crime', 'Thriller']}]"
      ]
     },
     "execution_count": 202,
     "metadata": {},
     "output_type": "execute_result"
    }
   ],
   "source": [
    "#q11 Question 11: what is small?\n",
    "small"
   ]
  },
  {
   "cell_type": "code",
   "execution_count": 233,
   "metadata": {},
   "outputs": [],
   "source": [
    "movies = get_movies(\"movies.csv\", \"mapping.csv\")"
   ]
  },
  {
   "cell_type": "code",
   "execution_count": 223,
   "metadata": {},
   "outputs": [
    {
     "data": {
      "text/plain": [
       "[{'title': 'The Big Wedding',\n",
       "  'year': '2013',\n",
       "  'rating': '5.6',\n",
       "  'directors': ['Justin Zackham'],\n",
       "  'actors': ['Robert De Niro'],\n",
       "  'genres': ['Comedy', 'Drama', 'Romance']},\n",
       " {'title': 'The Affair of the Necklace',\n",
       "  'year': '2001',\n",
       "  'rating': '6.1',\n",
       "  'directors': ['Charles Shyer'],\n",
       "  'actors': ['Simon Baker', 'Jonathan Pryce', 'Adrien Brody'],\n",
       "  'genres': ['Drama', 'History', 'Romance']},\n",
       " {'title': 'The Barefoot Executive',\n",
       "  'year': '1971',\n",
       "  'rating': '6.0',\n",
       "  'directors': ['Robert Butler'],\n",
       "  'actors': ['Kurt Russell', 'Joe Flynn', 'Harry Morgan', 'Wally Cox'],\n",
       "  'genres': ['Comedy', 'Family']}]"
      ]
     },
     "execution_count": 223,
     "metadata": {},
     "output_type": "execute_result"
    }
   ],
   "source": [
    "#q12 Question 12: what are the first 3 rows in movies?\n",
    "movies[0:3]"
   ]
  },
  {
   "cell_type": "code",
   "execution_count": 213,
   "metadata": {},
   "outputs": [
    {
     "data": {
      "text/plain": [
       "[]"
      ]
     },
     "execution_count": 213,
     "metadata": {},
     "output_type": "execute_result"
    }
   ],
   "source": [
    "#q13 Question 13: what are the last 3 rows in movies?\n",
    "movies[-3:]"
   ]
  },
  {
   "cell_type": "code",
   "execution_count": 229,
   "metadata": {},
   "outputs": [],
   "source": [
    "def filter_movies_by_year(movies, year):\n",
    "    i = 0\n",
    "    while i < len(movies):\n",
    "        if int(movies[i][\"year\"]) != year:\n",
    "            movies.pop(i)\n",
    "        else:\n",
    "            i += 1\n",
    "    return movies"
   ]
  },
  {
   "cell_type": "code",
   "execution_count": 237,
   "metadata": {},
   "outputs": [
    {
     "data": {
      "text/plain": [
       "[{'title': 'Hook Line and Sinker',\n",
       "  'year': '1930',\n",
       "  'rating': '6.4',\n",
       "  'directors': ['Edward F. Cline'],\n",
       "  'actors': ['Bert Wheeler', 'Robert Woolsey', 'Ralf Harolde'],\n",
       "  'genres': ['Comedy', 'Romance']},\n",
       " {'title': 'The Big Trail',\n",
       "  'year': '1930',\n",
       "  'rating': '7.2',\n",
       "  'directors': ['Raoul Walsh', 'Louis R. Loeffler'],\n",
       "  'actors': ['John Wayne', 'El Brendel', 'Tully Marshall'],\n",
       "  'genres': ['Adventure', 'Romance', 'Western']}]"
      ]
     },
     "execution_count": 237,
     "metadata": {},
     "output_type": "execute_result"
    }
   ],
   "source": [
    "#q14 Question 14: what are the movies from 1930?\n",
    "import copy\n",
    "movies_pop = copy.copy(movies)\n",
    "movies_1930 = filter_movies_by_year(movies_pop,1930)\n",
    "movies_1930"
   ]
  },
  {
   "cell_type": "code",
   "execution_count": 238,
   "metadata": {},
   "outputs": [
    {
     "data": {
      "text/plain": [
       "[{'title': 'Arizona',\n",
       "  'year': '1931',\n",
       "  'rating': '6.0',\n",
       "  'directors': ['George B. Seitz'],\n",
       "  'actors': ['John Wayne', 'Forrest Stanley'],\n",
       "  'genres': ['Drama', 'Romance']},\n",
       " {'title': 'City Lights',\n",
       "  'year': '1931',\n",
       "  'rating': '8.5',\n",
       "  'directors': ['Charles Chaplin'],\n",
       "  'actors': ['Charles Chaplin', 'Harry Myers'],\n",
       "  'genres': ['Comedy', 'Drama', 'Romance']},\n",
       " {'title': 'The Range Feud',\n",
       "  'year': '1931',\n",
       "  'rating': '5.8',\n",
       "  'directors': ['D. Ross Lederman'],\n",
       "  'actors': ['Buck Jones', 'John Wayne', 'Edward LeSaint'],\n",
       "  'genres': ['Mystery', 'Western']}]"
      ]
     },
     "execution_count": 238,
     "metadata": {},
     "output_type": "execute_result"
    }
   ],
   "source": [
    "#q15 Question 15: what are the movies from 1931?\n",
    "movies_pop = copy.copy(movies)\n",
    "movies_1931 = filter_movies_by_year(movies_pop,1931)\n",
    "movies_1931"
   ]
  },
  {
   "cell_type": "code",
   "execution_count": 275,
   "metadata": {},
   "outputs": [
    {
     "data": {
      "text/plain": [
       "18"
      ]
     },
     "execution_count": 275,
     "metadata": {},
     "output_type": "execute_result"
    }
   ],
   "source": [
    "#q16 Question 16: how many unique genres are there in the dataset?\n",
    "def find_unique(things):\n",
    "    things_list = []\n",
    "    for i in range(len(movies)):\n",
    "            for j in movies[i][things]:\n",
    "                if j not in things_list:\n",
    "                    if type(j) != list:\n",
    "                        things_list.append(j)\n",
    "    return things_list\n",
    "            \n",
    "genres_set = find_unique('genres')\n",
    "len(genres_set)"
   ]
  },
  {
   "cell_type": "code",
   "execution_count": 276,
   "metadata": {},
   "outputs": [
    {
     "data": {
      "text/plain": [
       "2605"
      ]
     },
     "execution_count": 276,
     "metadata": {},
     "output_type": "execute_result"
    }
   ],
   "source": [
    "#q17 Question 17: how many unique actor names are there in the dataset?\n",
    "actorname_unique = find_unique('actors')\n",
    "len(actorname_unique)"
   ]
  },
  {
   "cell_type": "code",
   "execution_count": 277,
   "metadata": {},
   "outputs": [
    {
     "data": {
      "text/plain": [
       "1247"
      ]
     },
     "execution_count": 277,
     "metadata": {},
     "output_type": "execute_result"
    }
   ],
   "source": [
    "#q18 Question 18: how many unique director names are there in the dataset?\n",
    "director_unique = find_unique('directors')\n",
    "len(director_unique)"
   ]
  },
  {
   "cell_type": "code",
   "execution_count": 284,
   "metadata": {},
   "outputs": [
    {
     "data": {
      "text/plain": [
       "6.401659528907912"
      ]
     },
     "execution_count": 284,
     "metadata": {},
     "output_type": "execute_result"
    }
   ],
   "source": [
    "#q19 Question 19: what is the average movie rating?\n",
    "rating_sum = 0\n",
    "for i in range(len(movies)):\n",
    "    rating_sum += float(movies[i]['rating'])\n",
    "rating_ave = rating_sum / len(movies)\n",
    "rating_ave"
   ]
  },
  {
   "cell_type": "code",
   "execution_count": 285,
   "metadata": {},
   "outputs": [
    {
     "data": {
      "text/plain": [
       "'Dr. Strangelove or: How I Learned to Stop Worrying and Love the Bomb'"
      ]
     },
     "execution_count": 285,
     "metadata": {},
     "output_type": "execute_result"
    }
   ],
   "source": [
    "#q20 Question 20: what is the longest movie title in the dataset (in terms of most characters)?\n",
    "name_len = 0\n",
    "k = 0\n",
    "for i in range(len(movies)):\n",
    "    if name_len <= len(movies[i]['title']):\n",
    "        name_len = len(movies[i]['title'])\n",
    "        k = i\n",
    "movies[k]['title']"
   ]
  },
  {
   "cell_type": "code",
   "execution_count": null,
   "metadata": {},
   "outputs": [],
   "source": []
  }
 ],
 "metadata": {
  "kernelspec": {
   "display_name": "Python 3",
   "language": "python",
   "name": "python3"
  },
  "language_info": {
   "codemirror_mode": {
    "name": "ipython",
    "version": 3
   },
   "file_extension": ".py",
   "mimetype": "text/x-python",
   "name": "python",
   "nbconvert_exporter": "python",
   "pygments_lexer": "ipython3",
   "version": "3.7.4"
  }
 },
 "nbformat": 4,
 "nbformat_minor": 2
}
