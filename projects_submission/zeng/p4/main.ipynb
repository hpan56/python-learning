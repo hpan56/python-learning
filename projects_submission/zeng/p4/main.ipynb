{
 "cells": [
  {
   "cell_type": "code",
   "execution_count": 14,
   "metadata": {},
   "outputs": [],
   "source": [
    "wentilie = ['What is the type of the following? \"1.0\" + \\\"2.0\\\" \\n a) int \\n b) float \\n c) str \\n d) bool \\n e) NoneType \\n',\n",
    "           'What is the type of the following? \\n \"1\" * 2 \\n',\n",
    "           'What does this expression evaluate to? \\n True != (3 < 2) \\n']\n",
    "daanlie = ['c', 'str', 'true']\n",
    "tishilie = ['Check the textbook',\n",
    "           'notice the quotes!',\n",
    "           \"Calcuate the right side first. Don't forget != means not equal to.\"]\n",
    "def askQuestion(wen, da, tishi):\n",
    "    jici = input('How many tries do you want for each question: ')\n",
    "    print('\\n')\n",
    "    jici = int(jici)\n",
    "    i = 0\n",
    "    n = 0\n",
    "    while i < 3:\n",
    "        xiancishu = 1\n",
    "        while xiancishu <= jici:\n",
    "            xiancishu += 1\n",
    "            print(wen[i])\n",
    "            daan = input(\"Your answer:\")\n",
    "            daan = daan.strip().lower()\n",
    "            if daan != da[i]:\n",
    "                print(tishi[i])\n",
    "                print('You have this many remaining tries:{:<1d}.'.format(jici - xiancishu + 1))\n",
    "            else:\n",
    "                print ('Congratulations! You got it right.')\n",
    "                n += 1\n",
    "                break\n",
    "        print('You answered ', daan, '. The correct answer is ', daanlie[i], '.')            \n",
    "        i += 1\n",
    "    print('You tried',3, 'questions and got', n, 'right.')"
   ]
  },
  {
   "cell_type": "code",
   "execution_count": 15,
   "metadata": {},
   "outputs": [
    {
     "name": "stdout",
     "output_type": "stream",
     "text": [
      "How many tries do you want for each question: 3\n",
      "\n",
      "\n",
      "What is the type of the following? \"1.0\" + \"2.0\" \n",
      " a) int \n",
      " b) float \n",
      " c) str \n",
      " d) bool \n",
      " e) NoneType \n",
      "\n",
      "Your answer:1\n",
      "Check the textbook\n",
      "You have this many remaining tries:2.\n",
      "What is the type of the following? \"1.0\" + \"2.0\" \n",
      " a) int \n",
      " b) float \n",
      " c) str \n",
      " d) bool \n",
      " e) NoneType \n",
      "\n",
      "Your answer:3\n",
      "Check the textbook\n",
      "You have this many remaining tries:1.\n",
      "What is the type of the following? \"1.0\" + \"2.0\" \n",
      " a) int \n",
      " b) float \n",
      " c) str \n",
      " d) bool \n",
      " e) NoneType \n",
      "\n",
      "Your answer:2\n",
      "Check the textbook\n",
      "You have this many remaining tries:0.\n",
      "You answered  2 . The correct answer is  c .\n",
      "What is the type of the following? \n",
      " \"1\" * 2 \n",
      "\n",
      "Your answer:4\n",
      "notice the quotes!\n",
      "You have this many remaining tries:2.\n",
      "What is the type of the following? \n",
      " \"1\" * 2 \n",
      "\n",
      "Your answer:2\n",
      "notice the quotes!\n",
      "You have this many remaining tries:1.\n",
      "What is the type of the following? \n",
      " \"1\" * 2 \n",
      "\n",
      "Your answer:3\n",
      "notice the quotes!\n",
      "You have this many remaining tries:0.\n",
      "You answered  3 . The correct answer is  str .\n",
      "What does this expression evaluate to? \n",
      " True != (3 < 2) \n",
      "\n",
      "Your answer:2\n",
      "Calcuate the right side first. Don't forget != means not equal to.\n",
      "You have this many remaining tries:2.\n",
      "What does this expression evaluate to? \n",
      " True != (3 < 2) \n",
      "\n",
      "Your answer:4\n",
      "Calcuate the right side first. Don't forget != means not equal to.\n",
      "You have this many remaining tries:1.\n",
      "What does this expression evaluate to? \n",
      " True != (3 < 2) \n",
      "\n",
      "Your answer:2\n",
      "Calcuate the right side first. Don't forget != means not equal to.\n",
      "You have this many remaining tries:0.\n",
      "You answered  2 . The correct answer is  true .\n",
      "You tried 3 questions and got 0 right.\n"
     ]
    }
   ],
   "source": [
    "askQuestion(wentilie,daanlie,tishilie)"
   ]
  },
  {
   "cell_type": "markdown",
   "metadata": {},
   "source": [
    "## "
   ]
  }
 ],
 "metadata": {
  "kernelspec": {
   "display_name": "Python 3",
   "language": "python",
   "name": "python3"
  },
  "language_info": {
   "codemirror_mode": {
    "name": "ipython",
    "version": 3
   },
   "file_extension": ".py",
   "mimetype": "text/x-python",
   "name": "python",
   "nbconvert_exporter": "python",
   "pygments_lexer": "ipython3",
   "version": "3.7.4"
  }
 },
 "nbformat": 4,
 "nbformat_minor": 2
}
