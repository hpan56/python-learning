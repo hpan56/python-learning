{
 "cells": [
  {
   "cell_type": "code",
   "execution_count": 17,
   "metadata": {},
   "outputs": [],
   "source": [
    "wentilie = ['What is the type of the following? \"1.0\" + \\\"2.0\\\" \\n a) int, \\n b) float \\n c) str \\n d) bool \\n e) NoneType',\n",
    "           'What is the type of the following? \\n \"1\" * 2',\n",
    "           'What does this expression evaluate to? \\n True != (3 < 2)']\n",
    "daanlie = ['c', 'str', 'true']\n",
    "tishilie = ['Check the textbook',\n",
    "           'notice the quotes!',\n",
    "           \"Calcuate the right side first. Don't forget != means not equal to.\"]\n",
    "def askQuestion(wen, da, tishi):\n",
    "    jici = input('How many tries do you want for each question: ')\n",
    "    jici = int(jici)\n",
    "    xiancishu = 0\n",
    "    i = 0\n",
    "    while xiancishu <= jici:\n",
    "        print(wen[i])\n",
    "        daan = input(\"Your answer: \")\n",
    "        daan = daan.strip().lower()\n",
    "        if daan != da[i]:\n",
    "            xiancishu += 1\n",
    "            print(tishi[i])\n",
    "            continue\n",
    "        print ('Congratulations! You got it right.')\n",
    "        i += 1\n",
    "        if i == 3:\n",
    "            break\n",
    "    print('You tried', i - (jici - xiancishu), 'questions and got', i, 'right.')"
   ]
  },
  {
   "cell_type": "code",
   "execution_count": 18,
   "metadata": {},
   "outputs": [
    {
     "name": "stdout",
     "output_type": "stream",
     "text": [
      "How many tries do you want for each question: 2\n",
      "What is the type of the following? \"1.0\" + \"2.0\" \n",
      " a) int, \n",
      " b) float \n",
      " c) str \n",
      " d) bool \n",
      " e) NoneType\n",
      "Your answer: c\n",
      "Congratulations! You got it right.\n",
      "What is the type of the following? \n",
      " \"1\" * 2\n",
      "Your answer: s\n",
      "notice the quotes!\n",
      "What is the type of the following? \n",
      " \"1\" * 2\n",
      "Your answer: s\n",
      "notice the quotes!\n",
      "What is the type of the following? \n",
      " \"1\" * 2\n",
      "Your answer: t\n",
      "notice the quotes!\n",
      "You tried 2 questions and got 1 right.\n"
     ]
    }
   ],
   "source": [
    "askQuestion(wentilie,daanlie,tishilie)"
   ]
  }
 ],
 "metadata": {
  "kernelspec": {
   "display_name": "Python 3",
   "language": "python",
   "name": "python3"
  },
  "language_info": {
   "codemirror_mode": {
    "name": "ipython",
    "version": 3
   },
   "file_extension": ".py",
   "mimetype": "text/x-python",
   "name": "python",
   "nbconvert_exporter": "python",
   "pygments_lexer": "ipython3",
   "version": "3.7.4"
  }
 },
 "nbformat": 4,
 "nbformat_minor": 2
}
