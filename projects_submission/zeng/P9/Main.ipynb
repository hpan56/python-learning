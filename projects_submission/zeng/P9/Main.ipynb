{
 "cells": [
  {
   "cell_type": "code",
   "execution_count": 1,
   "metadata": {},
   "outputs": [],
   "source": [
    "import os, json, csv\n",
    "from collections import namedtuple"
   ]
  },
  {
   "cell_type": "code",
   "execution_count": 2,
   "metadata": {},
   "outputs": [
    {
     "data": {
      "text/plain": [
       "['1.csv', '1.json', '2.csv', '2.json']"
      ]
     },
     "execution_count": 2,
     "metadata": {},
     "output_type": "execute_result"
    }
   ],
   "source": [
    "#Q1, Question 1: What are the names of the files present in the sample_data directory?\n",
    "os.listdir(os.path.join('.','tweets','sample_data'))"
   ]
  },
  {
   "cell_type": "code",
   "execution_count": 3,
   "metadata": {},
   "outputs": [
    {
     "data": {
      "text/plain": [
       "['1.csv', '1.json', '2.csv', '2.json']"
      ]
     },
     "execution_count": 3,
     "metadata": {},
     "output_type": "execute_result"
    }
   ],
   "source": [
    "#q2, Question 2: What are the paths of all the files in the sample_data directory?\n",
    "path = os.path.join('.','tweets','sample_data')\n",
    "os.listdir(path)"
   ]
  },
  {
   "cell_type": "code",
   "execution_count": 4,
   "metadata": {},
   "outputs": [
    {
     "data": {
      "text/plain": [
       "'.\\\\tweets\\\\full_data'"
      ]
     },
     "execution_count": 4,
     "metadata": {},
     "output_type": "execute_result"
    }
   ],
   "source": [
    "#q3, Question 3: What are the paths of all the files in the full_data directory?\n",
    "path_full_data = os.path.join('.','tweets','full_data')\n",
    "path_full_data"
   ]
  },
  {
   "cell_type": "code",
   "execution_count": 5,
   "metadata": {},
   "outputs": [
    {
     "data": {
      "text/plain": [
       "['.\\\\tweets\\\\full_data\\\\1.csv',\n",
       " '.\\\\tweets\\\\full_data\\\\1.json',\n",
       " '.\\\\tweets\\\\full_data\\\\2.csv',\n",
       " '.\\\\tweets\\\\full_data\\\\2.json']"
      ]
     },
     "execution_count": 5,
     "metadata": {},
     "output_type": "execute_result"
    }
   ],
   "source": [
    "#q4, Question 4: What are the paths of the CSV and JSON files present in the sample_data directory?\n",
    "def filter_file(path):\n",
    "    file_path = []\n",
    "    for file in path:\n",
    "        try:\n",
    "            filetype = file.split(\".\")[1]\n",
    "        except:\n",
    "            continue\n",
    "        else:\n",
    "            if (filetype == \"csv\") | (filetype == \"json\"): \n",
    "                file_path.append(os.path.join('.','tweets','full_data', file))\n",
    "    return file_path\n",
    "filter_file(os.listdir(os.path.join('.','tweets','sample_data')))\n"
   ]
  },
  {
   "cell_type": "code",
   "execution_count": 6,
   "metadata": {},
   "outputs": [
    {
     "data": {
      "text/plain": [
       "['.\\\\tweets\\\\full_data\\\\1.csv',\n",
       " '.\\\\tweets\\\\full_data\\\\1.json',\n",
       " '.\\\\tweets\\\\full_data\\\\2.csv',\n",
       " '.\\\\tweets\\\\full_data\\\\2.json',\n",
       " '.\\\\tweets\\\\full_data\\\\3.csv',\n",
       " '.\\\\tweets\\\\full_data\\\\3.json',\n",
       " '.\\\\tweets\\\\full_data\\\\4.csv',\n",
       " '.\\\\tweets\\\\full_data\\\\4.json',\n",
       " '.\\\\tweets\\\\full_data\\\\5.csv',\n",
       " '.\\\\tweets\\\\full_data\\\\5.json']"
      ]
     },
     "execution_count": 6,
     "metadata": {},
     "output_type": "execute_result"
    }
   ],
   "source": [
    "#q5, Question 5: What are the paths of the CSV and JSON files present in the full_data directory?\n",
    "filter_file(os.listdir(os.path.join('.','tweets','full_data')))"
   ]
  },
  {
   "cell_type": "code",
   "execution_count": 7,
   "metadata": {},
   "outputs": [
    {
     "name": "stdout",
     "output_type": "stream",
     "text": [
      "Tweet(tweet_id='1467811372', username='USERID_6', num_liked='5882', length=29)\n",
      "Tweet(tweet_id='1467811592', username='USERID_8', num_liked='2676', length=11)\n",
      "Tweet(tweet_id='1467811594', username='USERID_9', num_liked='2182', length=99)\n",
      "Tweet(tweet_id='1467811795', username='USERID_1', num_liked='7791', length=36)\n",
      "Tweet(tweet_id='1467812025', username='USERID_1', num_liked='8149', length=25)\n"
     ]
    }
   ],
   "source": [
    "#Tweet(tweet_id='id123', username='user456', num_liked=100, length=140)\n",
    "Tweet = namedtuple('Tweet',['tweet_id', 'username', 'num_liked', 'length'])\n",
    "\n",
    "def read_message(folder,name):\n",
    "    f = open(os.path.join(\"tweets\",folder,name), encoding=\"utf-8\")\n",
    "    msg = csv.DictReader(f)\n",
    "    return msg\n",
    "#q6, Question 6: What are the tweets present in the CSV file 1.csv in sample_data?\n",
    "msg_6 = read_message('sample_data','1.csv')\n",
    "for row in msg_6:\n",
    "    row_tweet = Tweet(row['tweet_id'],row['username'],row['num_liked'],len(row['tweet_text']))\n",
    "    print(row_tweet)"
   ]
  },
  {
   "cell_type": "code",
   "execution_count": 8,
   "metadata": {},
   "outputs": [
    {
     "name": "stdout",
     "output_type": "stream",
     "text": [
      "Tweet(tweet_id='1467812799', username='USERID_7', num_liked='3340', length=103)\n",
      "Tweet(tweet_id='1467812964', username='USERID_10', num_liked='3684', length=93)\n",
      "Tweet(tweet_id='1467813137', username='USERID_5', num_liked='6816', length=20)\n",
      "Tweet(tweet_id='1467813579', username='USERID_1', num_liked='1348', length=64)\n",
      "Tweet(tweet_id='1467813782', username='USERID_1', num_liked='4770', length=79)\n"
     ]
    }
   ],
   "source": [
    "#q7, Question 7: What are the tweets present in the CSV file 2.csv in sample_data?\n",
    "msg_7 = read_message('sample_data','2.csv')\n",
    "for row in msg_7:\n",
    "    row_tweet = Tweet(row['tweet_id'],row['username'],row['num_liked'],len(row['tweet_text']))\n",
    "    print(row_tweet)"
   ]
  },
  {
   "cell_type": "code",
   "execution_count": 9,
   "metadata": {},
   "outputs": [
    {
     "name": "stdout",
     "output_type": "stream",
     "text": [
      "Tweet(tweet_id='1467844540', username='USERID_9', num_liked='6366', length=49)\n",
      "Tweet(tweet_id='1467844907', username='USERID_3', num_liked='8770', length=42)\n",
      "Tweet(tweet_id='1467845095', username='USERID_4', num_liked='8567', length=126)\n",
      "Tweet(tweet_id='1467845157', username='USERID_8', num_liked='5761', length=17)\n",
      "Tweet(tweet_id='1467852031', username='USERID_2', num_liked='4565', length=63)\n",
      "Tweet(tweet_id='1467852067', username='USERID_4', num_liked='9594', length=34)\n",
      "Tweet(tweet_id='1467852789', username='USERID_10', num_liked='686', length=44)\n",
      "Tweet(tweet_id='1467853135', username='USERID_1', num_liked='6515', length=131)\n",
      "Tweet(tweet_id='1467853356', username='USERID_10', num_liked='3192', length=136)\n",
      "Tweet(tweet_id='1467853431', username='USERID_10', num_liked='9936', length=30)\n",
      "Tweet(tweet_id='1467853479', username='USERID_9', num_liked='4939', length=24)\n",
      "Tweet(tweet_id='1467854062', username='USERID_10', num_liked='9346', length=92)\n",
      "Tweet(tweet_id='1467854345', username='USERID_9', num_liked='7959', length=72)\n",
      "Tweet(tweet_id='1467854706', username='USERID_1', num_liked='8972', length=103)\n",
      "Tweet(tweet_id='1467854917', username='USERID_2', num_liked='7741', length=30)\n",
      "Tweet(tweet_id='1467855673', username='USERID_9', num_liked='9728', length=72)\n",
      "Tweet(tweet_id='1467855812', username='USERID_2', num_liked='4806', length=28)\n",
      "Tweet(tweet_id='1467855981', username='USERID_2', num_liked='6455', length=92)\n",
      "Tweet(tweet_id='1467856044', username='USERID_7', num_liked='1442', length=49)\n",
      "Tweet(tweet_id='1467856352', username='USERID_3', num_liked='523', length=20)\n",
      "Tweet(tweet_id='1467856426', username='USERID_6', num_liked='8675', length=99)\n",
      "Tweet(tweet_id='1467856497', username='USERID_7', num_liked='3105', length=79)\n",
      "Tweet(tweet_id='1467856632', username='USERID_1', num_liked='1724', length=43)\n",
      "Tweet(tweet_id='1467856821', username='USERID_6', num_liked='5145', length=80)\n",
      "Tweet(tweet_id='1467856919', username='USERID_4', num_liked='3887', length=61)\n",
      "Tweet(tweet_id='1467857221', username='USERID_5', num_liked='3589', length=102)\n",
      "Tweet(tweet_id='1467857297', username='USERID_1', num_liked='736', length=70)\n",
      "Tweet(tweet_id='1467857378', username='USERID_4', num_liked='9459', length=81)\n",
      "Tweet(tweet_id='1467857511', username='USERID_7', num_liked='3713', length=127)\n",
      "Tweet(tweet_id='1467857722', username='USERID_8', num_liked='9072', length=55)\n",
      "Tweet(tweet_id='1467857975', username='USERID_9', num_liked='4893', length=21)\n",
      "Tweet(tweet_id='1467858363', username='USERID_10', num_liked='4263', length=119)\n",
      "Tweet(tweet_id='1467858627', username='USERID_3', num_liked='8400', length=120)\n",
      "Tweet(tweet_id='1467858869', username='USERID_10', num_liked='1609', length=48)\n",
      "Tweet(tweet_id='1467859025', username='USERID_4', num_liked='5618', length=81)\n",
      "Tweet(tweet_id='1467859066', username='USERID_9', num_liked='99', length=53)\n",
      "Tweet(tweet_id='1467859408', username='USERID_5', num_liked='2878', length=128)\n",
      "Tweet(tweet_id='1467859436', username='USERID_7', num_liked='8001', length=67)\n",
      "Tweet(tweet_id='1467859558', username='USERID_1', num_liked='8732', length=136)\n",
      "Tweet(tweet_id='1467859666', username='USERID_9', num_liked='9158', length=16)\n",
      "Tweet(tweet_id='1467859820', username='USERID_10', num_liked='7921', length=27)\n",
      "Tweet(tweet_id='1467859922', username='USERID_6', num_liked='3955', length=120)\n",
      "Tweet(tweet_id='1467860895', username='USERID_1', num_liked='2055', length=18)\n",
      "Tweet(tweet_id='1467860904', username='USERID_7', num_liked='9851', length=30)\n",
      "Tweet(tweet_id='1467861095', username='USERID_10', num_liked='7191', length=38)\n",
      "Tweet(tweet_id='1467861522', username='USERID_1', num_liked='2742', length=70)\n",
      "Tweet(tweet_id='1467861571', username='USERID_1', num_liked='7095', length=84)\n",
      "Tweet(tweet_id='1467862213', username='USERID_2', num_liked='2455', length=138)\n",
      "Tweet(tweet_id='1467862313', username='USERID_10', num_liked='3256', length=127)\n",
      "Tweet(tweet_id='1467862355', username='USERID_3', num_liked='4110', length=53)\n"
     ]
    }
   ],
   "source": [
    "#q8, Question 8: What are the tweets present in the CSV file 1.csv in full_data?\n",
    "msg_8 = read_message('full_data','1.csv')\n",
    "for row in msg_8:\n",
    "    row_tweet = Tweet(row['tweet_id'],row['username'],row['num_liked'],len(row['tweet_text']))\n",
    "    print(row_tweet)\n"
   ]
  },
  {
   "cell_type": "code",
   "execution_count": 10,
   "metadata": {},
   "outputs": [
    {
     "name": "stdout",
     "output_type": "stream",
     "text": [
      "Tweet(tweet_id='1467876711', username='USERID_10', num_liked='1117', length=84)\n",
      "Tweet(tweet_id='1467877496', username='USERID_1', num_liked='2062', length=106)\n",
      "Tweet(tweet_id='1467877833', username='USERID_2', num_liked='4270', length=89)\n",
      "Tweet(tweet_id='1467877865', username='USERID_1', num_liked='5899', length=30)\n",
      "Tweet(tweet_id='1467878057', username='USERID_6', num_liked='703', length=42)\n",
      "Tweet(tweet_id='1467878557', username='USERID_6', num_liked='5814', length=61)\n",
      "Tweet(tweet_id='1467878633', username='USERID_2', num_liked='2351', length=33)\n",
      "Tweet(tweet_id='1467878971', username='USERID_2', num_liked='2238', length=27)\n",
      "Tweet(tweet_id='1467878983', username='USERID_8', num_liked='4860', length=61)\n",
      "Tweet(tweet_id='1467879480', username='USERID_4', num_liked='1345', length=97)\n",
      "Tweet(tweet_id='1467879984', username='USERID_2', num_liked='3694', length=69)\n",
      "Tweet(tweet_id='1467880085', username='USERID_4', num_liked='2478', length=120)\n",
      "Tweet(tweet_id='1467880431', username='USERID_3', num_liked='9407', length=85)\n",
      "Tweet(tweet_id='1467880442', username='USERID_2', num_liked='5125', length=96)\n",
      "Tweet(tweet_id='1467880463', username='USERID_9', num_liked='1226', length=29)\n",
      "Tweet(tweet_id='1467880692', username='USERID_6', num_liked='4989', length=49)\n",
      "Tweet(tweet_id='1467881131', username='USERID_10', num_liked='732', length=107)\n",
      "Tweet(tweet_id='1467881373', username='USERID_6', num_liked='8615', length=145)\n",
      "Tweet(tweet_id='1467881376', username='USERID_4', num_liked='4378', length=49)\n",
      "Tweet(tweet_id='1467881457', username='USERID_7', num_liked='119', length=27)\n",
      "Tweet(tweet_id='1467881686', username='USERID_5', num_liked='8136', length=46)\n",
      "Tweet(tweet_id='1467881809', username='USERID_4', num_liked='1797', length=138)\n",
      "Tweet(tweet_id='1467881897', username='USERID_5', num_liked='2314', length=76)\n",
      "Tweet(tweet_id='1467881920', username='USERID_3', num_liked='4101', length=112)\n",
      "Tweet(tweet_id='1467882140', username='USERID_8', num_liked='5320', length=137)\n",
      "Tweet(tweet_id='1467882491', username='USERID_10', num_liked='3512', length=55)\n",
      "Tweet(tweet_id='1467882592', username='USERID_10', num_liked='1887', length=67)\n",
      "Tweet(tweet_id='1467882902', username='USERID_3', num_liked='4646', length=48)\n",
      "Tweet(tweet_id='1467888679', username='USERID_8', num_liked='3089', length=27)\n",
      "Tweet(tweet_id='1467888732', username='USERID_7', num_liked='2800', length=48)\n",
      "Tweet(tweet_id='1467888953', username='USERID_3', num_liked='3951', length=46)\n",
      "Tweet(tweet_id='1467889231', username='USERID_5', num_liked='1320', length=79)\n",
      "Tweet(tweet_id='1467889334', username='USERID_5', num_liked='8495', length=42)\n",
      "Tweet(tweet_id='1467889574', username='USERID_1', num_liked='4696', length=123)\n",
      "Tweet(tweet_id='1467889791', username='USERID_5', num_liked='4027', length=132)\n",
      "Tweet(tweet_id='1467889988', username='USERID_2', num_liked='7394', length=51)\n",
      "Tweet(tweet_id='1467890079', username='USERID_8', num_liked='2556', length=38)\n",
      "Tweet(tweet_id='1467890222', username='USERID_2', num_liked='227', length=107)\n",
      "Tweet(tweet_id='1467890723', username='USERID_1', num_liked='96', length=134)\n",
      "Tweet(tweet_id='1467891826', username='USERID_9', num_liked='2021', length=113)\n",
      "Tweet(tweet_id='1467891880', username='USERID_7', num_liked='6847', length=96)\n",
      "Tweet(tweet_id='1467892075', username='USERID_6', num_liked='2816', length=124)\n",
      "Tweet(tweet_id='1467892515', username='USERID_5', num_liked='917', length=39)\n",
      "Tweet(tweet_id='1467892667', username='USERID_2', num_liked='8270', length=20)\n",
      "Tweet(tweet_id='1467892720', username='USERID_3', num_liked='3227', length=128)\n"
     ]
    }
   ],
   "source": [
    "#q9, Question 9: What are the tweets present in the CSV file 2.csv in full_data?\n",
    "msg_9 = read_message('full_data','2.csv')\n",
    "for row in msg_9:\n",
    "    try:\n",
    "        int(row['tweet_id']+row['num_liked'])\n",
    "    except:\n",
    "        continue\n",
    "    else:\n",
    "        row_tweet = Tweet(row['tweet_id'],row['username'],row['num_liked'],len(row['tweet_text']))\n",
    "    print(row_tweet)"
   ]
  },
  {
   "cell_type": "code",
   "execution_count": 11,
   "metadata": {},
   "outputs": [
    {
     "name": "stdout",
     "output_type": "stream",
     "text": [
      "Tweet(tweet_id='1467810369', username='USERID_4', num_liked=315, length=115)\n",
      "Tweet(tweet_id='1467810672', username='USERID_8', num_liked=5298, length=111)\n",
      "Tweet(tweet_id='1467810917', username='USERID_8', num_liked=533, length=89)\n",
      "Tweet(tweet_id='1467811184', username='USERID_6', num_liked=2650, length=47)\n",
      "Tweet(tweet_id='1467811193', username='USERID_8', num_liked=2101, length=111)\n"
     ]
    }
   ],
   "source": [
    "#q10, Question 10: What are the tweets present in the JSON file 1.json in sample_data?\n",
    "def read_json(folder,name):\n",
    "    f = open(os.path.join(\"tweets\",folder,name), encoding=\"utf-8\")\n",
    "    try:\n",
    "        msg = json.loads(f.read())\n",
    "    except:\n",
    "        return None\n",
    "    else:\n",
    "        f.close()\n",
    "        return msg\n",
    "def tweetize(folder,name):\n",
    "    if not read_json(folder,name) == None:\n",
    "        file_msg = read_json(folder,name)\n",
    "        for i in file_msg:\n",
    "            print(Tweet(i,file_msg[i]['username'],file_msg[i]['num_liked'],len(file_msg[i]['tweet_text'])))\n",
    "    else:\n",
    "        return []\n",
    "tweetize('sample_data','1.json')"
   ]
  },
  {
   "cell_type": "code",
   "execution_count": 12,
   "metadata": {},
   "outputs": [
    {
     "name": "stdout",
     "output_type": "stream",
     "text": [
      "Tweet(tweet_id='1467812416', username='USERID_9', num_liked=5278, length=43)\n",
      "Tweet(tweet_id='1467812579', username='USERID_1', num_liked=9700, length=26)\n",
      "Tweet(tweet_id='1467812723', username='USERID_3', num_liked=5414, length=94)\n",
      "Tweet(tweet_id='1467812771', username='USERID_8', num_liked=2190, length=77)\n",
      "Tweet(tweet_id='1467812784', username='USERID_10', num_liked=2667, length=117)\n"
     ]
    }
   ],
   "source": [
    "#q11, Question 11: What are the tweets present in the JSON file 2.json in sample_data?\n",
    "tweetize('sample_data','2.json')"
   ]
  },
  {
   "cell_type": "code",
   "execution_count": 13,
   "metadata": {},
   "outputs": [
    {
     "name": "stdout",
     "output_type": "stream",
     "text": [
      "Tweet(tweet_id='1467944581', username='USERID_1', num_liked=7216, length=131)\n",
      "Tweet(tweet_id='1467944654', username='USERID_7', num_liked=2838, length=59)\n",
      "Tweet(tweet_id='1467944871', username='USERID_1', num_liked=9393, length=51)\n",
      "Tweet(tweet_id='1467945476', username='USERID_10', num_liked=9246, length=33)\n",
      "Tweet(tweet_id='1467945704', username='USERID_1', num_liked=526, length=62)\n",
      "Tweet(tweet_id='1467945787', username='USERID_9', num_liked=8850, length=81)\n",
      "Tweet(tweet_id='1467945885', username='USERID_4', num_liked=9403, length=67)\n",
      "Tweet(tweet_id='1467946026', username='USERID_1', num_liked=2861, length=69)\n",
      "Tweet(tweet_id='1467946137', username='USERID_1', num_liked=5470, length=135)\n",
      "Tweet(tweet_id='1467946559', username='USERID_6', num_liked=987, length=116)\n",
      "Tweet(tweet_id='1467946592', username='USERID_3', num_liked=9085, length=137)\n",
      "Tweet(tweet_id='1467946749', username='USERID_4', num_liked=3381, length=42)\n",
      "Tweet(tweet_id='1467946810', username='USERID_4', num_liked=5338, length=62)\n",
      "Tweet(tweet_id='1467947005', username='USERID_7', num_liked=6974, length=53)\n",
      "Tweet(tweet_id='1467947104', username='USERID_6', num_liked=5847, length=24)\n",
      "Tweet(tweet_id='1467947557', username='USERID_9', num_liked=8449, length=110)\n",
      "Tweet(tweet_id='1467947713', username='USERID_7', num_liked=7444, length=140)\n",
      "Tweet(tweet_id='1467947913', username='USERID_2', num_liked=8578, length=36)\n",
      "Tweet(tweet_id='1467948169', username='USERID_1', num_liked=4545, length=33)\n",
      "Tweet(tweet_id='1467948434', username='USERID_9', num_liked=770, length=53)\n",
      "Tweet(tweet_id='1467948521', username='USERID_4', num_liked=8276, length=100)\n",
      "Tweet(tweet_id='1467948526', username='USERID_3', num_liked=7010, length=64)\n",
      "Tweet(tweet_id='1467948979', username='USERID_10', num_liked=9209, length=93)\n",
      "Tweet(tweet_id='1467949047', username='USERID_3', num_liked=7231, length=30)\n",
      "Tweet(tweet_id='1467949516', username='USERID_3', num_liked=4787, length=104)\n",
      "Tweet(tweet_id='1467949681', username='USERID_5', num_liked=5318, length=36)\n",
      "Tweet(tweet_id='1467949746', username='USERID_8', num_liked=4383, length=8)\n",
      "Tweet(tweet_id='1467949969', username='USERID_3', num_liked=1177, length=80)\n",
      "Tweet(tweet_id='1467950027', username='USERID_10', num_liked=8575, length=26)\n",
      "Tweet(tweet_id='1467950029', username='USERID_1', num_liked=7362, length=119)\n",
      "Tweet(tweet_id='1467950217', username='USERID_7', num_liked=1241, length=63)\n",
      "Tweet(tweet_id='1467950510', username='USERID_7', num_liked=5002, length=34)\n",
      "Tweet(tweet_id='1467950588', username='USERID_4', num_liked=589, length=63)\n",
      "Tweet(tweet_id='1467950600', username='USERID_3', num_liked=5951, length=71)\n",
      "Tweet(tweet_id='1467950649', username='USERID_7', num_liked=9449, length=46)\n",
      "Tweet(tweet_id='1467950687', username='USERID_3', num_liked=3464, length=70)\n",
      "Tweet(tweet_id='1467950866', username='USERID_4', num_liked=122, length=27)\n",
      "Tweet(tweet_id='1467950975', username='USERID_3', num_liked=6793, length=74)\n",
      "Tweet(tweet_id='1467951016', username='USERID_5', num_liked=7795, length=80)\n",
      "Tweet(tweet_id='1467951035', username='USERID_9', num_liked=3477, length=114)\n",
      "Tweet(tweet_id='1467951252', username='USERID_2', num_liked=7515, length=48)\n",
      "Tweet(tweet_id='1467951422', username='USERID_6', num_liked=2520, length=98)\n",
      "Tweet(tweet_id='1467951568', username='USERID_8', num_liked=39, length=98)\n",
      "Tweet(tweet_id='1467951850', username='USERID_8', num_liked=1170, length=29)\n",
      "Tweet(tweet_id='1467951931', username='USERID_4', num_liked=5320, length=81)\n",
      "Tweet(tweet_id='1467952069', username='USERID_7', num_liked=399, length=24)\n",
      "Tweet(tweet_id='1467952100', username='USERID_1', num_liked=2754, length=69)\n",
      "Tweet(tweet_id='1467952123', username='USERID_9', num_liked=9222, length=137)\n",
      "Tweet(tweet_id='1467952985', username='USERID_4', num_liked=6256, length=118)\n",
      "Tweet(tweet_id='1467953090', username='USERID_2', num_liked=1896, length=64)\n"
     ]
    }
   ],
   "source": [
    "#q12, Question 12: What are the tweets present in the JSON file 5.json in full_data?\n",
    "tweetize('full_data','5.json')"
   ]
  },
  {
   "cell_type": "code",
   "execution_count": 14,
   "metadata": {},
   "outputs": [
    {
     "data": {
      "text/plain": [
       "[]"
      ]
     },
     "execution_count": 14,
     "metadata": {},
     "output_type": "execute_result"
    }
   ],
   "source": [
    "#q13, Question 13: What are the tweets present in the JSON file 1.json in full_data?\n",
    "tweetize('full_data','1.json')"
   ]
  },
  {
   "cell_type": "code",
   "execution_count": 15,
   "metadata": {},
   "outputs": [
    {
     "data": {
      "text/plain": [
       "'.\\\\tweets\\\\sample_data\\\\2.csv'"
      ]
     },
     "execution_count": 15,
     "metadata": {},
     "output_type": "execute_result"
    }
   ],
   "source": [
    "#q14, Question 14: Which file in the directory sample_data contains the tweet with tweet_id '1467813137'?\n",
    "def find_tweet_id(tweet_id,folder):\n",
    "    path = ''\n",
    "    for i in filter_file(os.listdir(os.path.join('.','tweets',folder))):\n",
    "        file_name = i.split('\\\\')[3]\n",
    "        filetype = i.split(\".\")[2]\n",
    "        if filetype == \"csv\":\n",
    "            msg = read_message(folder,file_name)\n",
    "            for row in msg:\n",
    "                if tweet_id == row['tweet_id']:\n",
    "                    return os.path.join('.','tweets',folder,file_name)\n",
    "        elif filetype == \"json\":\n",
    "            msg = read_json(folder,file_name)\n",
    "            if not msg == None:\n",
    "                for i_id in msg:\n",
    "                    if i_id == tweet_id:\n",
    "                        return os.path.join('.','tweets',folder,file_name)\n",
    "    return False\n",
    "find_tweet_id('1467813137','sample_data')"
   ]
  },
  {
   "cell_type": "code",
   "execution_count": 16,
   "metadata": {},
   "outputs": [
    {
     "data": {
      "text/plain": [
       "False"
      ]
     },
     "execution_count": 16,
     "metadata": {},
     "output_type": "execute_result"
    }
   ],
   "source": [
    "#q15, Question 15: Which file in the directory full_data contains the tweet with tweet_id '1467862937'?\n",
    "find_tweet_id('1467862937','full_data')"
   ]
  },
  {
   "cell_type": "code",
   "execution_count": 17,
   "metadata": {},
   "outputs": [
    {
     "data": {
      "text/plain": [
       "'.\\\\tweets\\\\full_data\\\\3.csv'"
      ]
     },
     "execution_count": 17,
     "metadata": {},
     "output_type": "execute_result"
    }
   ],
   "source": [
    "#q16, Question 16: Which file in the directory full_data contains the tweet with tweet_id '1467907751'?\n",
    "find_tweet_id('1467907751','full_data')"
   ]
  },
  {
   "cell_type": "code",
   "execution_count": 18,
   "metadata": {},
   "outputs": [
    {
     "data": {
      "text/plain": [
       "['.\\\\tweets\\\\sample_data\\\\1.csv']"
      ]
     },
     "execution_count": 18,
     "metadata": {},
     "output_type": "execute_result"
    }
   ],
   "source": [
    "#q17, Question 17: Which files in the directory sample_data contain tweets by the user \"USERID_1\"?\n",
    "def find_tweet(cat,tweet_name,folder):\n",
    "    path = []\n",
    "    for i in filter_file(os.listdir(os.path.join('.','tweets',folder))):\n",
    "        file_name = i.split('\\\\')[3]\n",
    "        filetype = i.split(\".\")[2]\n",
    "        if filetype == \"csv\":\n",
    "            msg = read_message(folder,file_name)\n",
    "            for row in msg:\n",
    "                if tweet_name == row[cat]:\n",
    "                    path.append(os.path.join('.','tweets',folder,file_name))\n",
    "                    break\n",
    "        elif filetype == \"json\":\n",
    "            msg = read_json(folder,file_name)\n",
    "            if not msg == None:\n",
    "                for i_id in msg:\n",
    "                    if tweet_name == msg[i_id][cat]:\n",
    "                        path.append(os.path.join('.','tweets',folder,file_name))\n",
    "                        break\n",
    "        path = sorted(path,reverse=True)\n",
    "        return path\n",
    "        return False\n",
    "find_tweet('username',\"USERID_1\",'sample_data')"
   ]
  },
  {
   "cell_type": "code",
   "execution_count": 19,
   "metadata": {},
   "outputs": [
    {
     "data": {
      "text/plain": [
       "[Tweet(tweet_id='1467811372', username='USERID_6', num_liked=5882, length=29),\n",
       " Tweet(tweet_id='1467811592', username='USERID_8', num_liked=2676, length=11),\n",
       " Tweet(tweet_id='1467811594', username='USERID_9', num_liked=2182, length=99),\n",
       " Tweet(tweet_id='1467811795', username='USERID_1', num_liked=7791, length=36),\n",
       " Tweet(tweet_id='1467812025', username='USERID_1', num_liked=8149, length=25),\n",
       " Tweet(tweet_id='1467812799', username='USERID_7', num_liked=3340, length=103),\n",
       " Tweet(tweet_id='1467812964', username='USERID_10', num_liked=3684, length=93),\n",
       " Tweet(tweet_id='1467813137', username='USERID_5', num_liked=6816, length=20),\n",
       " Tweet(tweet_id='1467813579', username='USERID_1', num_liked=1348, length=64),\n",
       " Tweet(tweet_id='1467813782', username='USERID_1', num_liked=4770, length=79)]"
      ]
     },
     "execution_count": 19,
     "metadata": {},
     "output_type": "execute_result"
    }
   ],
   "source": [
    "#q18, Question 18: What are the tweets present in all the files in the sample_data directory?\n",
    "def present_tweet(folder):\n",
    "    all_tweets = []\n",
    "    for i in filter_file(os.listdir(os.path.join('.','tweets',folder))):\n",
    "        file_name = i.split('\\\\')[3]\n",
    "        filetype = i.split(\".\")[2]\n",
    "        if filetype == \"csv\":\n",
    "            msg = read_message(folder,file_name)\n",
    "            for row in msg:\n",
    "                try:\n",
    "                    int(row['tweet_id']+row['num_liked'])\n",
    "                except:\n",
    "                    continue\n",
    "                else:\n",
    "                    row_tweet = Tweet(row['tweet_id'],row['username'],int(row['num_liked']),len(row['tweet_text']))\n",
    "                    all_tweets.append(row_tweet)\n",
    "        if filetype == 'json':\n",
    "            if not read_json(folder,file_name) == None:\n",
    "                file_msg = read_json(folder,file_name)\n",
    "                for i in file_msg:\n",
    "                    try:\n",
    "                        int(i+file_msg[i]['num_liked'])\n",
    "                    except:\n",
    "                        continue\n",
    "                    else:\n",
    "                        all_tweets.append(Tweet(i,file_msg[i]['username'],int(file_msg[i]['num_liked']),len(file_msg[i]['tweet_text'])))\n",
    "    all_tweets = sorted(all_tweets,key=lambda x:x.tweet_id)\n",
    "    return all_tweets\n",
    "present_tweet('sample_data')"
   ]
  },
  {
   "cell_type": "code",
   "execution_count": 20,
   "metadata": {},
   "outputs": [
    {
     "data": {
      "text/plain": [
       "[Tweet(tweet_id='1467812025', username='USERID_1', num_liked=8149, length=25),\n",
       " Tweet(tweet_id='1467811795', username='USERID_1', num_liked=7791, length=36),\n",
       " Tweet(tweet_id='1467813137', username='USERID_5', num_liked=6816, length=20),\n",
       " Tweet(tweet_id='1467811372', username='USERID_6', num_liked=5882, length=29),\n",
       " Tweet(tweet_id='1467813782', username='USERID_1', num_liked=4770, length=79),\n",
       " Tweet(tweet_id='1467812964', username='USERID_10', num_liked=3684, length=93),\n",
       " Tweet(tweet_id='1467812799', username='USERID_7', num_liked=3340, length=103),\n",
       " Tweet(tweet_id='1467811592', username='USERID_8', num_liked=2676, length=11),\n",
       " Tweet(tweet_id='1467811594', username='USERID_9', num_liked=2182, length=99),\n",
       " Tweet(tweet_id='1467813579', username='USERID_1', num_liked=1348, length=64)]"
      ]
     },
     "execution_count": 20,
     "metadata": {},
     "output_type": "execute_result"
    }
   ],
   "source": [
    "#q19, Question 19: What are the tweets present in all the files in the sample_data directory, sorted by num_liked?\n",
    "paths = sorted(present_tweet('sample_data'),key=lambda x:x.num_liked,reverse=True)\n",
    "paths"
   ]
  },
  {
   "cell_type": "code",
   "execution_count": 21,
   "metadata": {},
   "outputs": [
    {
     "data": {
      "text/plain": [
       "[Tweet(tweet_id='1467853431', username='USERID_10', num_liked=9936, length=30),\n",
       " Tweet(tweet_id='1467860904', username='USERID_7', num_liked=9851, length=30),\n",
       " Tweet(tweet_id='1467966646', username='USERID_7', num_liked=9821, length=47),\n",
       " Tweet(tweet_id='1467855673', username='USERID_9', num_liked=9728, length=72),\n",
       " Tweet(tweet_id='1467964211', username='USERID_4', num_liked=9618, length=79),\n",
       " Tweet(tweet_id='1467852067', username='USERID_4', num_liked=9594, length=34),\n",
       " Tweet(tweet_id='1467953733', username='USERID_4', num_liked=9526, length=67),\n",
       " Tweet(tweet_id='1467954070', username='USERID_8', num_liked=9462, length=64),\n",
       " Tweet(tweet_id='1467857378', username='USERID_4', num_liked=9459, length=81),\n",
       " Tweet(tweet_id='1467880431', username='USERID_3', num_liked=9407, length=85),\n",
       " Tweet(tweet_id='1467909124', username='USERID_4', num_liked=9406, length=118),\n",
       " Tweet(tweet_id='1467937393', username='USERID_10', num_liked=9361, length=129),\n",
       " Tweet(tweet_id='1467854062', username='USERID_10', num_liked=9346, length=92),\n",
       " Tweet(tweet_id='1467937128', username='USERID_8', num_liked=9343, length=125),\n",
       " Tweet(tweet_id='1467931983', username='USERID_7', num_liked=9292, length=106),\n",
       " Tweet(tweet_id='1467932117', username='USERID_5', num_liked=9188, length=50),\n",
       " Tweet(tweet_id='1467961091', username='USERID_10', num_liked=9184, length=38),\n",
       " Tweet(tweet_id='1467936901', username='USERID_5', num_liked=9181, length=24),\n",
       " Tweet(tweet_id='1467932208', username='USERID_7', num_liked=9169, length=84)]"
      ]
     },
     "execution_count": 21,
     "metadata": {},
     "output_type": "execute_result"
    }
   ],
   "source": [
    "#q20, Question 20: What are the first 20 tweets present in all the files in the full_data directory, sorted by num_liked?\n",
    "paths = sorted(present_tweet('full_data'),key=lambda x:x.num_liked,reverse=True)[:19]\n",
    "paths"
   ]
  },
  {
   "cell_type": "code",
   "execution_count": 22,
   "metadata": {},
   "outputs": [
    {
     "data": {
      "text/plain": [
       "245"
      ]
     },
     "execution_count": 22,
     "metadata": {},
     "output_type": "execute_result"
    }
   ],
   "source": [
    "#q21, Question 21: How many tweets are present in total?\n",
    "len(present_tweet('full_data'))"
   ]
  },
  {
   "cell_type": "code",
   "execution_count": 23,
   "metadata": {},
   "outputs": [
    {
     "data": {
      "text/plain": [
       "{'USERID_1',\n",
       " 'USERID_10',\n",
       " 'USERID_2',\n",
       " 'USERID_3',\n",
       " 'USERID_4',\n",
       " 'USERID_5',\n",
       " 'USERID_6',\n",
       " 'USERID_7',\n",
       " 'USERID_8',\n",
       " 'USERID_9'}"
      ]
     },
     "execution_count": 23,
     "metadata": {},
     "output_type": "execute_result"
    }
   ],
   "source": [
    "#q22, Question 22: Which usernames appear in the dateset?\n",
    "usernames_list = []\n",
    "for i in present_tweet('full_data'):\n",
    "    usernames_list.append(i.username)\n",
    "set(usernames_list)"
   ]
  },
  {
   "cell_type": "code",
   "execution_count": 24,
   "metadata": {},
   "outputs": [
    {
     "data": {
      "text/plain": [
       "{'USERID_9': 18,\n",
       " 'USERID_3': 19,\n",
       " 'USERID_4': 18,\n",
       " 'USERID_8': 20,\n",
       " 'USERID_2': 26,\n",
       " 'USERID_10': 28,\n",
       " 'USERID_1': 29,\n",
       " 'USERID_7': 33,\n",
       " 'USERID_6': 29,\n",
       " 'USERID_5': 25}"
      ]
     },
     "execution_count": 24,
     "metadata": {},
     "output_type": "execute_result"
    }
   ],
   "source": [
    "#q23, Question 23: How prolific is each user?\n",
    "from collections import defaultdict\n",
    "user_tweet_counts = defaultdict(int)\n",
    "for tweet in present_tweet('full_data'):\n",
    "    user_tweet_counts[tweet.username] += 1\n",
    "dict(user_tweet_counts)"
   ]
  },
  {
   "cell_type": "code",
   "execution_count": 25,
   "metadata": {},
   "outputs": [
    {
     "data": {
      "text/plain": [
       "{'USERID_9': 5181.888888888889,\n",
       " 'USERID_3': 4762.894736842105,\n",
       " 'USERID_4': 5137.222222222223,\n",
       " 'USERID_8': 5544.35,\n",
       " 'USERID_2': 4529.653846153846,\n",
       " 'USERID_10': 5415.714285714285,\n",
       " 'USERID_1': 4495.793103448276,\n",
       " 'USERID_7': 5610.575757575758,\n",
       " 'USERID_6': 4587.275862068966,\n",
       " 'USERID_5': 4669.92}"
      ]
     },
     "execution_count": 25,
     "metadata": {},
     "output_type": "execute_result"
    }
   ],
   "source": [
    "#q24, Question 24: How popular is each user?\n",
    "user_likes_counts = defaultdict(int)\n",
    "for tweet in present_tweet('full_data'):\n",
    "    user_likes_counts[tweet.username] += tweet.num_liked\n",
    "user_popular = {}\n",
    "for i in dict(user_likes_counts):\n",
    "    user_popular[i] = user_likes_counts[i]/dict(user_tweet_counts)[i]\n",
    "user_popular"
   ]
  },
  {
   "cell_type": "code",
   "execution_count": 26,
   "metadata": {},
   "outputs": [
    {
     "data": {
      "text/plain": [
       "{'USERID_9': 60.388888888888886,\n",
       " 'USERID_3': 60.421052631578945,\n",
       " 'USERID_4': 77.61111111111111,\n",
       " 'USERID_8': 74.45,\n",
       " 'USERID_2': 81.26923076923077,\n",
       " 'USERID_10': 73.85714285714286,\n",
       " 'USERID_1': 77.20689655172414,\n",
       " 'USERID_7': 74.27272727272727,\n",
       " 'USERID_6': 73.10344827586206,\n",
       " 'USERID_5': 71.52}"
      ]
     },
     "execution_count": 26,
     "metadata": {},
     "output_type": "execute_result"
    }
   ],
   "source": [
    "#q25, Question 25: How verbose is each user?\n",
    "user_words_counts = defaultdict(int)\n",
    "for tweet in present_tweet('full_data'):\n",
    "    user_words_counts[tweet.username] += tweet.length\n",
    "user_verbose = {}\n",
    "for user in dict(user_words_counts):\n",
    "    user_verbose[user] = user_words_counts[user]/dict(user_tweet_counts)[user]\n",
    "user_verbose"
   ]
  },
  {
   "cell_type": "code",
   "execution_count": 27,
   "metadata": {},
   "outputs": [
    {
     "data": {
      "image/png": "[encoded data removed]",
      "text/plain": [
       "<Figure size 432x288 with 1 Axes>"
      ]
     },
     "metadata": {
      "needs_background": "light"
     },
     "output_type": "display_data"
    }
   ],
   "source": [
    "#q26, Question 26: What is the relationship between number of tweets and length of tweets?\n",
    "%matplotlib inline\n",
    "import pandas as pd\n",
    "\n",
    "def scatter(x, y, xlabel=\"Number of Tweets\", ylabel=\"Average Length\"):\n",
    "    df = pd.DataFrame({\"x\":x, \"y\":y})\n",
    "    ax = df.plot.scatter(x=\"x\", y=\"y\", color=\"black\", fontsize=16, xlim=0, ylim=0)\n",
    "    ax.set_xlabel(xlabel, fontsize=16)\n",
    "    ax.set_ylabel(ylabel, fontsize=16)\n",
    "    ax.get_xaxis().get_major_formatter().set_scientific(False)\n",
    "    ax.get_yaxis().get_major_formatter().set_scientific(False)\n",
    "scatter(list(dict(user_tweet_counts).values()),\n",
    "       list(user_verbose.values()))"
   ]
  },
  {
   "cell_type": "code",
   "execution_count": 28,
   "metadata": {},
   "outputs": [
    {
     "data": {
      "image/png": "[encoded data removed]",
      "text/plain": [
       "<Figure size 432x288 with 1 Axes>"
      ]
     },
     "metadata": {
      "needs_background": "light"
     },
     "output_type": "display_data"
    }
   ],
   "source": [
    "#q27, Question 27: What is the relationship between number of tweets and likes?\n",
    "scatter(list(dict(user_tweet_counts).values()),\n",
    "       list(user_popular.values()),\n",
    "       ylabel=\"Average Likes\")"
   ]
  },
  {
   "cell_type": "code",
   "execution_count": 29,
   "metadata": {},
   "outputs": [
    {
     "data": {
      "image/png": "[encoded data removed]",
      "text/plain": [
       "<Figure size 432x288 with 1 Axes>"
      ]
     },
     "metadata": {
      "needs_background": "light"
     },
     "output_type": "display_data"
    }
   ],
   "source": [
    "#q28, Question 28: What is the relationship between length and likes?\n",
    "scatter(list(user_verbose.values()),\n",
    "       list(user_popular.values()),xlabel = 'Average Length', ylabel=\"Average Likes\")"
   ]
  },
  {
   "cell_type": "code",
   "execution_count": 36,
   "metadata": {},
   "outputs": [
    {
     "data": {
      "text/plain": [
       "'USERID_9'"
      ]
     },
     "execution_count": 36,
     "metadata": {},
     "output_type": "execute_result"
    }
   ],
   "source": [
    "#q29,Question 29: What is the username of the user represented by the outlier in the last two plots?\n",
    "import collections\n",
    "sorted(user_popular.items())[-1][0]"
   ]
  },
  {
   "cell_type": "code",
   "execution_count": 41,
   "metadata": {},
   "outputs": [
    {
     "data": {
      "text/plain": [
       "[Tweet(tweet_id='1467855673', username='USERID_9', num_liked=9728, length=72),\n",
       " Tweet(tweet_id='1467859666', username='USERID_9', num_liked=9158, length=16),\n",
       " Tweet(tweet_id='1467934184', username='USERID_9', num_liked=8463, length=31),\n",
       " Tweet(tweet_id='1467965949', username='USERID_9', num_liked=8308, length=29),\n",
       " Tweet(tweet_id='1467963715', username='USERID_9', num_liked=8006, length=70),\n",
       " Tweet(tweet_id='1467854345', username='USERID_9', num_liked=7959, length=72),\n",
       " Tweet(tweet_id='1467844540', username='USERID_9', num_liked=6366, length=49),\n",
       " Tweet(tweet_id='1467962336', username='USERID_9', num_liked=5680, length=128),\n",
       " Tweet(tweet_id='1467853479', username='USERID_9', num_liked=4939, length=24),\n",
       " Tweet(tweet_id='1467930309', username='USERID_9', num_liked=4910, length=51),\n",
       " Tweet(tweet_id='1467857975', username='USERID_9', num_liked=4893, length=21),\n",
       " Tweet(tweet_id='1467933112', username='USERID_9', num_liked=3523, length=52),\n",
       " Tweet(tweet_id='1467935345', username='USERID_9', num_liked=2980, length=45),\n",
       " Tweet(tweet_id='1467916700', username='USERID_9', num_liked=2519, length=136),\n",
       " Tweet(tweet_id='1467931396', username='USERID_9', num_liked=2496, length=96),\n",
       " Tweet(tweet_id='1467891826', username='USERID_9', num_liked=2021, length=113),\n",
       " Tweet(tweet_id='1467880463', username='USERID_9', num_liked=1226, length=29),\n",
       " Tweet(tweet_id='1467859066', username='USERID_9', num_liked=99, length=53)]"
      ]
     },
     "execution_count": 41,
     "metadata": {},
     "output_type": "execute_result"
    }
   ],
   "source": [
    "#q30, Question 30: What are the tweets made by that outlier user?\n",
    "outlier_tweets = []\n",
    "for i in present_tweet('full_data'):\n",
    "    if i.username == sorted(user_popular.items())[-1][0]:\n",
    "        outlier_tweets.append(i)\n",
    "sorted(outlier_tweets, key = lambda x:x.num_liked,reverse=True)"
   ]
  },
  {
   "cell_type": "code",
   "execution_count": 43,
   "metadata": {},
   "outputs": [
    {
     "data": {
      "text/plain": [
       "0.10429487316937196"
      ]
     },
     "execution_count": 43,
     "metadata": {},
     "output_type": "execute_result"
    }
   ],
   "source": [
    "#q31, Question 31: What percent of the outlier user's total likes (across all tweets) come from the most-liked tweet?\n",
    "sum_outlier_liked = 0\n",
    "for i in outlier_tweets:\n",
    "    sum_outlier_liked += i.num_liked\n",
    "sorted(outlier_tweets, key = lambda x:x.num_liked,reverse=True)[0].num_liked/sum_outlier_liked"
   ]
  },
  {
   "cell_type": "code",
   "execution_count": 44,
   "metadata": {},
   "outputs": [
    {
     "data": {
      "text/plain": [
       "4914.470588235294"
      ]
     },
     "execution_count": 44,
     "metadata": {},
     "output_type": "execute_result"
    }
   ],
   "source": [
    "#q32, Question 32: If we exclude that most-liked tweet, what is that user's like-per-tweet average?\n",
    "(sum_outlier_liked - sorted(outlier_tweets, key = lambda x:x.num_liked,reverse=True)[0].num_liked)/(len(outlier_tweets)-1)"
   ]
  },
  {
   "cell_type": "code",
   "execution_count": 102,
   "metadata": {},
   "outputs": [],
   "source": [
    "def folder_traversal(path):\n",
    "    try:\n",
    "        type(file_list)\n",
    "    except:\n",
    "        file_list = []\n",
    "    finally:\n",
    "\n",
    "        for i in os.listdir(path):\n",
    "            in_path = os.path.join(path,i)\n",
    "            if os.path.isfile(in_path) == False:\n",
    "                folder_traversal(in_path)\n",
    "            else:\n",
    "                file_list.append(in_path)\n",
    "    #a = \n",
    "    return sorted(file_list,reverse=True)\n",
    "    "
   ]
  },
  {
   "cell_type": "code",
   "execution_count": 103,
   "metadata": {},
   "outputs": [
    {
     "data": {
      "text/plain": [
       "['.\\\\tweets\\\\play\\\\rb\\\\rb9\\\\89.csv', '.\\\\tweets\\\\play\\\\rb\\\\rb9\\\\12.xls']"
      ]
     },
     "execution_count": 103,
     "metadata": {},
     "output_type": "execute_result"
    }
   ],
   "source": [
    "#q33, Question 33: what are the files in the rb9 directory of the rb directory of the play directory?\n",
    "path_33 = os.path.join('.','tweets','play','rb','rb9')\n",
    "folder_traversal(path_33)"
   ]
  },
  {
   "cell_type": "code",
   "execution_count": 104,
   "metadata": {},
   "outputs": [
    {
     "data": {
      "text/plain": [
       "['.\\\\tweets\\\\play\\\\ls\\\\mf.py', '.\\\\tweets\\\\play\\\\ls\\\\lu.txt']"
      ]
     },
     "execution_count": 104,
     "metadata": {},
     "output_type": "execute_result"
    }
   ],
   "source": [
    "#q34, Question 34: what are the files in the ls directory of the play directory?\n",
    "path_34 = os.path.join('.','tweets','play','ls')\n",
    "folder_traversal(path_34)"
   ]
  },
  {
   "cell_type": "code",
   "execution_count": 105,
   "metadata": {},
   "outputs": [
    {
     "data": {
      "text/plain": [
       "['.\\\\tweets\\\\play\\\\ou\\\\v', '.\\\\tweets\\\\play\\\\ou\\\\b', '.\\\\tweets\\\\play\\\\ou\\\\a']"
      ]
     },
     "execution_count": 105,
     "metadata": {},
     "output_type": "execute_result"
    }
   ],
   "source": [
    "#q35, Question 35: what are the files in the ou directory of the play directory?\n",
    "path_35 = os.path.join('.','tweets','play','ou')\n",
    "folder_traversal(path_35)\n"
   ]
  },
  {
   "cell_type": "code",
   "execution_count": 96,
   "metadata": {},
   "outputs": [
    {
     "name": "stdout",
     "output_type": "stream",
     "text": [
      ".\\tweets\\play\\ou\\a True\n",
      ".\\tweets\\play\\ou\\b True\n",
      ".\\tweets\\play\\ou\\quap False\n",
      ".\\tweets\\play\\ou\\v True\n"
     ]
    }
   ],
   "source": [
    "for i in os.listdir(path_35):\n",
    "        in_path = os.path.join(path_35,i)\n",
    "        print(in_path,os.path.isfile(in_path))"
   ]
  },
  {
   "cell_type": "code",
   "execution_count": 89,
   "metadata": {},
   "outputs": [
    {
     "ename": "SyntaxError",
     "evalue": "invalid syntax (<ipython-input-89-06eccef4b407>, line 1)",
     "output_type": "error",
     "traceback": [
      "\u001b[1;36m  File \u001b[1;32m\"<ipython-input-89-06eccef4b407>\"\u001b[1;36m, line \u001b[1;32m1\u001b[0m\n\u001b[1;33m    dir(.\\\\)\u001b[0m\n\u001b[1;37m        ^\u001b[0m\n\u001b[1;31mSyntaxError\u001b[0m\u001b[1;31m:\u001b[0m invalid syntax\n"
     ]
    }
   ],
   "source": []
  },
  {
   "cell_type": "code",
   "execution_count": null,
   "metadata": {},
   "outputs": [],
   "source": []
  },
  {
   "cell_type": "code",
   "execution_count": null,
   "metadata": {},
   "outputs": [],
   "source": []
  },
  {
   "cell_type": "code",
   "execution_count": null,
   "metadata": {},
   "outputs": [],
   "source": []
  },
  {
   "cell_type": "code",
   "execution_count": null,
   "metadata": {},
   "outputs": [],
   "source": []
  },
  {
   "cell_type": "code",
   "execution_count": null,
   "metadata": {},
   "outputs": [],
   "source": []
  },
  {
   "cell_type": "code",
   "execution_count": null,
   "metadata": {},
   "outputs": [],
   "source": []
  },
  {
   "cell_type": "code",
   "execution_count": null,
   "metadata": {},
   "outputs": [],
   "source": []
  },
  {
   "cell_type": "code",
   "execution_count": null,
   "metadata": {},
   "outputs": [],
   "source": []
  }
 ],
 "metadata": {
  "kernelspec": {
   "display_name": "Python 3",
   "language": "python",
   "name": "python3"
  },
  "language_info": {
   "codemirror_mode": {
    "name": "ipython",
    "version": 3
   },
   "file_extension": ".py",
   "mimetype": "text/x-python",
   "name": "python",
   "nbconvert_exporter": "python",
   "pygments_lexer": "ipython3",
   "version": "3.8.1"
  }
 },
 "nbformat": 4,
 "nbformat_minor": 4
}
