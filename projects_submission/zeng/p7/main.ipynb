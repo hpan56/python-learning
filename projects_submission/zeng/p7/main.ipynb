{
 "cells": [
  {
   "cell_type": "code",
   "execution_count": 5,
   "metadata": {},
   "outputs": [],
   "source": [
    "import csv\n",
    "fifa_file = open('Fifa18.csv', encoding='utf-8')\n",
    "file_reader = csv.reader(fifa_file)\n",
    "player_data = list(file_reader)\n",
    "header = player_data[0]\n",
    "player_data = player_data[1:]\n",
    "for row in player_data:\n",
    "    for idx in [2,6,7,8]:\n",
    "        row[idx] = float(row[idx])"
   ]
  },
  {
   "cell_type": "code",
   "execution_count": 6,
   "metadata": {},
   "outputs": [
    {
     "data": {
      "text/plain": [
       "'B. Richardson'"
      ]
     },
     "execution_count": 6,
     "metadata": {},
     "output_type": "execute_result"
    }
   ],
   "source": [
    "#q1: what is the name of the oldest player?\n",
    "player_age = 0\n",
    "k = 0\n",
    "for i in range(len(player_data)):\n",
    "    if player_age <= player_data[i][2]:\n",
    "        player_age = player_data[i][2]\n",
    "        k = i\n",
    "player_data[k][1]"
   ]
  },
  {
   "cell_type": "code",
   "execution_count": 7,
   "metadata": {},
   "outputs": [
    {
     "data": {
      "text/plain": [
       "'Cristiano Ronaldo'"
      ]
     },
     "execution_count": 7,
     "metadata": {},
     "output_type": "execute_result"
    }
   ],
   "source": [
    "#q2: what is the name of the highest-paid player?\n",
    "player_pay = 0\n",
    "k = 0\n",
    "for i in range(len(player_data)):\n",
    "    if player_pay < player_data[i][6]:\n",
    "        player_pay = player_data[i][6]\n",
    "        k = i\n",
    "player_data[k][1]"
   ]
  },
  {
   "cell_type": "code",
   "execution_count": 8,
   "metadata": {},
   "outputs": [
    {
     "data": {
      "text/plain": [
       "'Neymar'"
      ]
     },
     "execution_count": 8,
     "metadata": {},
     "output_type": "execute_result"
    }
   ],
   "source": [
    "#q3: what is the name of the highest net-worth player?\n",
    "player_worth = 0\n",
    "k = 0\n",
    "for i in range(len(player_data)):\n",
    "    if player_worth < player_data[i][7]:\n",
    "        player_worth = player_data[i][7]\n",
    "        k = i\n",
    "player_data[k][1]"
   ]
  },
  {
   "cell_type": "code",
   "execution_count": 9,
   "metadata": {},
   "outputs": [
    {
     "data": {
      "text/plain": [
       "'Paris Saint-Germain'"
      ]
     },
     "execution_count": 9,
     "metadata": {},
     "output_type": "execute_result"
    }
   ],
   "source": [
    "#q4: what club is that player in?\n",
    "player_data[k][4]"
   ]
  },
  {
   "cell_type": "code",
   "execution_count": 10,
   "metadata": {},
   "outputs": [],
   "source": [
    "def get_column(col_idx):\n",
    "    column = []\n",
    "    for i in range(len(player_data)):\n",
    "        column.append(player_data[i][int(col_idx)])\n",
    "    return column"
   ]
  },
  {
   "cell_type": "code",
   "execution_count": 11,
   "metadata": {},
   "outputs": [
    {
     "data": {
      "text/plain": [
       "['Portugal', 'Argentina', 'Brazil', 'Uruguay', 'Germany']"
      ]
     },
     "execution_count": 11,
     "metadata": {},
     "output_type": "execute_result"
    }
   ],
   "source": [
    "#q5: what are the first five nationalities listed in the dataset?\n",
    "get_column(3)[:5]"
   ]
  },
  {
   "cell_type": "code",
   "execution_count": 12,
   "metadata": {},
   "outputs": [
    {
     "data": {
      "text/plain": [
       "['A. Abbas', 'A. Abbas', 'A. Abdallah', 'A. Abdennour', 'A. Abdi']"
      ]
     },
     "execution_count": 12,
     "metadata": {},
     "output_type": "execute_result"
    }
   ],
   "source": [
    "#q6: which five names are alphabetically first in the dataset?\n",
    "sorted(get_column(1))[0:5]"
   ]
  },
  {
   "cell_type": "code",
   "execution_count": 13,
   "metadata": {},
   "outputs": [
    {
     "data": {
      "text/plain": [
       "2407282.6149178543"
      ]
     },
     "execution_count": 13,
     "metadata": {},
     "output_type": "execute_result"
    }
   ],
   "source": [
    "#q7: what is the average net worth?\n",
    "sum(get_column(7)) / len(get_column(7))"
   ]
  },
  {
   "cell_type": "code",
   "execution_count": 14,
   "metadata": {},
   "outputs": [
    {
     "data": {
      "text/plain": [
       "25.133264640219817"
      ]
     },
     "execution_count": 14,
     "metadata": {},
     "output_type": "execute_result"
    }
   ],
   "source": [
    "#q8: what is the average age?\n",
    "sum(get_column(2)) / len(get_column(2))"
   ]
  },
  {
   "cell_type": "code",
   "execution_count": 15,
   "metadata": {},
   "outputs": [],
   "source": [
    "def player_count(ctry):\n",
    "    n = 0\n",
    "    for i in range(len(player_data)):\n",
    "        if player_data[i][3] == ctry:\n",
    "            n += 1\n",
    "    return n"
   ]
  },
  {
   "cell_type": "code",
   "execution_count": 16,
   "metadata": {},
   "outputs": [
    {
     "data": {
      "text/plain": [
       "355"
      ]
     },
     "execution_count": 16,
     "metadata": {},
     "output_type": "execute_result"
    }
   ],
   "source": [
    "#q9: how many players have Portugal as their nationality?\n",
    "player_count(\"Portugal\")"
   ]
  },
  {
   "cell_type": "code",
   "execution_count": 17,
   "metadata": {},
   "outputs": [
    {
     "data": {
      "text/plain": [
       "800"
      ]
     },
     "execution_count": 17,
     "metadata": {},
     "output_type": "execute_result"
    }
   ],
   "source": [
    "#q10: how many players have Brazil as their nationality?\n",
    "player_count(\"Brazil\")"
   ]
  },
  {
   "cell_type": "code",
   "execution_count": 18,
   "metadata": {},
   "outputs": [
    {
     "data": {
      "text/plain": [
       "'England'"
      ]
     },
     "execution_count": 18,
     "metadata": {},
     "output_type": "execute_result"
    }
   ],
   "source": [
    "#q11: which country has the most players participating in FIFA18?\n",
    "country_list = list(set(get_column(3)))\n",
    "country_dict = {}\n",
    "for i in country_list:\n",
    "    country_dict[i] = player_count(i)\n",
    "country_sorted = sorted(country_dict.items(), key = lambda x:x[1], reverse = True)\n",
    "country_sorted[0][0]"
   ]
  },
  {
   "cell_type": "code",
   "execution_count": 19,
   "metadata": {},
   "outputs": [],
   "source": [
    "def player_to_dict(player_idx):\n",
    "    player_dict = {}\n",
    "    for i in range(len(player_data)):\n",
    "        if int(player_data[i][0]) == player_idx:\n",
    "            for j in range(9):\n",
    "                player_dict[header[j]] = player_data[i][j]\n",
    "    return player_dict"
   ]
  },
  {
   "cell_type": "code",
   "execution_count": 20,
   "metadata": {},
   "outputs": [
    {
     "data": {
      "text/plain": [
       "{'Id': '20801',\n",
       " 'name': 'Cristiano Ronaldo',\n",
       " 'Age': 32.0,\n",
       " 'nationality': 'Portugal',\n",
       " 'club': 'Real Madrid CF',\n",
       " 'league': 'Spanish Primera División',\n",
       " 'euro_wage': 565000.0,\n",
       " 'networth': 95500000.0,\n",
       " 'score_of_100': 94.0}"
      ]
     },
     "execution_count": 20,
     "metadata": {},
     "output_type": "execute_result"
    }
   ],
   "source": [
    "#q12: what are the stats for the player with Id equal to 20801?\n",
    "player_to_dict(20801)"
   ]
  },
  {
   "cell_type": "code",
   "execution_count": 21,
   "metadata": {},
   "outputs": [
    {
     "data": {
      "text/plain": [
       "{'Id': '190871',\n",
       " 'name': 'Neymar',\n",
       " 'Age': 25.0,\n",
       " 'nationality': 'Brazil',\n",
       " 'club': 'Paris Saint-Germain',\n",
       " 'league': 'French Ligue 1',\n",
       " 'euro_wage': 280000.0,\n",
       " 'networth': 123000000.0,\n",
       " 'score_of_100': 92.0}"
      ]
     },
     "execution_count": 21,
     "metadata": {},
     "output_type": "execute_result"
    }
   ],
   "source": [
    "#q13: what are the stats for the player with Id equal to 190871?\n",
    "player_to_dict(190871)"
   ]
  },
  {
   "cell_type": "code",
   "execution_count": 22,
   "metadata": {},
   "outputs": [
    {
     "data": {
      "text/plain": [
       "{'Id': '158023',\n",
       " 'name': 'L. Messi',\n",
       " 'Age': 30.0,\n",
       " 'nationality': 'Argentina',\n",
       " 'club': 'FC Barcelona',\n",
       " 'league': 'Spanish Primera División',\n",
       " 'euro_wage': 565000.0,\n",
       " 'networth': 105000000.0,\n",
       " 'score_of_100': 93.0}"
      ]
     },
     "execution_count": 22,
     "metadata": {},
     "output_type": "execute_result"
    }
   ],
   "source": [
    "#q14: what are the stats for the player with Id equal to 158023?\n",
    "player_to_dict(158023)"
   ]
  },
  {
   "cell_type": "code",
   "execution_count": 23,
   "metadata": {},
   "outputs": [
    {
     "data": {
      "text/plain": [
       "{'Id': '192985',\n",
       " 'name': 'K. De Bruyne',\n",
       " 'Age': 26.0,\n",
       " 'nationality': 'Belgium',\n",
       " 'club': 'Manchester City',\n",
       " 'league': 'English Premier League',\n",
       " 'euro_wage': 285000.0,\n",
       " 'networth': 83000000.0,\n",
       " 'score_of_100': 89.0}"
      ]
     },
     "execution_count": 23,
     "metadata": {},
     "output_type": "execute_result"
    }
   ],
   "source": [
    "#q15: what are the stats for the player with Id equal to 192985?\n",
    "player_to_dict(192985)"
   ]
  },
  {
   "cell_type": "code",
   "execution_count": 24,
   "metadata": {},
   "outputs": [
    {
     "data": {
      "text/plain": [
       "{'Kazakhstan': 3,\n",
       " 'Curacao': 11,\n",
       " 'São Tomé & Príncipe': 1,\n",
       " 'Hungary': 24,\n",
       " 'Belarus': 9,\n",
       " 'Oman': 1,\n",
       " 'Croatia': 107,\n",
       " 'Malta': 3,\n",
       " 'Luxembourg': 8,\n",
       " 'Uruguay': 150,\n",
       " 'Chile': 367,\n",
       " 'Serbia': 132,\n",
       " 'Sweden': 366,\n",
       " 'Comoros': 9,\n",
       " 'Cuba': 2,\n",
       " 'Brazil': 800,\n",
       " 'Spain': 995,\n",
       " 'Switzerland': 228,\n",
       " 'Greece': 95,\n",
       " 'Moldova': 6,\n",
       " 'Sierra Leone': 9,\n",
       " 'Nigeria': 126,\n",
       " 'Uzbekistan': 5,\n",
       " 'United States': 379,\n",
       " 'Montserrat': 4,\n",
       " 'Chad': 2,\n",
       " 'Latvia': 6,\n",
       " 'Equatorial Guinea': 6,\n",
       " 'Ivory Coast': 94,\n",
       " 'Poland': 332,\n",
       " 'Liberia': 2,\n",
       " 'Hong Kong': 1,\n",
       " 'Suriname': 3,\n",
       " 'Japan': 469,\n",
       " 'Denmark': 343,\n",
       " 'Iran': 17,\n",
       " 'Congo': 21,\n",
       " 'Vietnam': 1,\n",
       " 'Costa Rica': 29,\n",
       " 'Portugal': 355,\n",
       " 'Korea DPR': 6,\n",
       " 'Ethiopia': 2,\n",
       " 'Scotland': 291,\n",
       " 'Colombia': 589,\n",
       " 'Guatemala': 1,\n",
       " 'Iraq': 8,\n",
       " 'Argentina': 948,\n",
       " 'Belgium': 260,\n",
       " 'England': 1582,\n",
       " 'Netherlands': 425,\n",
       " 'South Africa': 62,\n",
       " 'Cyprus': 11,\n",
       " 'Ghana': 113,\n",
       " 'Azerbaijan': 7,\n",
       " 'Zimbabwe': 10,\n",
       " 'Puerto Rico': 2,\n",
       " 'Sudan': 2,\n",
       " 'Namibia': 2,\n",
       " 'Cape Verde': 22,\n",
       " 'Kosovo': 32,\n",
       " 'Peru': 16,\n",
       " 'Panama': 16,\n",
       " 'Thailand': 2,\n",
       " 'Antigua & Barbuda': 4,\n",
       " 'Eritrea': 1,\n",
       " 'Algeria': 56,\n",
       " 'Somalia': 1,\n",
       " 'New Caledonia': 2,\n",
       " 'Slovakia': 64,\n",
       " 'Ecuador': 25,\n",
       " 'St Kitts Nevis': 3,\n",
       " 'Georgia': 31,\n",
       " 'Afghanistan': 3,\n",
       " 'Norway': 329,\n",
       " 'Austria': 262,\n",
       " 'Tanzania': 2,\n",
       " 'Barbados': 1,\n",
       " 'Central African Rep.': 4,\n",
       " 'Guam': 1,\n",
       " 'Sri Lanka': 1,\n",
       " 'Albania': 35,\n",
       " 'Finland': 60,\n",
       " 'Guinea Bissau': 15,\n",
       " 'Mexico': 360,\n",
       " 'Madagascar': 4,\n",
       " 'Kuwait': 2,\n",
       " 'Ukraine': 49,\n",
       " 'Mauritius': 1,\n",
       " 'Germany': 1132,\n",
       " 'Gibraltar': 2,\n",
       " 'Montenegro': 25,\n",
       " 'Fiji': 1,\n",
       " 'New Zealand': 30,\n",
       " 'Armenia': 14,\n",
       " 'Senegal': 126,\n",
       " 'Burundi': 1,\n",
       " 'Uganda': 4,\n",
       " 'Jamaica': 37,\n",
       " 'Italy': 792,\n",
       " 'Burkina Faso': 14,\n",
       " 'FYR Macedonia': 17,\n",
       " 'Guyana': 5,\n",
       " 'Lithuania': 12,\n",
       " 'Korea Republic': 316,\n",
       " 'Northern Ireland': 85,\n",
       " 'Republic of Ireland': 408,\n",
       " 'Benin': 14,\n",
       " 'Grenada': 1,\n",
       " 'Estonia': 8,\n",
       " 'Turkey': 288,\n",
       " 'Faroe Islands': 6,\n",
       " 'Gabon': 12,\n",
       " 'Bosnia Herzegovina': 55,\n",
       " 'San Marino': 1,\n",
       " 'Australia': 222,\n",
       " 'Mauritania': 2,\n",
       " 'Bolivia': 2,\n",
       " 'St Lucia': 1,\n",
       " 'Palestine': 4,\n",
       " 'El Salvador': 2,\n",
       " 'France': 962,\n",
       " 'Morocco': 77,\n",
       " 'Trinidad & Tobago': 9,\n",
       " 'Guinea': 25,\n",
       " 'Gambia': 15,\n",
       " 'Saudi Arabia': 321,\n",
       " 'Liechtenstein': 3,\n",
       " 'Swaziland': 1,\n",
       " 'Bermuda': 4,\n",
       " 'Venezuela': 41,\n",
       " 'Mozambique': 3,\n",
       " 'Israel': 12,\n",
       " 'Qatar': 6,\n",
       " 'Honduras': 13,\n",
       " 'Mali': 46,\n",
       " 'Dominican Republic': 3,\n",
       " 'Tunisia': 31,\n",
       " 'Haiti': 14,\n",
       " 'Iceland': 52,\n",
       " 'Bulgaria': 20,\n",
       " 'Russia': 305,\n",
       " 'Cameroon': 78,\n",
       " 'Wales': 122,\n",
       " 'Canada': 49,\n",
       " 'Egypt': 20,\n",
       " 'Togo': 8,\n",
       " 'Turkmenistan': 1,\n",
       " 'Czech Republic': 63,\n",
       " 'Niger': 3,\n",
       " 'DR Congo': 57,\n",
       " 'Syria': 4,\n",
       " 'Zambia': 7,\n",
       " 'Belize': 1,\n",
       " 'Kyrgyzstan': 1,\n",
       " 'Paraguay': 60,\n",
       " 'Lebanon': 5,\n",
       " 'Angola': 15,\n",
       " 'Kenya': 7,\n",
       " 'Libya': 2,\n",
       " 'Romania': 49,\n",
       " 'Slovenia': 62,\n",
       " 'Philippines': 3,\n",
       " 'China PR': 4}"
      ]
     },
     "execution_count": 24,
     "metadata": {},
     "output_type": "execute_result"
    }
   ],
   "source": [
    "#q16: how many players are there per nationality?\n",
    "country_dict"
   ]
  },
  {
   "cell_type": "code",
   "execution_count": 25,
   "metadata": {},
   "outputs": [],
   "source": [
    "def player_count_1(index, col):\n",
    "    n = 0\n",
    "    for i in range(len(player_data)):\n",
    "        if player_data[i][col] == index:\n",
    "            n += 1\n",
    "    return n\n",
    "def idx_count(idx_name):\n",
    "    idx = header.index(idx_name)\n",
    "    idx_list = list(set(get_column(idx)))\n",
    "    idx_dict = {}\n",
    "    for i in idx_list:\n",
    "        idx_dict[i] = player_count_1(i,idx)\n",
    "    return idx_dict"
   ]
  },
  {
   "cell_type": "code",
   "execution_count": 26,
   "metadata": {},
   "outputs": [
    {
     "data": {
      "text/plain": [
       "{'South African PSL': 51,\n",
       " 'Colombian Primera A': 551,\n",
       " 'Russian Premier League': 447,\n",
       " 'Norwegian Eliteserien': 392,\n",
       " 'Scottish Premiership': 310,\n",
       " 'Argentinian Superliga': 771,\n",
       " 'English Premier League': 634,\n",
       " 'Italian Serie B': 618,\n",
       " 'Belgian First Division A': 430,\n",
       " 'French Ligue 2': 535,\n",
       " 'English League One': 641,\n",
       " 'Campeonato Brasileiro Série A': 320,\n",
       " 'Swiss Super League': 257,\n",
       " 'Korean K League Classic': 322,\n",
       " 'Turkish Süper Lig': 493,\n",
       " 'Spanish Segunda División': 624,\n",
       " 'Italian Serie A': 554,\n",
       " 'Finnish Veikkausliiga': 27,\n",
       " 'Chilian Primera División': 320,\n",
       " 'Ukrainian Premier League': 24,\n",
       " 'Japanese J1 League': 518,\n",
       " 'German 3. Liga': 513,\n",
       " 'Rep. Ireland Premier Division': 284,\n",
       " 'Czech Liga': 27,\n",
       " 'Portuguese Primeira Liga': 503,\n",
       " 'Holland Eredivisie': 484,\n",
       " 'German Bundesliga': 523,\n",
       " 'Saudi Professional League': 405,\n",
       " 'English Championship': 706,\n",
       " 'Australian A-League': 226,\n",
       " 'Danish Superliga': 362,\n",
       " 'Mexican Liga MX': 515,\n",
       " 'English League Two': 615,\n",
       " 'French Ligue 1': 589,\n",
       " 'Greek Super League': 109,\n",
       " 'Austrian Bundesliga': 255,\n",
       " 'USA Major League Soccer': 624,\n",
       " 'German 2. Bundesliga': 509,\n",
       " 'Swedish Allsvenskan': 385,\n",
       " 'Polish Ekstraklasa': 414,\n",
       " 'Spanish Primera División': 582}"
      ]
     },
     "execution_count": 26,
     "metadata": {},
     "output_type": "execute_result"
    }
   ],
   "source": [
    "#q17: how many players are there per league?\n",
    "idx_count('league')"
   ]
  },
  {
   "cell_type": "code",
   "execution_count": 33,
   "metadata": {},
   "outputs": [
    {
     "data": {
      "text/plain": [
       "{'South African PSL': 1000.0,\n",
       " 'Colombian Primera A': 1916.5154264972778,\n",
       " 'Russian Premier League': 19612.97539149888,\n",
       " 'Norwegian Eliteserien': 1936.2244897959183,\n",
       " 'Scottish Premiership': 7154.8387096774195,\n",
       " 'Argentinian Superliga': 6832.684824902723,\n",
       " 'English Premier League': 58705.047318611985,\n",
       " 'Italian Serie B': 3788.0258899676373,\n",
       " 'Belgian First Division A': 8953.488372093023,\n",
       " 'French Ligue 2': 3330.841121495327,\n",
       " 'English League One': 3663.0265210608422,\n",
       " 'Campeonato Brasileiro Série A': 15515.625,\n",
       " 'Swiss Super League': 6774.31906614786,\n",
       " 'Korean K League Classic': 3043.478260869565,\n",
       " 'Turkish Süper Lig': 16582.150101419877,\n",
       " 'Spanish Segunda División': 5915.0641025641025,\n",
       " 'Italian Serie A': 35981.94945848375,\n",
       " 'Finnish Veikkausliiga': 1000.0,\n",
       " 'Chilian Primera División': 4800.0,\n",
       " 'Ukrainian Premier League': 1000.0,\n",
       " 'Japanese J1 League': 3030.8880308880307,\n",
       " 'German 3. Liga': 1136.4522417153996,\n",
       " 'Rep. Ireland Premier Division': 1049.2957746478874,\n",
       " 'Czech Liga': 1000.0,\n",
       " 'Portuguese Primeira Liga': 7570.576540755467,\n",
       " 'Holland Eredivisie': 6842.975206611571,\n",
       " 'German Bundesliga': 31177.820267686424,\n",
       " 'Saudi Professional League': 8928.395061728395,\n",
       " 'English Championship': 16702.54957507082,\n",
       " 'Australian A-League': 3092.920353982301,\n",
       " 'Danish Superliga': 5102.209944751381,\n",
       " 'Mexican Liga MX': 14885.436893203883,\n",
       " 'English League Two': 3068.2926829268295,\n",
       " 'French Ligue 1': 20843.803056027165,\n",
       " 'Greek Super League': 1000.0,\n",
       " 'Austrian Bundesliga': 6054.901960784314,\n",
       " 'USA Major League Soccer': 4052.8846153846152,\n",
       " 'German 2. Bundesliga': 7766.2082514734775,\n",
       " 'Swedish Allsvenskan': 2218.181818181818,\n",
       " 'Polish Ekstraklasa': 3190.8212560386473,\n",
       " 'Spanish Primera División': 37104.810996563574}"
      ]
     },
     "execution_count": 33,
     "metadata": {},
     "output_type": "execute_result"
    }
   ],
   "source": [
    "#q18: what is the average player wage per league?\n",
    "league_list = list(set(get_column(5)))\n",
    "league_sumwage_dict = {}\n",
    "league_avewage_dict = {}\n",
    "for i in range(len(player_data)):\n",
    "    if player_data[i][5] not in league_sumwage_dict.keys():\n",
    "        league_sumwage_dict[player_data[i][5]] = 0\n",
    "    league_sumwage_dict[player_data[i][5]] = league_sumwage_dict[player_data[i][5]] + float(player_data[i][6])\n",
    "for i in league_list:\n",
    "    league_avewage_dict[i] = league_sumwage_dict[i] / idx_count('league')[i]\n",
    "league_avewage_dict\n"
   ]
  },
  {
   "cell_type": "code",
   "execution_count": 34,
   "metadata": {},
   "outputs": [
    {
     "data": {
      "text/plain": [
       "{'South African PSL': 26.80392156862745,\n",
       " 'Colombian Primera A': 25.76043557168784,\n",
       " 'Russian Premier League': 25.55704697986577,\n",
       " 'Norwegian Eliteserien': 24.252551020408163,\n",
       " 'Scottish Premiership': 24.625806451612902,\n",
       " 'Argentinian Superliga': 25.325551232166017,\n",
       " 'English Premier League': 24.832807570977916,\n",
       " 'Italian Serie B': 25.042071197411005,\n",
       " 'Belgian First Division A': 24.05581395348837,\n",
       " 'French Ligue 2': 24.82429906542056,\n",
       " 'English League One': 24.279251170046802,\n",
       " 'Campeonato Brasileiro Série A': 28.975,\n",
       " 'Swiss Super League': 24.136186770428015,\n",
       " 'Korean K League Classic': 26.267080745341616,\n",
       " 'Turkish Süper Lig': 26.4868154158215,\n",
       " 'Spanish Segunda División': 25.05128205128205,\n",
       " 'Italian Serie A': 25.21119133574007,\n",
       " 'Finnish Veikkausliiga': 23.59259259259259,\n",
       " 'Chilian Primera División': 28.975,\n",
       " 'Ukrainian Premier League': 25.958333333333332,\n",
       " 'Japanese J1 League': 26.65057915057915,\n",
       " 'German 3. Liga': 24.142300194931774,\n",
       " 'Rep. Ireland Premier Division': 24.010563380281692,\n",
       " 'Czech Liga': 27.333333333333332,\n",
       " 'Portuguese Primeira Liga': 25.05765407554672,\n",
       " 'Holland Eredivisie': 23.264462809917354,\n",
       " 'German Bundesliga': 24.137667304015295,\n",
       " 'Saudi Professional League': 25.760493827160495,\n",
       " 'English Championship': 24.923512747875353,\n",
       " 'Australian A-League': 25.52654867256637,\n",
       " 'Danish Superliga': 24.26795580110497,\n",
       " 'Mexican Liga MX': 25.833009708737865,\n",
       " 'English League Two': 24.357723577235774,\n",
       " 'French Ligue 1': 24.31239388794567,\n",
       " 'Greek Super League': 25.339449541284402,\n",
       " 'Austrian Bundesliga': 24.094117647058823,\n",
       " 'USA Major League Soccer': 26.009615384615383,\n",
       " 'German 2. Bundesliga': 24.557956777996072,\n",
       " 'Swedish Allsvenskan': 24.97142857142857,\n",
       " 'Polish Ekstraklasa': 25.70048309178744,\n",
       " 'Spanish Primera División': 25.015463917525775}"
      ]
     },
     "execution_count": 34,
     "metadata": {},
     "output_type": "execute_result"
    }
   ],
   "source": [
    "#q19: what is the average player age per league?\n",
    "league_list = list(set(get_column(5)))\n",
    "league_sumage_dict = {}\n",
    "league_aveage_dict = {}\n",
    "for i in range(len(player_data)):\n",
    "    if player_data[i][5] not in league_sumage_dict.keys():\n",
    "        league_sumage_dict[player_data[i][5]] = 0\n",
    "    league_sumage_dict[player_data[i][5]] = league_sumage_dict[player_data[i][5]] + float(player_data[i][2])\n",
    "for i in league_list:\n",
    "    league_aveage_dict[i] = league_sumage_dict[i] / idx_count('league')[i]\n",
    "league_aveage_dict"
   ]
  },
  {
   "cell_type": "code",
   "execution_count": 35,
   "metadata": {},
   "outputs": [
    {
     "data": {
      "text/plain": [
       "'Campeonato Brasileiro Série A'"
      ]
     },
     "execution_count": 35,
     "metadata": {},
     "output_type": "execute_result"
    }
   ],
   "source": [
    "#q20: which league has the highest average age?\n",
    "sorted(league_aveage_dict.items(), key = lambda x:x[1], reverse = True)[0][0]"
   ]
  },
  {
   "cell_type": "code",
   "execution_count": null,
   "metadata": {},
   "outputs": [],
   "source": []
  }
 ],
 "metadata": {
  "kernelspec": {
   "display_name": "Python 3",
   "language": "python",
   "name": "python3"
  },
  "language_info": {
   "codemirror_mode": {
    "name": "ipython",
    "version": 3
   },
   "file_extension": ".py",
   "mimetype": "text/x-python",
   "name": "python",
   "nbconvert_exporter": "python",
   "pygments_lexer": "ipython3",
   "version": "3.7.4"
  }
 },
 "nbformat": 4,
 "nbformat_minor": 2
}
