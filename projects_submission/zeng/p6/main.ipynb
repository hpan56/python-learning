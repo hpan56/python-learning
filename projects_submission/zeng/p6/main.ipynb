{
 "cells": [
  {
   "cell_type": "code",
   "execution_count": 2,
   "metadata": {},
   "outputs": [],
   "source": [
    "import csv\n",
    "\n",
    "# copied from https://automatetheboringstuff.com/chapter14/\n",
    "def process_csv(filename):\n",
    "    exampleFile = open(filename, encoding=\"utf-8\")\n",
    "    exampleReader = csv.reader(exampleFile)\n",
    "    exampleData = list(exampleReader)\n",
    "    return exampleData\n",
    "\n",
    "# use process_csv to pull out the header and data rows\n",
    "csv_rows = process_csv(\"wine.csv\")\n",
    "csv_header = csv_rows[0]\n",
    "csv_data = csv_rows[1:]"
   ]
  },
  {
   "cell_type": "code",
   "execution_count": null,
   "metadata": {},
   "outputs": [],
   "source": [
    "\"\"\"\n",
    "Q11: what is the average points-per-dollar (PPD) ratio of the \"Heitz\" winery?\n",
    "In this question, we're trying to find the best value using the points (the rating) and price (cost in dollars) columns.\n",
    "\n",
    "Be careful! You need to compute the ratio for each wine of the given winery, then take the average of those ratios. Simply dividing the sum of all points by the sum of all prices will calculates the wrong answer.\n",
    "\n",
    "Q12: what is the average PPD of the \"Ponzi\" winery?\n",
    "Q13: which winery in New Zealand has the highest average PPD?\n",
    "Consider writing a function to answer this and Q14 and Q15 with the same code.\n",
    "\n",
    "Q14: which winery in Australia has the highest average PPD?\n",
    "Q15: which winery in Canada has the highest average PPD?\n",
    "Q16: which wine varieties are produced by the \"Quinta Nova de Nossa Senhora do Carmo\" winery?\n",
    "Produce a Python list with no duplicates.\n",
    "\n",
    "Q17: which wine varieties are produced by the \"Adega Cooperativa de Borba\" winery?\n",
    "Q18: which wine varieties are produced by the \"Global Wines\" winery?\n",
    "Q19: what percentage of the varieties produced by \"Quinta Nova de Nossa Senhora do Carmo\" are also produced by \"Adega Cooperativa de Borba\"?\n",
    "Quinta Nova wants to better understand their competition, so they hired a savvy data scientist (you!) to keep an eye on the competition.\n",
    "\n",
    "Q20: what percentage of the varieties produced by \"Quinta Nova de Nossa Senhora do Carmo\" are also produced by \"Global Wines\"?\n",
    "Cheers!\"\"\""
   ]
  },
  {
   "cell_type": "code",
   "execution_count": 20,
   "metadata": {},
   "outputs": [],
   "source": [
    "#Q1: which country names are listed in the country column of the dataset?\n",
    "#Your output should be in the form of a Python list containing the country names. \n",
    "#The tests don't care about the order, but there should should be no duplicate entries in the lists. \n",
    "#Also, some country names are missing in the dataset (real-life data is often messy, unfortunately!). \n",
    "#Missing values are represented as None, but you should make sure None does not appear in your answer list.\n",
    "country_names = []\n",
    "i = 0\n",
    "for i in range(len(csv_data)):\n",
    "    if csv_data[i][0] != \"\":\n",
    "        if csv_data[i][0] not in country_names:\n",
    "            country_names.append(csv_data[i][0])\n"
   ]
  },
  {
   "cell_type": "code",
   "execution_count": 27,
   "metadata": {},
   "outputs": [
    {
     "data": {
      "text/plain": [
       "39.40787623066104"
      ]
     },
     "execution_count": 27,
     "metadata": {},
     "output_type": "execute_result"
    }
   ],
   "source": [
    "#Q2: what is the average wine price?\n",
    "#Be careful! There may be missing price information for some rows, so it's best to skip those.\n",
    "n = 0\n",
    "price_sum = 0\n",
    "for i in range(len(csv_data)):\n",
    "    if csv_data[i][2] != \"\":\n",
    "        price_sum += float(csv_data[i][2])\n",
    "        n += 1\n",
    "price_sum/n"
   ]
  },
  {
   "cell_type": "code",
   "execution_count": 29,
   "metadata": {},
   "outputs": [
    {
     "data": {
      "text/plain": [
       "['Tinta de Toro',\n",
       " 'Tempranillo',\n",
       " 'Tempranillo Blend',\n",
       " 'Mencía',\n",
       " 'Palomino',\n",
       " 'Monastrell',\n",
       " 'Albariño',\n",
       " 'Sparkling Blend',\n",
       " 'Godello',\n",
       " 'Red Blend',\n",
       " 'White Blend',\n",
       " 'Sherry',\n",
       " 'Garnacha',\n",
       " 'Moscatel',\n",
       " 'Garnacha Blanca',\n",
       " 'Grenache-Syrah']"
      ]
     },
     "execution_count": 29,
     "metadata": {},
     "output_type": "execute_result"
    }
   ],
   "source": [
    "#Q3: which wine varieties are produced by Spain?\n",
    "#Answer in the form of a list containing no duplicates (for this and future questions).\n",
    "varieties_spain = []\n",
    "for i in range(len(csv_data)):\n",
    "    if csv_data[i][0] == \"Spain\":\n",
    "        if csv_data[i][3] not in varieties_spain:\n",
    "            varieties_spain.append(csv_data[i][3])\n",
    "varieties_spain"
   ]
  },
  {
   "cell_type": "code",
   "execution_count": 39,
   "metadata": {},
   "outputs": [
    {
     "data": {
      "text/plain": [
       "['Château Pégau',\n",
       " 'Hawk Watch Winery',\n",
       " 'Laird',\n",
       " 'MCV',\n",
       " 'Tetra',\n",
       " 'Beronia',\n",
       " 'Adelaida Cellars',\n",
       " 'Palmeri',\n",
       " 'Sevtap',\n",
       " 'Montes',\n",
       " 'Fess Parker',\n",
       " 'Andrew Murray',\n",
       " 'Clos La Chance']"
      ]
     },
     "execution_count": 39,
     "metadata": {},
     "output_type": "execute_result"
    }
   ],
   "source": [
    "#Q4: which wineries make wines containing the phrase \"beef\" in the description?\n",
    "#This shoud match anything containing beef (in any case), regardless of spacing.\n",
    "def wine_des_find(x, list_name):\n",
    "    for i in range(len(csv_data)):\n",
    "        if x in csv_data[i][csv_header.index('description')]:\n",
    "            if csv_data[i][csv_header.index('winery')] not in list_name:\n",
    "                list_name.append(csv_data[i][csv_header.index('winery')])\n",
    "    return list_name\n",
    "                \n",
    "wineries_beef = []\n",
    "wine_des_find('beef', wineries_beef)\n"
   ]
  },
  {
   "cell_type": "code",
   "execution_count": null,
   "metadata": {},
   "outputs": [],
   "source": [
    "\"\"\"\n",
    "If you liked Professor Langdon's adventures in Da Vinci Code, you'll have fun with this one. :)\n",
    "An anagram is a word or phrase formed by rearranging the letters of a different word or phrase, \n",
    "using all the original letters exactly once. \n",
    "(Read more here: https://en.wikipedia.org/wiki/Anagram). \n",
    "For our purposes, we'll ignore case and spaces when considering whether two words are anagrams of each other.\n",
    "Hint: although you'll need to loop over all the names to check for anagrams, \n",
    "checking whether a single word is an anagram of another word does not require writing a loop. \n",
    "So if you're writing something complicated, review the string methods and sequence operations \n",
    "to see if there is a short, clever solution.\n",
    "\n",
    "Consider writing a function to solve Q7 and Q8 with the same code.\n",
    "\n",
    "Q8: which wine varieties are anagrams of the phrase \"Banned Petrol Mill\".\"\"\""
   ]
  },
  {
   "cell_type": "code",
   "execution_count": 42,
   "metadata": {},
   "outputs": [
    {
     "data": {
      "text/plain": [
       "['Santa Cruz Mountain Vineyard',\n",
       " 'Stephen Ross',\n",
       " 'Fattoria di Magliano',\n",
       " 'Quinta Nova de Nossa Senhora do Carmo',\n",
       " 'Byron',\n",
       " 'MCV',\n",
       " 'Dr. H. Thanisch (Erben Thanisch)',\n",
       " 'Benoît Girard',\n",
       " 'Domaine Ostertag',\n",
       " 'Concha y Toro',\n",
       " 'Sheldrake Point',\n",
       " 'Domaine Collotte',\n",
       " 'Domaine Allimant-Laugner',\n",
       " 'Margerum',\n",
       " 'Brander']"
      ]
     },
     "execution_count": 42,
     "metadata": {},
     "output_type": "execute_result"
    }
   ],
   "source": [
    "#Q5: which wineries make wines containing the phrase \"zesty\" in the description?\n",
    "wineries_zesty = []\n",
    "wine_des_find('zesty',wineries_zesty)"
   ]
  },
  {
   "cell_type": "code",
   "execution_count": 43,
   "metadata": {},
   "outputs": [
    {
     "data": {
      "text/plain": [
       "['Maurodos',\n",
       " 'Bodega Carmen Rodríguez',\n",
       " 'Val de Los Frailes',\n",
       " 'Matarromera',\n",
       " 'Palacio del Burgo']"
      ]
     },
     "execution_count": 43,
     "metadata": {},
     "output_type": "execute_result"
    }
   ],
   "source": [
    "#Q6: which wineries make wines containing the phrase \"black-fruit aroma\" in the description?\n",
    "wineries_bfa = []\n",
    "wine_des_find('black-fruit aroma',wineries_bfa)"
   ]
  },
  {
   "cell_type": "code",
   "execution_count": 64,
   "metadata": {},
   "outputs": [
    {
     "data": {
      "text/plain": [
       "['Cabernet Sauvignon']"
      ]
     },
     "execution_count": 64,
     "metadata": {},
     "output_type": "execute_result"
    }
   ],
   "source": [
    "#Q7: which wine varieties are anagrams of the phrase \"antibus governance\"?\n",
    "def wine_variety_ag(x):\n",
    "    zimu = sorted(x.lower().replace(\" \",\"\"))\n",
    "    varieties_shouji = []\n",
    "    for i in range(1501):\n",
    "        zimu_lie = sorted(csv_data[i][csv_header.index('variety')].lower().replace(\" \",\"\"))\n",
    "        if zimu_lie == zimu:\n",
    "            if csv_data[i][csv_header.index('variety')] not in varieties_shouji:\n",
    "                varieties_shouji.append(csv_data[i][csv_header.index('variety')])\n",
    "    return varieties_shouji\n",
    "\n",
    "wine_variety_ag('antibus governance')"
   ]
  },
  {
   "cell_type": "code",
   "execution_count": 65,
   "metadata": {},
   "outputs": [
    {
     "data": {
      "text/plain": [
       "['Tempranillo Blend']"
      ]
     },
     "execution_count": 65,
     "metadata": {},
     "output_type": "execute_result"
    }
   ],
   "source": [
    "#Q8: which wine varieties are anagrams of the phrase \"Banned Petrol Mill\".\"\"\"\n",
    "wine_variety_ag('Banned Petrol Mill')"
   ]
  },
  {
   "cell_type": "code",
   "execution_count": 78,
   "metadata": {},
   "outputs": [
    {
     "data": {
      "text/plain": [
       "'Pinot Noir'"
      ]
     },
     "execution_count": 78,
     "metadata": {},
     "output_type": "execute_result"
    }
   ],
   "source": [
    "#Q9: what is the highest-rated wine variety made in \"US\"?\n",
    "def wine_vari_hr(x):\n",
    "    wine_rate = 0\n",
    "    k = 0\n",
    "    for i in range(1501):\n",
    "        if csv_data[i][0] == x:\n",
    "            if float(csv_data[i][1]) >= wine_rate:\n",
    "                wine_rate = float(csv_data[i][1])\n",
    "                k = i\n",
    "    return csv_data[k][3]\n",
    "wine_vari_hr('US')"
   ]
  },
  {
   "cell_type": "code",
   "execution_count": 79,
   "metadata": {},
   "outputs": [
    {
     "data": {
      "text/plain": [
       "'Tinta de Toro'"
      ]
     },
     "execution_count": 79,
     "metadata": {},
     "output_type": "execute_result"
    }
   ],
   "source": [
    "#Q10:what is the highest-rated wine variety made in \"Spain\"?\n",
    "wine_vari_hr('Spain')"
   ]
  },
  {
   "cell_type": "code",
   "execution_count": 102,
   "metadata": {},
   "outputs": [
    {
     "data": {
      "text/plain": [
       "2.183421985815603"
      ]
     },
     "execution_count": 102,
     "metadata": {},
     "output_type": "execute_result"
    }
   ],
   "source": [
    "#Q11: what is the average points-per-dollar (PPD) ratio of the \"Heitz\" winery?\n",
    "winery_PPD = {}\n",
    "winery_num = {}\n",
    "for i in range(1501):\n",
    "    if csv_data[i][4] not in winery_PPD.keys():\n",
    "        winery_PPD[csv_data[i][4]] = 0\n",
    "        winery_num[csv_data[i][4]] = 0\n",
    "    if csv_data[i][2] != '':\n",
    "        winery_PPD[csv_data[i][4]] += (float(csv_data[i][1]) / float(csv_data[i][2]))\n",
    "        winery_num[csv_data[i][4]] += 1\n",
    "for i in winery_PPD.keys():\n",
    "    if winery_num[i] == 0:\n",
    "        winery_PPD[i] = winery_PPD[i]\n",
    "    else:\n",
    "        winery_PPD[i] = winery_PPD[i] / winery_num[i]\n",
    "winery_PPD['Heitz']"
   ]
  },
  {
   "cell_type": "code",
   "execution_count": 103,
   "metadata": {
    "scrolled": true
   },
   "outputs": [
    {
     "data": {
      "text/plain": [
       "1.288074888074888"
      ]
     },
     "execution_count": 103,
     "metadata": {},
     "output_type": "execute_result"
    }
   ],
   "source": [
    "#Q12: what is the average PPD of the \"Ponzi\" winery?\n",
    "winery_PPD['Ponzi']"
   ]
  },
  {
   "cell_type": "code",
   "execution_count": 109,
   "metadata": {},
   "outputs": [
    {
     "data": {
      "text/plain": [
       "('Spy Valley', 2.8181818181818183)"
      ]
     },
     "execution_count": 109,
     "metadata": {},
     "output_type": "execute_result"
    }
   ],
   "source": [
    "#Q13: which winery in New Zealand has the highest average PPD?\n",
    "winery_PPD_NZ = {}\n",
    "winery_num_NZ = {}\n",
    "for i in range(1501):\n",
    "    if csv_data[i][0] == 'New Zealand':\n",
    "        if csv_data[i][4] not in winery_PPD_NZ.keys():\n",
    "            winery_PPD_NZ[csv_data[i][4]] = 0\n",
    "            winery_num_NZ[csv_data[i][4]] = 0\n",
    "        if csv_data[i][2] != '':\n",
    "            winery_PPD_NZ[csv_data[i][4]] += (float(csv_data[i][1]) / float(csv_data[i][2]))\n",
    "            winery_num_NZ[csv_data[i][4]] += 1\n",
    "for i in winery_PPD_NZ.keys():\n",
    "    if winery_num_NZ[i] == 0:\n",
    "        winery_PPD_NZ[i] = winery_PPD_NZ[i]\n",
    "    else:\n",
    "        winery_PPD_NZ[i] = winery_PPD_NZ[i] / winery_num_NZ[i]\n",
    "sorted(winery_PPD_NZ.items(), key=lambda item: item[0])[-1]"
   ]
  },
  {
   "cell_type": "code",
   "execution_count": 111,
   "metadata": {},
   "outputs": [
    {
     "data": {
      "text/plain": [
       "('Riposte', 4.5)"
      ]
     },
     "execution_count": 111,
     "metadata": {},
     "output_type": "execute_result"
    }
   ],
   "source": [
    "#Q14: which winery in Australia has the highest average PPD?\n",
    "winery_PPD_AUS = {}\n",
    "winery_num_AUS = {}\n",
    "for i in range(1501):\n",
    "    if csv_data[i][0] == 'Australia':\n",
    "        if csv_data[i][4] not in winery_PPD_AUS.keys():\n",
    "            winery_PPD_AUS[csv_data[i][4]] = 0\n",
    "            winery_num_AUS[csv_data[i][4]] = 0\n",
    "        if csv_data[i][2] != '':\n",
    "            winery_PPD_AUS[csv_data[i][4]] += (float(csv_data[i][1]) / float(csv_data[i][2]))\n",
    "            winery_num_AUS[csv_data[i][4]] += 1\n",
    "for i in winery_PPD_AUS.keys():\n",
    "    if winery_num_AUS[i] == 0:\n",
    "        winery_PPD_AUS[i] = winery_PPD_AUS[i]\n",
    "    else:\n",
    "        winery_PPD_AUS[i] = winery_PPD_AUS[i] / winery_num_AUS[i]\n",
    "sorted(winery_PPD_AUS.items(), key=lambda item: item[0])[-1]"
   ]
  },
  {
   "cell_type": "code",
   "execution_count": 112,
   "metadata": {},
   "outputs": [
    {
     "data": {
      "text/plain": [
       "('Tinhorn Creek', 4.7368421052631575)"
      ]
     },
     "execution_count": 112,
     "metadata": {},
     "output_type": "execute_result"
    }
   ],
   "source": [
    "#Q15: which winery in Canada has the highest average PPD?\n",
    "winery_PPD_CAN = {}\n",
    "winery_num_CAN = {}\n",
    "for i in range(1501):\n",
    "    if csv_data[i][0] == 'Canada':\n",
    "        if csv_data[i][4] not in winery_PPD_CAN.keys():\n",
    "            winery_PPD_CAN[csv_data[i][4]] = 0\n",
    "            winery_num_CAN[csv_data[i][4]] = 0\n",
    "        if csv_data[i][2] != '':\n",
    "            winery_PPD_CAN[csv_data[i][4]] += (float(csv_data[i][1]) / float(csv_data[i][2]))\n",
    "            winery_num_CAN[csv_data[i][4]] += 1\n",
    "for i in winery_PPD_CAN.keys():\n",
    "    if winery_num_CAN[i] == 0:\n",
    "        winery_PPD_CAN[i] = winery_PPD_CAN[i]\n",
    "    else:\n",
    "        winery_PPD_CAN[i] = winery_PPD_CAN[i] / winery_num_CAN[i]\n",
    "sorted(winery_PPD_CAN.items(), key=lambda item: item[0])[-1]"
   ]
  },
  {
   "cell_type": "code",
   "execution_count": 114,
   "metadata": {},
   "outputs": [
    {
     "data": {
      "text/plain": [
       "['Portuguese White', 'Portuguese Rosé', 'Portuguese Red']"
      ]
     },
     "execution_count": 114,
     "metadata": {},
     "output_type": "execute_result"
    }
   ],
   "source": [
    "#Q16: which wine varieties are produced by the \"Quinta Nova de Nossa Senhora do Carmo\" winery?\n",
    "def wine_find_varieties(x):\n",
    "    wine_varieties = []\n",
    "    for i in range(1501):\n",
    "        if csv_data[i][4] == x:\n",
    "            if csv_data[i][3] not in wine_varieties:\n",
    "                wine_varieties.append(csv_data[i][3])\n",
    "    return wine_varieties\n",
    "wine_find_varieties('Quinta Nova de Nossa Senhora do Carmo')"
   ]
  },
  {
   "cell_type": "code",
   "execution_count": 116,
   "metadata": {},
   "outputs": [
    {
     "data": {
      "text/plain": [
       "['Portuguese Red', 'Portuguese White']"
      ]
     },
     "execution_count": 116,
     "metadata": {},
     "output_type": "execute_result"
    }
   ],
   "source": [
    "#Q17: which wine varieties are produced by the \"Adega Cooperativa de Borba\" winery?\n",
    "wine_find_varieties('Adega Cooperativa de Borba')"
   ]
  },
  {
   "cell_type": "code",
   "execution_count": 117,
   "metadata": {},
   "outputs": [
    {
     "data": {
      "text/plain": [
       "['Touriga Nacional', 'Portuguese Sparkling', 'Portuguese Red']"
      ]
     },
     "execution_count": 117,
     "metadata": {},
     "output_type": "execute_result"
    }
   ],
   "source": [
    "#Q18: which wine varieties are produced by the \"Global Wines\" winery?\n",
    "wine_find_varieties('Global Wines')"
   ]
  },
  {
   "cell_type": "code",
   "execution_count": 139,
   "metadata": {},
   "outputs": [
    {
     "name": "stdout",
     "output_type": "stream",
     "text": [
      "6.15%\n"
     ]
    }
   ],
   "source": [
    "#Q19: what percentage of the varieties produced by \"Quinta Nova de Nossa Senhora do Carmo\" \n",
    "#are also produced by \"Adega Cooperativa de Borba\"?\n",
    "def wine_var_competition(x, y):\n",
    "    n = 0\n",
    "    m = 0\n",
    "    wine_x = wine_find_varieties(x)\n",
    "    for i in range(1501):\n",
    "        if (csv_data[i][3] in wine_x):\n",
    "            n += 1\n",
    "            if csv_data[i][4] == y:\n",
    "                m += 1\n",
    "    print(\"{:.2%}\".format(m/n))\n",
    "wine_var_competition('Quinta Nova de Nossa Senhora do Carmo','Adega Cooperativa de Borba')"
   ]
  },
  {
   "cell_type": "code",
   "execution_count": 136,
   "metadata": {},
   "outputs": [
    {
     "name": "stdout",
     "output_type": "stream",
     "text": [
      "3.08%\n"
     ]
    }
   ],
   "source": [
    "#Q20: what percentage of the varieties produced by \"Quinta Nova de Nossa Senhora do Carmo\" \n",
    "#are also produced by \"Global Wines\"?\n",
    "wine_var_competition('Quinta Nova de Nossa Senhora do Carmo','Global Wines')"
   ]
  }
 ],
 "metadata": {
  "kernelspec": {
   "display_name": "Python 3",
   "language": "python",
   "name": "python3"
  },
  "language_info": {
   "codemirror_mode": {
    "name": "ipython",
    "version": 3
   },
   "file_extension": ".py",
   "mimetype": "text/x-python",
   "name": "python",
   "nbconvert_exporter": "python",
   "pygments_lexer": "ipython3",
   "version": "3.7.4"
  }
 },
 "nbformat": 4,
 "nbformat_minor": 2
}
