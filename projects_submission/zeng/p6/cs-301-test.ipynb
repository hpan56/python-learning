{
 "cells": [
  {
   "cell_type": "code",
   "execution_count": 1,
   "metadata": {},
   "outputs": [],
   "source": [
    "import csv\n",
    "\n",
    "# copied from https://automatetheboringstuff.com/chapter14/\n",
    "def process_csv(filename):\n",
    "    exampleFile = open(filename, encoding=\"utf-8\")\n",
    "    exampleReader = csv.reader(exampleFile)\n",
    "    exampleData = list(exampleReader)\n",
    "    return exampleData\n",
    "\n",
    "# use process_csv to pull out the header and data rows\n",
    "csv_rows = process_csv(\"wine.csv\")\n",
    "csv_header = csv_rows[0]\n",
    "csv_data = csv_rows[1:]"
   ]
  },
  {
   "cell_type": "code",
   "execution_count": 2,
   "metadata": {},
   "outputs": [
    {
     "data": {
      "text/plain": [
       "'\\nQ11: what is the average points-per-dollar (PPD) ratio of the \"Heitz\" winery?\\nIn this question, we\\'re trying to find the best value using the points (the rating) and price (cost in dollars) columns.\\n\\nBe careful! You need to compute the ratio for each wine of the given winery, then take the average of those ratios. Simply dividing the sum of all points by the sum of all prices will calculates the wrong answer.\\n\\nQ12: what is the average PPD of the \"Ponzi\" winery?\\nQ13: which winery in New Zealand has the highest average PPD?\\nConsider writing a function to answer this and Q14 and Q15 with the same code.\\n\\nQ14: which winery in Australia has the highest average PPD?\\nQ15: which winery in Canada has the highest average PPD?\\nQ16: which wine varieties are produced by the \"Quinta Nova de Nossa Senhora do Carmo\" winery?\\nProduce a Python list with no duplicates.\\n\\nQ17: which wine varieties are produced by the \"Adega Cooperativa de Borba\" winery?\\nQ18: which wine varieties are produced by the \"Global Wines\" winery?\\nQ19: what percentage of the varieties produced by \"Quinta Nova de Nossa Senhora do Carmo\" are also produced by \"Adega Cooperativa de Borba\"?\\nQuinta Nova wants to better understand their competition, so they hired a savvy data scientist (you!) to keep an eye on the competition.\\n\\nQ20: what percentage of the varieties produced by \"Quinta Nova de Nossa Senhora do Carmo\" are also produced by \"Global Wines\"?\\nCheers!'"
      ]
     },
     "execution_count": 2,
     "metadata": {},
     "output_type": "execute_result"
    }
   ],
   "source": [
    "\"\"\"\n",
    "Q11: what is the average points-per-dollar (PPD) ratio of the \"Heitz\" winery?\n",
    "In this question, we're trying to find the best value using the points (the rating) and price (cost in dollars) columns.\n",
    "\n",
    "Be careful! You need to compute the ratio for each wine of the given winery, then take the average of those ratios. Simply dividing the sum of all points by the sum of all prices will calculates the wrong answer.\n",
    "\n",
    "Q12: what is the average PPD of the \"Ponzi\" winery?\n",
    "Q13: which winery in New Zealand has the highest average PPD?\n",
    "Consider writing a function to answer this and Q14 and Q15 with the same code.\n",
    "\n",
    "Q14: which winery in Australia has the highest average PPD?\n",
    "Q15: which winery in Canada has the highest average PPD?\n",
    "Q16: which wine varieties are produced by the \"Quinta Nova de Nossa Senhora do Carmo\" winery?\n",
    "Produce a Python list with no duplicates.\n",
    "\n",
    "Q17: which wine varieties are produced by the \"Adega Cooperativa de Borba\" winery?\n",
    "Q18: which wine varieties are produced by the \"Global Wines\" winery?\n",
    "Q19: what percentage of the varieties produced by \"Quinta Nova de Nossa Senhora do Carmo\" are also produced by \"Adega Cooperativa de Borba\"?\n",
    "Quinta Nova wants to better understand their competition, so they hired a savvy data scientist (you!) to keep an eye on the competition.\n",
    "\n",
    "Q20: what percentage of the varieties produced by \"Quinta Nova de Nossa Senhora do Carmo\" are also produced by \"Global Wines\"?\n",
    "Cheers!\"\"\""
   ]
  },
  {
   "cell_type": "code",
   "execution_count": 3,
   "metadata": {},
   "outputs": [
    {
     "data": {
      "text/plain": [
       "['US',\n",
       " 'Spain',\n",
       " 'France',\n",
       " 'Italy',\n",
       " 'New Zealand',\n",
       " 'Bulgaria',\n",
       " 'Argentina',\n",
       " 'Australia',\n",
       " 'Portugal',\n",
       " 'Israel',\n",
       " 'South Africa',\n",
       " 'Greece',\n",
       " 'Chile',\n",
       " 'Morocco',\n",
       " 'Romania',\n",
       " 'Germany',\n",
       " 'Canada',\n",
       " 'Moldova',\n",
       " 'Hungary',\n",
       " 'Austria',\n",
       " 'Croatia',\n",
       " 'Slovenia',\n",
       " 'India']"
      ]
     },
     "execution_count": 3,
     "metadata": {},
     "output_type": "execute_result"
    }
   ],
   "source": [
    "#Q1: which country names are listed in the country column of the dataset?\n",
    "#Your output should be in the form of a Python list containing the country names. \n",
    "#The tests don't care about the order, but there should should be no duplicate entries in the lists. \n",
    "#Also, some country names are missing in the dataset (real-life data is often messy, unfortunately!). \n",
    "#Missing values are represented as None, but you should make sure None does not appear in your answer list.\n",
    "country_names = []\n",
    "i = 0\n",
    "for i in range(len(csv_data)):\n",
    "    if csv_data[i][0] != \"\":\n",
    "        if csv_data[i][0] not in country_names:\n",
    "            country_names.append(csv_data[i][0])\n",
    "country_names"
   ]
  },
  {
   "cell_type": "code",
   "execution_count": 4,
   "metadata": {},
   "outputs": [
    {
     "data": {
      "text/plain": [
       "39.40787623066104"
      ]
     },
     "execution_count": 4,
     "metadata": {},
     "output_type": "execute_result"
    }
   ],
   "source": [
    "#Q2: what is the average wine price?\n",
    "#Be careful! There may be missing price information for some rows, so it's best to skip those.\n",
    "n = 0\n",
    "price_sum = 0\n",
    "for i in range(len(csv_data)):\n",
    "    if csv_data[i][2] != \"\":\n",
    "        price_sum += float(csv_data[i][2])\n",
    "        n += 1\n",
    "price_sum/n"
   ]
  },
  {
   "cell_type": "code",
   "execution_count": 5,
   "metadata": {},
   "outputs": [
    {
     "data": {
      "text/plain": [
       "['Tinta de Toro',\n",
       " 'Tempranillo',\n",
       " 'Tempranillo Blend',\n",
       " 'Mencía',\n",
       " 'Palomino',\n",
       " 'Monastrell',\n",
       " 'Albariño',\n",
       " 'Sparkling Blend',\n",
       " 'Godello',\n",
       " 'Red Blend',\n",
       " 'White Blend',\n",
       " 'Sherry',\n",
       " 'Garnacha',\n",
       " 'Moscatel',\n",
       " 'Garnacha Blanca',\n",
       " 'Grenache-Syrah']"
      ]
     },
     "execution_count": 5,
     "metadata": {},
     "output_type": "execute_result"
    }
   ],
   "source": [
    "#Q3: which wine varieties are produced by Spain?\n",
    "#Answer in the form of a list containing no duplicates (for this and future questions).\n",
    "varieties_spain = []\n",
    "for i in range(len(csv_data)):\n",
    "    if csv_data[i][0] == \"Spain\":\n",
    "        if csv_data[i][3] not in varieties_spain:\n",
    "            varieties_spain.append(csv_data[i][3])\n",
    "varieties_spain"
   ]
  },
  {
   "cell_type": "code",
   "execution_count": 6,
   "metadata": {},
   "outputs": [
    {
     "data": {
      "text/plain": [
       "['Château Pégau',\n",
       " 'Hawk Watch Winery',\n",
       " 'Laird',\n",
       " 'MCV',\n",
       " 'Tetra',\n",
       " 'Beronia',\n",
       " 'Adelaida Cellars',\n",
       " 'Palmeri',\n",
       " 'Sevtap',\n",
       " 'Montes',\n",
       " 'Fess Parker',\n",
       " 'Andrew Murray',\n",
       " 'Clos La Chance']"
      ]
     },
     "execution_count": 6,
     "metadata": {},
     "output_type": "execute_result"
    }
   ],
   "source": [
    "#Q4: which wineries make wines containing the phrase \"beef\" in the description?\n",
    "#This shoud match anything containing beef (in any case), regardless of spacing.\n",
    "def wine_des_find(x, list_name):\n",
    "    for i in range(len(csv_data)):\n",
    "        if x in csv_data[i][csv_header.index('description')].lower():\n",
    "            if csv_data[i][csv_header.index('winery')] not in list_name:\n",
    "                list_name.append(csv_data[i][csv_header.index('winery')])\n",
    "    return list_name\n",
    "                \n",
    "wineries_beef = []\n",
    "wine_des_find('beef', wineries_beef)\n"
   ]
  },
  {
   "cell_type": "code",
   "execution_count": 7,
   "metadata": {},
   "outputs": [
    {
     "data": {
      "text/plain": [
       "['Santa Cruz Mountain Vineyard',\n",
       " 'Stephen Ross',\n",
       " 'Heron Hill',\n",
       " 'Fattoria di Magliano',\n",
       " 'Quinta Nova de Nossa Senhora do Carmo',\n",
       " 'Byron',\n",
       " 'Bürgermeister Willi Schweinhardt',\n",
       " 'MCV',\n",
       " 'Dr. H. Thanisch (Erben Thanisch)',\n",
       " 'Benoît Girard',\n",
       " 'Domaine Ostertag',\n",
       " 'Concha y Toro',\n",
       " 'Sheldrake Point',\n",
       " 'Domaine Collotte',\n",
       " 'Domaine Allimant-Laugner',\n",
       " 'Margerum',\n",
       " 'Brander']"
      ]
     },
     "execution_count": 7,
     "metadata": {},
     "output_type": "execute_result"
    }
   ],
   "source": [
    "#Q5: which wineries make wines containing the phrase \"zesty\" in the description?\n",
    "wineries_zesty = []\n",
    "wine_des_find('zesty',wineries_zesty)"
   ]
  },
  {
   "cell_type": "code",
   "execution_count": 8,
   "metadata": {},
   "outputs": [
    {
     "data": {
      "text/plain": [
       "['Maurodos',\n",
       " 'Bodega Carmen Rodríguez',\n",
       " 'Val de Los Frailes',\n",
       " 'Matarromera',\n",
       " 'Palacio del Burgo']"
      ]
     },
     "execution_count": 8,
     "metadata": {},
     "output_type": "execute_result"
    }
   ],
   "source": [
    "#Q6: which wineries make wines containing the phrase \"black-fruit aroma\" in the description?\n",
    "wineries_bfa = []\n",
    "wine_des_find('black-fruit aroma',wineries_bfa)"
   ]
  },
  {
   "cell_type": "code",
   "execution_count": 9,
   "metadata": {},
   "outputs": [
    {
     "data": {
      "text/plain": [
       "['Cabernet Sauvignon']"
      ]
     },
     "execution_count": 9,
     "metadata": {},
     "output_type": "execute_result"
    }
   ],
   "source": [
    "#Q7: which wine varieties are anagrams of the phrase \"antibus governance\"?\n",
    "def wine_variety_ag(x):\n",
    "    zimu = sorted(x.lower().replace(\" \",\"\"))\n",
    "    varieties_shouji = []\n",
    "    for i in range(1501):\n",
    "        zimu_lie = sorted(csv_data[i][csv_header.index('variety')].lower().replace(\" \",\"\"))\n",
    "        if zimu_lie == zimu:\n",
    "            if csv_data[i][csv_header.index('variety')] not in varieties_shouji:\n",
    "                varieties_shouji.append(csv_data[i][csv_header.index('variety')])\n",
    "    return varieties_shouji\n",
    "\n",
    "wine_variety_ag('antibus governance')"
   ]
  },
  {
   "cell_type": "code",
   "execution_count": 10,
   "metadata": {},
   "outputs": [
    {
     "data": {
      "text/plain": [
       "['Tempranillo Blend']"
      ]
     },
     "execution_count": 10,
     "metadata": {},
     "output_type": "execute_result"
    }
   ],
   "source": [
    "#Q8: which wine varieties are anagrams of the phrase \"Banned Petrol Mill\".\"\"\"\n",
    "wine_variety_ag('Banned Petrol Mill')"
   ]
  },
  {
   "cell_type": "code",
   "execution_count": 11,
   "metadata": {},
   "outputs": [
    {
     "data": {
      "text/plain": [
       "['Cabernet Sauvignon', 'Sauvignon Blanc', 'Pinot Noir']"
      ]
     },
     "execution_count": 11,
     "metadata": {},
     "output_type": "execute_result"
    }
   ],
   "source": [
    "#Q9: what is the highest-rated wine variety made in \"US\"?\n",
    "def wine_vari_hr(x):\n",
    "    wine_rate = 0\n",
    "    wine_list = []\n",
    "    k = 0\n",
    "    for i in range(1501):\n",
    "        if csv_data[i][0] == x:\n",
    "            if float(csv_data[i][1]) >= wine_rate:\n",
    "                wine_rate = float(csv_data[i][1])\n",
    "                k = i\n",
    "                wine_list.append(csv_data[k][3])\n",
    "    return wine_list\n",
    "(wine_vari_hr('US'))"
   ]
  },
  {
   "cell_type": "code",
   "execution_count": 12,
   "metadata": {},
   "outputs": [
    {
     "data": {
      "text/plain": [
       "['Tinta de Toro']"
      ]
     },
     "execution_count": 12,
     "metadata": {},
     "output_type": "execute_result"
    }
   ],
   "source": [
    "#Q10:what is the highest-rated wine variety made in \"Spain\"?\n",
    "wine_vari_hr('Spain')"
   ]
  },
  {
   "cell_type": "code",
   "execution_count": 13,
   "metadata": {},
   "outputs": [
    {
     "data": {
      "text/plain": [
       "2.183421985815603"
      ]
     },
     "execution_count": 13,
     "metadata": {},
     "output_type": "execute_result"
    }
   ],
   "source": [
    "#Q11: what is the average points-per-dollar (PPD) ratio of the \"Heitz\" winery?\n",
    "winery_PPD = {}\n",
    "winery_num = {}\n",
    "for i in range(1501):\n",
    "    if csv_data[i][4] not in winery_PPD.keys():\n",
    "        winery_PPD[csv_data[i][4]] = 0\n",
    "        winery_num[csv_data[i][4]] = 0\n",
    "    if csv_data[i][2] != '':\n",
    "        winery_PPD[csv_data[i][4]] += (float(csv_data[i][1]) / float(csv_data[i][2]))\n",
    "        winery_num[csv_data[i][4]] += 1\n",
    "for i in winery_PPD.keys():\n",
    "    if winery_num[i] == 0:\n",
    "        winery_PPD[i] = winery_PPD[i]\n",
    "    else:\n",
    "        winery_PPD[i] = winery_PPD[i] / winery_num[i]\n",
    "winery_PPD['Heitz']"
   ]
  },
  {
   "cell_type": "code",
   "execution_count": 14,
   "metadata": {
    "scrolled": true
   },
   "outputs": [
    {
     "data": {
      "text/plain": [
       "1.288074888074888"
      ]
     },
     "execution_count": 14,
     "metadata": {},
     "output_type": "execute_result"
    }
   ],
   "source": [
    "#Q12: what is the average PPD of the \"Ponzi\" winery?\n",
    "winery_PPD['Ponzi']"
   ]
  },
  {
   "cell_type": "code",
   "execution_count": 15,
   "metadata": {},
   "outputs": [
    {
     "data": {
      "text/plain": [
       "'Spy Valley'"
      ]
     },
     "execution_count": 15,
     "metadata": {},
     "output_type": "execute_result"
    }
   ],
   "source": [
    "#Q13: which winery in New Zealand has the highest average PPD?\n",
    "winery_PPD_NZ = {}\n",
    "winery_num_NZ = {}\n",
    "for i in range(1501):\n",
    "    if csv_data[i][0] == 'New Zealand':\n",
    "        if csv_data[i][4] not in winery_PPD_NZ.keys():\n",
    "            winery_PPD_NZ[csv_data[i][4]] = 0\n",
    "            winery_num_NZ[csv_data[i][4]] = 0\n",
    "        if csv_data[i][2] != '':\n",
    "            winery_PPD_NZ[csv_data[i][4]] += (float(csv_data[i][1]) / float(csv_data[i][2]))\n",
    "            winery_num_NZ[csv_data[i][4]] += 1\n",
    "for i in winery_PPD_NZ.keys():\n",
    "    if winery_num_NZ[i] == 0:\n",
    "        winery_PPD_NZ[i] = winery_PPD_NZ[i]\n",
    "    else:\n",
    "        winery_PPD_NZ[i] = winery_PPD_NZ[i] / winery_num_NZ[i]\n",
    "sorted(winery_PPD_NZ.items(), key=lambda item: item[0])[-1][0]"
   ]
  },
  {
   "cell_type": "code",
   "execution_count": 16,
   "metadata": {},
   "outputs": [
    {
     "data": {
      "text/plain": [
       "'Riposte'"
      ]
     },
     "execution_count": 16,
     "metadata": {},
     "output_type": "execute_result"
    }
   ],
   "source": [
    "#Q14: which winery in Australia has the highest average PPD?\n",
    "winery_PPD_AUS = {}\n",
    "winery_num_AUS = {}\n",
    "for i in range(1501):\n",
    "    if csv_data[i][0] == 'Australia':\n",
    "        if csv_data[i][4] not in winery_PPD_AUS.keys():\n",
    "            winery_PPD_AUS[csv_data[i][4]] = 0\n",
    "            winery_num_AUS[csv_data[i][4]] = 0\n",
    "        if csv_data[i][2] != '':\n",
    "            winery_PPD_AUS[csv_data[i][4]] += (float(csv_data[i][1]) / float(csv_data[i][2]))\n",
    "            winery_num_AUS[csv_data[i][4]] += 1\n",
    "for i in winery_PPD_AUS.keys():\n",
    "    if winery_num_AUS[i] == 0:\n",
    "        winery_PPD_AUS[i] = winery_PPD_AUS[i]\n",
    "    else:\n",
    "        winery_PPD_AUS[i] = winery_PPD_AUS[i] / winery_num_AUS[i]\n",
    "sorted(winery_PPD_AUS.items(), key=lambda item: item[0])[-1][0]"
   ]
  },
  {
   "cell_type": "code",
   "execution_count": 17,
   "metadata": {},
   "outputs": [
    {
     "data": {
      "text/plain": [
       "'Cave Spring'"
      ]
     },
     "execution_count": 17,
     "metadata": {},
     "output_type": "execute_result"
    }
   ],
   "source": [
    "#Q15: which winery in Canada has the highest average PPD?\n",
    "winery_PPD_CAN = {}\n",
    "winery_num_CAN = {}\n",
    "for i in range(1501):\n",
    "    if csv_data[i][0] == 'Canada':\n",
    "        if csv_data[i][4] not in winery_PPD_CAN.keys():\n",
    "            winery_PPD_CAN[csv_data[i][4]] = 0\n",
    "            winery_num_CAN[csv_data[i][4]] = 0\n",
    "        if csv_data[i][2] != '':\n",
    "            winery_PPD_CAN[csv_data[i][4]] += (float(csv_data[i][1]) / float(csv_data[i][2]))\n",
    "            winery_num_CAN[csv_data[i][4]] += 1\n",
    "for i in winery_PPD_CAN.keys():\n",
    "    if winery_num_CAN[i] == 0:\n",
    "        winery_PPD_CAN[i] = winery_PPD_CAN[i]\n",
    "    else:\n",
    "        winery_PPD_CAN[i] = winery_PPD_CAN[i] / winery_num_CAN[i]\n",
    "\n",
    "sorted(winery_PPD_CAN.items(), key=lambda item: item[1])[-1][0]"
   ]
  },
  {
   "cell_type": "code",
   "execution_count": 18,
   "metadata": {},
   "outputs": [
    {
     "data": {
      "text/plain": [
       "['Portuguese White', 'Portuguese Rosé', 'Portuguese Red']"
      ]
     },
     "execution_count": 18,
     "metadata": {},
     "output_type": "execute_result"
    }
   ],
   "source": [
    "#Q16: which wine varieties are produced by the \"Quinta Nova de Nossa Senhora do Carmo\" winery?\n",
    "def wine_find_varieties(x):\n",
    "    wine_varieties = []\n",
    "    for i in range(1501):\n",
    "        if csv_data[i][4] == x:\n",
    "            if csv_data[i][3] not in wine_varieties:\n",
    "                wine_varieties.append(csv_data[i][3])\n",
    "    return wine_varieties\n",
    "wine_find_varieties('Quinta Nova de Nossa Senhora do Carmo')"
   ]
  },
  {
   "cell_type": "code",
   "execution_count": 19,
   "metadata": {},
   "outputs": [
    {
     "data": {
      "text/plain": [
       "['Portuguese Red', 'Portuguese White']"
      ]
     },
     "execution_count": 19,
     "metadata": {},
     "output_type": "execute_result"
    }
   ],
   "source": [
    "#Q17: which wine varieties are produced by the \"Adega Cooperativa de Borba\" winery?\n",
    "wine_find_varieties('Adega Cooperativa de Borba')"
   ]
  },
  {
   "cell_type": "code",
   "execution_count": 20,
   "metadata": {},
   "outputs": [
    {
     "data": {
      "text/plain": [
       "['Touriga Nacional', 'Portuguese Sparkling', 'Portuguese Red']"
      ]
     },
     "execution_count": 20,
     "metadata": {},
     "output_type": "execute_result"
    }
   ],
   "source": [
    "#Q18: which wine varieties are produced by the \"Global Wines\" winery?\n",
    "wine_find_varieties('Global Wines')"
   ]
  },
  {
   "cell_type": "code",
   "execution_count": 21,
   "metadata": {},
   "outputs": [
    {
     "data": {
      "text/plain": [
       "66.66666666666667"
      ]
     },
     "execution_count": 21,
     "metadata": {},
     "output_type": "execute_result"
    }
   ],
   "source": [
    "#Q19: what percentage of the varieties produced by \"Quinta Nova de Nossa Senhora do Carmo\" \n",
    "#are also produced by \"Adega Cooperativa de Borba\"?\n",
    "def wine_var_competition(x, y):\n",
    "    wine_x = wine_find_varieties(x)\n",
    "    wine_y = wine_find_varieties(y)\n",
    "    n = 0\n",
    "    for i in wine_y:\n",
    "        if i in wine_x:\n",
    "            n += 1\n",
    "    return n*100/len(wine_x)\n",
    "wine_var_competition('Quinta Nova de Nossa Senhora do Carmo','Adega Cooperativa de Borba')"
   ]
  },
  {
   "cell_type": "code",
   "execution_count": 22,
   "metadata": {},
   "outputs": [
    {
     "data": {
      "text/plain": [
       "33.333333333333336"
      ]
     },
     "execution_count": 22,
     "metadata": {},
     "output_type": "execute_result"
    }
   ],
   "source": [
    "#Q20: what percentage of the varieties produced by \"Quinta Nova de Nossa Senhora do Carmo\" \n",
    "#are also produced by \"Global Wines\"?\n",
    "wine_var_competition('Quinta Nova de Nossa Senhora do Carmo','Global Wines')"
   ]
  }
 ],
 "metadata": {
  "kernelspec": {
   "display_name": "Python 3",
   "language": "python",
   "name": "python3"
  },
  "language_info": {
   "codemirror_mode": {
    "name": "ipython",
    "version": 3
   },
   "file_extension": ".py",
   "mimetype": "text/x-python",
   "name": "python",
   "nbconvert_exporter": "python",
   "pygments_lexer": "ipython3",
   "version": "3.7.4"
  }
 },
 "nbformat": 4,
 "nbformat_minor": 2
}
